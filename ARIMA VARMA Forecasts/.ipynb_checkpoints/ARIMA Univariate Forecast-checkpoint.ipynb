{
 "cells": [
  {
   "cell_type": "code",
   "execution_count": 1,
   "id": "034e995b",
   "metadata": {},
   "outputs": [
    {
     "data": {
      "text/plain": [
       "'\\nThe general method for the ARIMA implementation comes from:\\n\\nhttps://towardsdatascience.com/machine-learning-part-19-time-series-and-autoregressive-integrated-moving-average-model-arima-c1005347b0d7\\nhttps://www.machinelearningplus.com/time-series/arima-model-time-series-forecasting-python/\\n'"
      ]
     },
     "execution_count": 1,
     "metadata": {},
     "output_type": "execute_result"
    }
   ],
   "source": [
    "\"\"\"\n",
    "The general method for the ARIMA implementation comes from:\n",
    "\n",
    "https://towardsdatascience.com/machine-learning-part-19-time-series-and-autoregressive-integrated-moving-average-model-arima-c1005347b0d7\n",
    "https://www.machinelearningplus.com/time-series/arima-model-time-series-forecasting-python/\n",
    "\"\"\""
   ]
  },
  {
   "cell_type": "code",
   "execution_count": 2,
   "id": "01c61c4c",
   "metadata": {},
   "outputs": [],
   "source": [
    "import pandas as pd\n",
    "import numpy as np\n",
    "from statsmodels.tsa.stattools import adfuller\n",
    "from statsmodels.tsa.arima.model import ARIMA\n",
    "from statsmodels.tsa.arima.model import ARIMAResults\n",
    "from sklearn import metrics\n",
    "from statsmodels.graphics.tsaplots import plot_acf, plot_pacf\n",
    "import matplotlib.pyplot as plt\n",
    "from pmdarima import auto_arima\n",
    "from sklearn.model_selection import TimeSeriesSplit\n",
    "\n",
    "#Imported to ignore warnings from ARIMA\n",
    "import warnings\n",
    "warnings.filterwarnings(\"ignore\")\n",
    "\n",
    "#10 import statements"
   ]
  },
  {
   "cell_type": "code",
   "execution_count": 3,
   "id": "531f050d",
   "metadata": {},
   "outputs": [],
   "source": [
    "pd.set_option('display.max_rows', 500)\n",
    "pd.set_option('display.max_columns', 500)\n",
    "pd.set_option('display.width', 1000)\n",
    "\n",
    "#3 lines written by me"
   ]
  },
  {
   "cell_type": "code",
   "execution_count": 4,
   "id": "b12d51fa",
   "metadata": {},
   "outputs": [],
   "source": [
    "\"\"\"\n",
    "Easy formatting data written by me\n",
    "\"\"\"\n",
    "\n",
    "def read_data(pathname, indicatorcode):\n",
    "    df = pd.read_excel(pathname)\n",
    "    \n",
    "    df2 = df.loc[df['Indicator Code'] == indicatorcode]\n",
    "    \n",
    "    #Dropping these columns as they are not needed for the forecast\n",
    "    df2 = df2.drop(columns=['Country Name', 'Country Code', 'Indicator Name', 'Indicator Code'])\n",
    "    \n",
    "    df3 = df2.swapaxes('index', 'columns')\n",
    "    \n",
    "    return df3\n",
    "\n",
    "#6 lines written by me"
   ]
  },
  {
   "cell_type": "code",
   "execution_count": 5,
   "id": "34f7e34a",
   "metadata": {},
   "outputs": [],
   "source": [
    "\"\"\"\n",
    "Method for this block of code is refactored from:\n",
    "\n",
    "https://towardsdatascience.com/machine-learning-part-19-time-series-and-autoregressive-integrated-moving-average-model-arima-c1005347b0d7\n",
    "\"\"\"\n",
    "\n",
    "def stationarityTest(data):\n",
    "    \n",
    "    #Find out if the data is stationary or not\n",
    "    #Using Rolling Statistics (Rolling Mean and Rolling Std)\n",
    "    rolling_mean = data.rolling(window=10).mean()\n",
    "    rolling_std = data.rolling(window=10).std()\n",
    "    \n",
    "    plt.plot(data, color='blue', label='original')\n",
    "    plt.plot(rolling_mean, color='red', label='Rolling Mean')\n",
    "    plt.plot(rolling_std, color='green', label='Rolling Std')\n",
    "    plt.legend(loc='best')\n",
    "    plt.title('RM vs RSTD vs ORI')\n",
    "    \n",
    "    #Augmented Dickey-Fuller Test\n",
    "    result = adfuller(data.dropna())\n",
    "    print('ADF Statistic: ', result[0])\n",
    "    print('p-value: ', result[1])\n",
    "    print('Critical Values:')\n",
    "    for key, value in result[4].items():\n",
    "        print('\\t{}: {}'.format(key, value))\n",
    "        \n",
    "#14 lines from guide"
   ]
  },
  {
   "cell_type": "code",
   "execution_count": 6,
   "id": "cef9a239",
   "metadata": {},
   "outputs": [],
   "source": [
    "\"\"\"\n",
    "Order Differencing function inspired and adapted from:\n",
    "\n",
    "https://www.machinelearningplus.com/time-series/arima-model-time-series-forecasting-python/\n",
    "\"\"\"\n",
    "\n",
    "def make_stationary(data):\n",
    "    \n",
    "#1st Order Differencing\n",
    "    data_first_od = data.diff()\n",
    "    data_first_od_dropped = data_first_od.dropna(inplace=True)\n",
    "    \n",
    "    return data_first_od"
   ]
  },
  {
   "cell_type": "code",
   "execution_count": 7,
   "id": "44bedfc0",
   "metadata": {},
   "outputs": [],
   "source": [
    "\"\"\"\n",
    "line 9,10,15 (MDA) adapted and modified from: https://gist.github.com/bshishov/5dc237f59f019b26145648e2124ca1c9\n",
    "\n",
    "line 12 (MAPE) adapted from: https://www.statology.org/mape-python/\n",
    "\"\"\"\n",
    "\n",
    "def performance_metrics(y_test, y_pred):\n",
    "    \n",
    "    sign1 = np.sign(np.array(y_test[1:]) - np.array(y_test[:-1]))\n",
    "    sign2 = np.sign(np.array(y_pred[1:]) - np.array(y_pred[:-1]))\n",
    "    rmse = np.sqrt(metrics.mean_squared_error(y_test, y_pred))\n",
    "    mape = np.mean(np.abs((y_test - y_pred) / y_test )) *100\n",
    "    mae = metrics.mean_absolute_error(y_test, y_pred)\n",
    "    r2 = metrics.r2_score(y_test, y_pred)\n",
    "    mda = np.mean((sign1 == sign2).astype(int))\n",
    "    mean = np.mean(y_test)\n",
    "    si = (rmse/mean)*100\n",
    "    \n",
    "    print(\"RMSE: \", rmse)\n",
    "    print(\"MAPE: \", mape)\n",
    "    print(\"MAE: \", mae)\n",
    "    print(\"Scatter Index: \", si)\n",
    "    print(\"MDA: \", mda)\n",
    "    print(\"Mean of actual: \", mean)\n",
    "    \n",
    "#16 lines, 9 lines written by me, 4 documentation 3 modi"
   ]
  },
  {
   "cell_type": "code",
   "execution_count": 8,
   "id": "3c33570d",
   "metadata": {},
   "outputs": [],
   "source": [
    "\"\"\"\n",
    "Commented out line was the line I used for local testing. Uncommented 'data ='\n",
    "should be good for universal path\n",
    "\n",
    "universal path with help from: \n",
    "\n",
    "https://stackoverflow.com/questions/50119792/python-import-excel-file-using-relative-path\n",
    "\n",
    "INDICATOR CODES:\n",
    "\n",
    "GDP GROWTH = NY.GDP.MKTP.KD.ZG\n",
    "\n",
    "INFLATION = NY.GDP.DEFL.KD.ZG\n",
    "\n",
    "UNEMPLOYEMENT MALE = SL.UEM.TOTL.MA.ZS\n",
    "\n",
    "UNEMPLOYMENT FEMALE = SL.UEM.TOTL.FE.ZS\n",
    "\n",
    "REAL INTEREST RATE = FR.INR.RINR\n",
    "\"\"\"\n",
    "\n",
    "#data = read_data('/Users/farhanhabibie/Desktop/Farhan Thesis Code /UG-Project-Farhan/Indonesia Macro Dataset.xlsx', \n",
    "#                     'SL.UEM.TOTL.FE.ZS')\n",
    "\n",
    "data = read_data(r'./../Indonesia Macro Dataset.xlsx', 'NY.GDP.MKTP.KD.ZG')\n",
    "\n",
    "data = data.dropna()\n",
    "data_first_ord = make_stationary(data)\n",
    "#1 line written by me"
   ]
  },
  {
   "cell_type": "code",
   "execution_count": 9,
   "id": "378142dd",
   "metadata": {},
   "outputs": [
    {
     "name": "stdout",
     "output_type": "stream",
     "text": [
      "ADF Statistic:  -5.23070103191413\n",
      "p-value:  7.6080169097595066e-06\n",
      "Critical Values:\n",
      "\t1%: -3.548493559596539\n",
      "\t5%: -2.912836594776334\n",
      "\t10%: -2.594129155766944\n"
     ]
    },
    {
     "data": {
      "image/png": "[encoded data removed]",
      "text/plain": [
       "<Figure size 432x288 with 1 Axes>"
      ]
     },
     "metadata": {
      "needs_background": "light"
     },
     "output_type": "display_data"
    }
   ],
   "source": [
    "stationarityTest(data)"
   ]
  },
  {
   "cell_type": "code",
   "execution_count": 10,
   "id": "444d9e5a",
   "metadata": {},
   "outputs": [
    {
     "name": "stdout",
     "output_type": "stream",
     "text": [
      "ADF Statistic:  -5.235328018240819\n",
      "p-value:  7.443533398454617e-06\n",
      "Critical Values:\n",
      "\t1%: -3.568485864\n",
      "\t5%: -2.92135992\n",
      "\t10%: -2.5986616\n"
     ]
    },
    {
     "data": {
      "image/png": "[encoded data removed]",
      "text/plain": [
       "<Figure size 432x288 with 1 Axes>"
      ]
     },
     "metadata": {
      "needs_background": "light"
     },
     "output_type": "display_data"
    }
   ],
   "source": [
    "stationarityTest(data_first_ord.diff())"
   ]
  },
  {
   "cell_type": "code",
   "execution_count": 11,
   "id": "1efdbe5a",
   "metadata": {},
   "outputs": [
    {
     "data": {
      "image/png": "[encoded data removed]",
      "text/plain": [
       "<Figure size 432x288 with 1 Axes>"
      ]
     },
     "execution_count": 11,
     "metadata": {},
     "output_type": "execute_result"
    },
    {
     "data": {
      "image/png": "[encoded data removed]",
      "text/plain": [
       "<Figure size 432x288 with 1 Axes>"
      ]
     },
     "metadata": {
      "needs_background": "light"
     },
     "output_type": "display_data"
    },
    {
     "data": {
      "image/png": "[encoded data removed]",
      "text/plain": [
       "<Figure size 432x288 with 1 Axes>"
      ]
     },
     "metadata": {
      "needs_background": "light"
     },
     "output_type": "display_data"
    }
   ],
   "source": [
    "#Find AR order(p), differencing order(d), MA(q)\n",
    "\n",
    "#Find AR order(p) using a PACF, only considering the \n",
    "plot_pacf(data.diff().dropna(), lags=13)\n",
    "\n",
    "#Find MA order (q) using acf plot\n",
    "plot_acf(data.diff().dropna())\n",
    "\n",
    "#2 lines from documentation"
   ]
  },
  {
   "cell_type": "code",
   "execution_count": 12,
   "id": "6607bd3c",
   "metadata": {},
   "outputs": [],
   "source": [
    "\"\"\"\n",
    "adapted and modified from: \n",
    "https://towardsdatascience.com/time-series-from-scratch-train-test-splits-and-evaluation-metrics-4fd654de1b3\n",
    "\"\"\"\n",
    "\n",
    "train = data[:int(len(data)*0.8)]\n",
    "test = data[int(len(data)*0.8):]"
   ]
  },
  {
   "cell_type": "code",
   "execution_count": 13,
   "id": "af69ec9c",
   "metadata": {},
   "outputs": [],
   "source": [
    "\"\"\"\n",
    "reused and modified from: \n",
    "\n",
    "https://www.machinelearningplus.com/time-series/arima-model-time-series-forecasting-python/\n",
    "\n",
    "However, these are just function calls to ARIMA model in statsmodels.\n",
    "\"\"\"\n",
    "\n",
    "model = ARIMA(train, order=(1,0,0)) \n",
    "model = model.fit()\n",
    "predict = model.predict(start=len(train), end=len(train)+len(test)-1)\n",
    "#3 lines from guide but modified"
   ]
  },
  {
   "cell_type": "code",
   "execution_count": 14,
   "id": "01f65328",
   "metadata": {},
   "outputs": [
    {
     "name": "stdout",
     "output_type": "stream",
     "text": [
      "RMSE:  0.5378668577229616\n",
      "MAPE:  8.623017497598878\n",
      "MAE:  0.4452163744049731\n",
      "Scatter Index:  9.959914379138402\n",
      "MDA:  0.6363636363636364\n",
      "Mean of actual:  5.400316079519256\n"
     ]
    },
    {
     "data": {
      "image/png": "[encoded data removed]",
      "text/plain": [
       "<Figure size 432x288 with 1 Axes>"
      ]
     },
     "metadata": {
      "needs_background": "light"
     },
     "output_type": "display_data"
    }
   ],
   "source": [
    "\"\"\"\n",
    "Code written by me, however (line 9) was also used in a previous Introduction to AI Course I partook in,\n",
    "at City University of London\n",
    "\n",
    "Link to repository provided: \n",
    "https://github.com/LabiKSV/intro-to-ai-farhan-labi/blob/main/Linear%20Regression%20Label%20Encoder.ipynb\n",
    "\"\"\"\n",
    "\n",
    "df_compare = pd.DataFrame({'Actual' : test.values.flatten(), 'Predicted' : predict.values})\n",
    "newindex = test.index.values.tolist()\n",
    "df_compare.index = newindex\n",
    "df_compare.plot(title='GDP Growth Actual vs Predicted')\n",
    "performance_metrics(test.values, predict.values)\n",
    "#4 lines written by me"
   ]
  },
  {
   "cell_type": "code",
   "execution_count": 15,
   "id": "9e23beb8",
   "metadata": {},
   "outputs": [
    {
     "data": {
      "text/plain": [
       "5.280677486757958"
      ]
     },
     "execution_count": 15,
     "metadata": {},
     "output_type": "execute_result"
    }
   ],
   "source": [
    "predict.mean()"
   ]
  },
  {
   "cell_type": "code",
   "execution_count": 16,
   "id": "eee9b7cf",
   "metadata": {},
   "outputs": [
    {
     "data": {
      "text/plain": [
       "47    5.253679\n",
       "dtype: float64"
      ]
     },
     "execution_count": 16,
     "metadata": {},
     "output_type": "execute_result"
    }
   ],
   "source": [
    "data.mean()"
   ]
  },
  {
   "cell_type": "code",
   "execution_count": 17,
   "id": "0a357035",
   "metadata": {},
   "outputs": [
    {
     "name": "stdout",
     "output_type": "stream",
     "text": [
      "Performing stepwise search to minimize aic\n",
      " ARIMA(2,0,2)(0,0,0)[0] intercept   : AIC=262.199, Time=0.05 sec\n",
      " ARIMA(0,0,0)(0,0,0)[0] intercept   : AIC=260.072, Time=0.00 sec\n",
      " ARIMA(1,0,0)(0,0,0)[0] intercept   : AIC=256.304, Time=0.01 sec\n",
      " ARIMA(0,0,1)(0,0,0)[0] intercept   : AIC=256.538, Time=0.01 sec\n",
      " ARIMA(0,0,0)(0,0,0)[0]             : AIC=309.705, Time=0.00 sec\n",
      " ARIMA(2,0,0)(0,0,0)[0] intercept   : AIC=258.268, Time=0.02 sec\n",
      " ARIMA(1,0,1)(0,0,0)[0] intercept   : AIC=258.256, Time=0.02 sec\n",
      " ARIMA(2,0,1)(0,0,0)[0] intercept   : AIC=260.236, Time=0.06 sec\n",
      " ARIMA(1,0,0)(0,0,0)[0]             : AIC=269.111, Time=0.01 sec\n",
      "\n",
      "Best model:  ARIMA(1,0,0)(0,0,0)[0] intercept\n",
      "Total fit time: 0.179 seconds\n"
     ]
    },
    {
     "data": {
      "text/html": [
       "<table class=\"simpletable\">\n",
       "<caption>SARIMAX Results</caption>\n",
       "<tr>\n",
       "  <th>Dep. Variable:</th>           <td>y</td>        <th>  No. Observations:  </th>    <td>47</td>   \n",
       "</tr>\n",
       "<tr>\n",
       "  <th>Model:</th>           <td>SARIMAX(1, 0, 0)</td> <th>  Log Likelihood     </th> <td>-125.152</td>\n",
       "</tr>\n",
       "<tr>\n",
       "  <th>Date:</th>            <td>Sun, 15 May 2022</td> <th>  AIC                </th>  <td>256.304</td>\n",
       "</tr>\n",
       "<tr>\n",
       "  <th>Time:</th>                <td>23:43:58</td>     <th>  BIC                </th>  <td>261.855</td>\n",
       "</tr>\n",
       "<tr>\n",
       "  <th>Sample:</th>                  <td>0</td>        <th>  HQIC               </th>  <td>258.393</td>\n",
       "</tr>\n",
       "<tr>\n",
       "  <th></th>                       <td> - 47</td>      <th>                     </th>     <td> </td>   \n",
       "</tr>\n",
       "<tr>\n",
       "  <th>Covariance Type:</th>        <td>opg</td>       <th>                     </th>     <td> </td>   \n",
       "</tr>\n",
       "</table>\n",
       "<table class=\"simpletable\">\n",
       "<tr>\n",
       "      <td></td>         <th>coef</th>     <th>std err</th>      <th>z</th>      <th>P>|z|</th>  <th>[0.025</th>    <th>0.975]</th>  \n",
       "</tr>\n",
       "<tr>\n",
       "  <th>intercept</th> <td>    3.4724</td> <td>    1.241</td> <td>    2.797</td> <td> 0.005</td> <td>    1.039</td> <td>    5.905</td>\n",
       "</tr>\n",
       "<tr>\n",
       "  <th>ar.L1</th>     <td>    0.3365</td> <td>    0.239</td> <td>    1.405</td> <td> 0.160</td> <td>   -0.133</td> <td>    0.806</td>\n",
       "</tr>\n",
       "<tr>\n",
       "  <th>sigma2</th>    <td>   12.0033</td> <td>    1.386</td> <td>    8.662</td> <td> 0.000</td> <td>    9.287</td> <td>   14.719</td>\n",
       "</tr>\n",
       "</table>\n",
       "<table class=\"simpletable\">\n",
       "<tr>\n",
       "  <th>Ljung-Box (L1) (Q):</th>     <td>0.01</td> <th>  Jarque-Bera (JB):  </th> <td>450.88</td>\n",
       "</tr>\n",
       "<tr>\n",
       "  <th>Prob(Q):</th>                <td>0.91</td> <th>  Prob(JB):          </th>  <td>0.00</td> \n",
       "</tr>\n",
       "<tr>\n",
       "  <th>Heteroskedasticity (H):</th> <td>2.47</td> <th>  Skew:              </th>  <td>-3.05</td>\n",
       "</tr>\n",
       "<tr>\n",
       "  <th>Prob(H) (two-sided):</th>    <td>0.08</td> <th>  Kurtosis:          </th>  <td>16.89</td>\n",
       "</tr>\n",
       "</table><br/><br/>Warnings:<br/>[1] Covariance matrix calculated using the outer product of gradients (complex-step)."
      ],
      "text/plain": [
       "<class 'statsmodels.iolib.summary.Summary'>\n",
       "\"\"\"\n",
       "                               SARIMAX Results                                \n",
       "==============================================================================\n",
       "Dep. Variable:                      y   No. Observations:                   47\n",
       "Model:               SARIMAX(1, 0, 0)   Log Likelihood                -125.152\n",
       "Date:                Sun, 15 May 2022   AIC                            256.304\n",
       "Time:                        23:43:58   BIC                            261.855\n",
       "Sample:                             0   HQIC                           258.393\n",
       "                                 - 47                                         \n",
       "Covariance Type:                  opg                                         \n",
       "==============================================================================\n",
       "                 coef    std err          z      P>|z|      [0.025      0.975]\n",
       "------------------------------------------------------------------------------\n",
       "intercept      3.4724      1.241      2.797      0.005       1.039       5.905\n",
       "ar.L1          0.3365      0.239      1.405      0.160      -0.133       0.806\n",
       "sigma2        12.0033      1.386      8.662      0.000       9.287      14.719\n",
       "===================================================================================\n",
       "Ljung-Box (L1) (Q):                   0.01   Jarque-Bera (JB):               450.88\n",
       "Prob(Q):                              0.91   Prob(JB):                         0.00\n",
       "Heteroskedasticity (H):               2.47   Skew:                            -3.05\n",
       "Prob(H) (two-sided):                  0.08   Kurtosis:                        16.89\n",
       "===================================================================================\n",
       "\n",
       "Warnings:\n",
       "[1] Covariance matrix calculated using the outer product of gradients (complex-step).\n",
       "\"\"\""
      ]
     },
     "execution_count": 17,
     "metadata": {},
     "output_type": "execute_result"
    }
   ],
   "source": [
    "\"\"\"\n",
    "Idea for using pmdarima and reuse for this attributed to the video on youtube:\n",
    "\n",
    "https://www.youtube.com/watch?v=8FCDpFhd1zk&ab_channel=NachiketaHebbar\n",
    "\"\"\"\n",
    "\n",
    "autoarima = auto_arima(train, \n",
    "                       trace=True, \n",
    "                       d=0, \n",
    "                       suppress_warnings=True, n_fits=50, test='adf')\n",
    "\n",
    "autoarima.summary()\n",
    "\n",
    "#2 lines from youtube"
   ]
  },
  {
   "cell_type": "code",
   "execution_count": 18,
   "id": "c9e6ccc3",
   "metadata": {},
   "outputs": [
    {
     "data": {
      "text/plain": [
       "'\\n64 Lines of code\\n'"
      ]
     },
     "execution_count": 18,
     "metadata": {},
     "output_type": "execute_result"
    }
   ],
   "source": [
    "\"\"\"\n",
    "64 Lines of code\n",
    "\"\"\""
   ]
  }
 ],
 "metadata": {
  "kernelspec": {
   "display_name": "Python 3 (ipykernel)",
   "language": "python",
   "name": "python3"
  },
  "language_info": {
   "codemirror_mode": {
    "name": "ipython",
    "version": 3
   },
   "file_extension": ".py",
   "mimetype": "text/x-python",
   "name": "python",
   "nbconvert_exporter": "python",
   "pygments_lexer": "ipython3",
   "version": "3.9.7"
  }
 },
 "nbformat": 4,
 "nbformat_minor": 5
}
