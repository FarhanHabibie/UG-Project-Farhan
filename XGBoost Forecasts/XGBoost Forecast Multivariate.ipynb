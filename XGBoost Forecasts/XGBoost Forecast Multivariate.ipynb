{
 "cells": [
  {
   "cell_type": "code",
   "execution_count": 1,
   "id": "6e737e8b",
   "metadata": {},
   "outputs": [
    {
     "data": {
      "text/plain": [
       "'\\nThis loosely code follows the steps outlined by: \\n\\nhttps://cprosenjit.medium.com/multivariate-time-series-forecasting-using-xgboost-1728762a9eeb\\n'"
      ]
     },
     "execution_count": 1,
     "metadata": {},
     "output_type": "execute_result"
    }
   ],
   "source": [
    "\"\"\"\n",
    "This loosely code follows the steps outlined by: \n",
    "\n",
    "https://cprosenjit.medium.com/multivariate-time-series-forecasting-using-xgboost-1728762a9eeb\n",
    "\"\"\""
   ]
  },
  {
   "cell_type": "code",
   "execution_count": 2,
   "id": "5f95523b",
   "metadata": {},
   "outputs": [],
   "source": [
    "import numpy as np\n",
    "import xgboost\n",
    "import pandas as pd\n",
    "from xgboost import XGBRegressor\n",
    "from xgboost import plot_importance\n",
    "from sklearn import metrics\n",
    "from sklearn.model_selection import train_test_split\n",
    "from sklearn.model_selection import GridSearchCV\n",
    "from sklearn.preprocessing import StandardScaler\n",
    "import matplotlib.pyplot as plt\n",
    "from sklearn.feature_selection import SelectFromModel\n",
    "from sklearn.model_selection import learning_curve\n",
    "from sklearn.pipeline import make_pipeline\n",
    "from sklearn.linear_model import LassoCV, RidgeCV\n",
    "\n",
    "#14 Lines of import statements"
   ]
  },
  {
   "cell_type": "code",
   "execution_count": 3,
   "id": "72cb7738",
   "metadata": {},
   "outputs": [],
   "source": [
    "pd.set_option('display.max_rows', 500)\n",
    "pd.set_option('display.max_columns', 500)\n",
    "pd.set_option('display.width', 1000)"
   ]
  },
  {
   "cell_type": "code",
   "execution_count": 4,
   "id": "bb3f666a",
   "metadata": {},
   "outputs": [],
   "source": [
    "def format_data(path):\n",
    "    df = pd.read_excel(path)\n",
    "    df2 = df.drop(columns=['Country Name', 'Country Code'])\n",
    "    df2 = df2.dropna(axis=1, how='all')\n",
    "    \n",
    "    return df2"
   ]
  },
  {
   "cell_type": "code",
   "execution_count": 5,
   "id": "c62d684d",
   "metadata": {},
   "outputs": [],
   "source": [
    "def fill_na(data):\n",
    "    \n",
    "    df4 = data.fillna(data.mean())\n",
    "    df4.drop(data.tail(1).index,inplace=True) #remove last row\n",
    "    \n",
    "    return df4\n",
    "\n",
    "#4 lines written by me"
   ]
  },
  {
   "cell_type": "code",
   "execution_count": 6,
   "id": "77de3a20",
   "metadata": {},
   "outputs": [],
   "source": [
    "def x_and_y(data):\n",
    "\n",
    "    X = data.drop(columns='GDP growth (annual %)')\n",
    "    y = data['GDP growth (annual %)']\n",
    "    \n",
    "    return X, y\n",
    "\n",
    "#4 Lines written by me"
   ]
  },
  {
   "cell_type": "code",
   "execution_count": 7,
   "id": "981b6b44",
   "metadata": {},
   "outputs": [],
   "source": [
    "def train_test_split_func(X, y):\n",
    "    \n",
    "    X_train, X_test, y_train, y_test = train_test_split(X, y, test_size=0.2, random_state=0, shuffle=False)\n",
    "    \n",
    "    return X_train, X_test, y_train, y_test\n",
    "\n",
    "#3 Lines from documentation"
   ]
  },
  {
   "cell_type": "code",
   "execution_count": 8,
   "id": "c0e15008",
   "metadata": {},
   "outputs": [],
   "source": [
    "def xgb(X_train, y_train, X_test, y_test):\n",
    "    \n",
    "    model = XGBRegressor(objective='reg:squarederror', n_estimators=1000, max_depth=1, learning_rate=0.15)\n",
    "    model.fit(X_train, y_train, verbose=False)\n",
    "            \n",
    "    y_pred = model.predict(X_test)\n",
    "    \n",
    "    return model, y_pred\n",
    "\n",
    "#5 lines from documentation"
   ]
  },
  {
   "cell_type": "code",
   "execution_count": 9,
   "id": "06ef06c7",
   "metadata": {},
   "outputs": [],
   "source": [
    "def scale(X_train, X_test):\n",
    "    scaler = StandardScaler().fit(X_train)\n",
    "    \n",
    "    X_train_s = scaler.transform(X_train)\n",
    "    X_test_s = scaler.transform(X_test)\n",
    "    \n",
    "    return X_train_s, X_test_s\n",
    "\n",
    "#5 Lines from guide"
   ]
  },
  {
   "cell_type": "code",
   "execution_count": 10,
   "id": "24e1a996",
   "metadata": {},
   "outputs": [],
   "source": [
    "\"\"\"\n",
    "Modified from the guide:\n",
    "\n",
    "https://machinelearningmastery.com/feature-importance-and-feature-selection-with-xgboost-in-python/\n",
    "\"\"\"\n",
    "\n",
    "def feature_selection(model, X_train, X_test, y_train):\n",
    "    \n",
    "    selector = SelectFromModel(model, threshold=0.003)\n",
    "    selector.fit (X_train, y_train)\n",
    "    \n",
    "    select_X_train = selector.transform(X_train)\n",
    "    select_X_test = selector.transform(X_test)\n",
    "    \n",
    "    #print (selector.get_feature_names_out())\n",
    "    \n",
    "    selection_model = XGBRegressor(objective='reg:squarederror', n_estimators=1000, \n",
    "                                   max_depth=1, learning_rate = 0.1)\n",
    "    selection_model.fit(select_X_train, y_train)\n",
    "    \n",
    "    select_y_pred = selection_model.predict(select_X_test)\n",
    "    \n",
    "    #modified from: https://stackoverflow.com/questions/54933804/how-to-get-actual-feature-names-in-xgboost-feature-importance-plot-without-retra\n",
    "    selection_model.get_booster().feature_names = selector.get_feature_names_out().tolist()\n",
    "    plot_importance(selection_model.get_booster())\n",
    "    \n",
    "    return select_X_test ,select_X_train ,select_y_pred\n",
    "\n",
    "#11 lines of code taken from a guide and then modified"
   ]
  },
  {
   "cell_type": "code",
   "execution_count": 11,
   "id": "3f950c54",
   "metadata": {},
   "outputs": [],
   "source": [
    "\"\"\"\n",
    "This piece of code was reused from \n",
    "https://towardsdatascience.com/xgboost-fine-tune-and-optimize-your-model-23d996fab663\n",
    "\n",
    "\"\"\"\n",
    "\n",
    "def tune_n_estimator(X, y):\n",
    "    hyperparam = {'max_depth': [1,2,3,4,5,10],\n",
    "                 'learning_rate': [0.05, 0.1, 0.15, 0.2, 0.25, 0.3],\n",
    "                 'n_estimators': [5,10,20,50,100,1000],\n",
    "                 'lambda' : [1,2,3,4,5]}\n",
    "    \n",
    "    model = XGBRegressor()\n",
    "    \n",
    "    gscv = GridSearchCV(estimator=model, param_grid=hyperparam,\n",
    "                       scoring='neg_mean_squared_error',\n",
    "                       verbose=1)\n",
    "    \n",
    "    gscv.fit(X, y)\n",
    "    \n",
    "    print(\"best hyperparam:\", gscv.best_params_)\n",
    "    \n",
    "#6 taken from guide"
   ]
  },
  {
   "cell_type": "code",
   "execution_count": 12,
   "id": "5c35d031",
   "metadata": {},
   "outputs": [],
   "source": [
    "def performance_metrics(y_test, y_pred):\n",
    "    \n",
    "    sign1 = np.sign(np.array(y_test[1:]) - np.array(y_test[:-1]))\n",
    "    sign2 = np.sign(np.array(y_pred[1:]) - np.array(y_pred[:-1]))\n",
    "    rmse = np.sqrt(metrics.mean_squared_error(y_test, y_pred))\n",
    "    mape = np.mean(np.abs((y_test - y_pred) / y_test )) *100\n",
    "    mae = metrics.mean_absolute_error(y_test, y_pred)\n",
    "    r2 = metrics.r2_score(y_test, y_pred)\n",
    "    mda = np.mean((sign1 == sign2).astype(int))\n",
    "    mean = np.mean(y_test)\n",
    "    si = (rmse/mean)*100\n",
    "    \n",
    "    print(\"RMSE: \", rmse)\n",
    "    print(\"MAPE: \", mape)\n",
    "    print(\"MAE: \", mae)\n",
    "    print(\"Scatter Index: \", si)\n",
    "    print(\"MDA: \", mda)\n",
    "    print(\"Mean of actual: \", mean)\n",
    "    \n",
    "#15 Lines. 3 From documentation, 3 from github, 9 written by me"
   ]
  },
  {
   "cell_type": "code",
   "execution_count": 13,
   "id": "1032b058",
   "metadata": {},
   "outputs": [],
   "source": [
    "#Get the data\n",
    "data = format_data('/Users/farhanhabibie/Desktop/Farhan Thesis Code /UG-Project-Farhan/Multivariate More.xlsx')\n",
    "filled = fill_na(data)\n",
    "filled = filled.set_index('Year')"
   ]
  },
  {
   "cell_type": "code",
   "execution_count": 14,
   "id": "8a0dfcb8",
   "metadata": {},
   "outputs": [],
   "source": [
    "X, y = x_and_y(filled)\n",
    "X_train, X_test, y_train, y_test = train_test_split_func(X, y)\n",
    "X_train_scaled, X_test_scaled = scale(X_train, X_test)"
   ]
  },
  {
   "cell_type": "code",
   "execution_count": 15,
   "id": "325bc476",
   "metadata": {},
   "outputs": [
    {
     "data": {
      "text/plain": [
       "'Hyperparameter Tuning'"
      ]
     },
     "execution_count": 15,
     "metadata": {},
     "output_type": "execute_result"
    }
   ],
   "source": [
    "\"\"\"Hyperparameter Tuning\"\"\"\n",
    "\n",
    "#print(\"For select model: \", tune_n_estimator(select_X_train, y_train))\n",
    "#print(\"For normal model: \", tune_n_estimator(X_train_scaled, y_train))"
   ]
  },
  {
   "cell_type": "code",
   "execution_count": 16,
   "id": "2264b60d",
   "metadata": {},
   "outputs": [
    {
     "data": {
      "image/png": "[encoded data removed]",
      "text/plain": [
       "<Figure size 432x288 with 1 Axes>"
      ]
     },
     "metadata": {
      "needs_background": "light"
     },
     "output_type": "display_data"
    }
   ],
   "source": [
    "#Make prediction before feature selection, needed as we pass the model through to SelectFromModel\n",
    "model, y_pred = xgb(X_train_scaled, y_train, X_test_scaled, y_test)\n",
    "\n",
    "#Make predictions after feature selection\n",
    "select_X_test ,select_X_train ,select_y_pred = feature_selection(model, X_train, X_test, y_train)"
   ]
  },
  {
   "cell_type": "code",
   "execution_count": 17,
   "id": "3dccf3aa",
   "metadata": {
    "scrolled": false
   },
   "outputs": [
    {
     "name": "stdout",
     "output_type": "stream",
     "text": [
      "RMSE:  0.2570188387337305\n",
      "MAPE:  3.418155275738619\n",
      "MAE:  0.18135610627427878\n",
      "Scatter Index:  4.7593295456996785\n",
      "MDA:  0.9090909090909091\n",
      "Mean of actual:  5.400316079519256\n"
     ]
    },
    {
     "data": {
      "image/png": "[encoded data removed]",
      "text/plain": [
       "<Figure size 432x288 with 1 Axes>"
      ]
     },
     "metadata": {
      "needs_background": "light"
     },
     "output_type": "display_data"
    }
   ],
   "source": [
    "#Outputs\n",
    "df_compare = pd.DataFrame({'Actual' : y_test, 'Predicted' : y_pred})\n",
    "df_compare.plot(title='GDP Growth Actual vs Predicted')\n",
    "performance_metrics(y_test, y_pred)"
   ]
  },
  {
   "cell_type": "code",
   "execution_count": 18,
   "id": "01471cb2",
   "metadata": {
    "scrolled": false
   },
   "outputs": [
    {
     "data": {
      "text/plain": [
       "Text(0.5, 1.0, 'Learning Curve for XGBoost After FS Before HT')"
      ]
     },
     "execution_count": 18,
     "metadata": {},
     "output_type": "execute_result"
    },
    {
     "data": {
      "image/png": "[encoded data removed]",
      "text/plain": [
       "<Figure size 432x288 with 1 Axes>"
      ]
     },
     "metadata": {
      "needs_background": "light"
     },
     "output_type": "display_data"
    }
   ],
   "source": [
    "\"\"\"\n",
    "Learning Curve to detect overfit/underfit\n",
    "\n",
    "Method from: \n",
    "\n",
    "https://vitalflux.com/learning-curves-explained-python-sklearn-example/amp/\n",
    "and\n",
    "https://www.scikit-yb.org/en/latest/api/model_selection/learning_curve.html#:~:text=Learning%20curves%20can%20be%20generated,see%20in%20the%20following%20examples.\n",
    "\"\"\"\n",
    "\n",
    "pipeline = make_pipeline(StandardScaler(), XGBRegressor(objective='reg:squarederror', n_estimators=1000, \n",
    "                                                        max_depth=6, learning_rate = 0.3))\n",
    "\n",
    "train_sizes, train_scores, test_scores = learning_curve(estimator=pipeline, X=select_X_train,\n",
    "                                                      y=y_train, cv=10,\n",
    "                                                      train_sizes=np.linspace(0.1, 1.0, 10))\n",
    "\n",
    "train_mean = np.mean(train_scores, axis=1)\n",
    "train_std = np.std(train_scores, axis=1)\n",
    "test_mean = np.mean(test_scores, axis=1)\n",
    "test_std = np.std(test_scores, axis=1)\n",
    "\n",
    "plt.plot(train_sizes, train_mean, marker='o', label='Training Accuracy')\n",
    "plt.xlabel('Training Data Size')\n",
    "plt.plot(train_sizes, test_mean, marker='x', linestyle='--', label='Validation Accuracy')\n",
    "plt.ylabel('Score')\n",
    "plt.legend(loc='best')\n",
    "plt.title('Learning Curve for XGBoost After FS Before HT')\n",
    "\n",
    "#14 lines taken directly from guide, integrated with my model"
   ]
  },
  {
   "cell_type": "code",
   "execution_count": 19,
   "id": "a2683703",
   "metadata": {},
   "outputs": [
    {
     "data": {
      "text/plain": [
       "array([0.99999994, 0.99999994, 0.99999997, 0.99999997, 0.99999997,\n",
       "       0.99999995, 0.99999994, 0.99999997, 0.99999996, 0.99999997])"
      ]
     },
     "execution_count": 19,
     "metadata": {},
     "output_type": "execute_result"
    }
   ],
   "source": [
    "train_mean"
   ]
  },
  {
   "cell_type": "code",
   "execution_count": 20,
   "id": "47d56cd0",
   "metadata": {},
   "outputs": [
    {
     "data": {
      "text/plain": [
       "array([-3.72121482e+00, -3.54774479e+00, -6.62591271e-01,  3.60595470e-04,\n",
       "       -2.94724093e-01, -4.34555477e-01, -2.47961330e-01,  1.82671066e-01,\n",
       "        1.89896374e-01,  6.81431850e-01])"
      ]
     },
     "execution_count": 20,
     "metadata": {},
     "output_type": "execute_result"
    }
   ],
   "source": [
    "test_mean"
   ]
  },
  {
   "cell_type": "code",
   "execution_count": 21,
   "id": "fea88cf4",
   "metadata": {},
   "outputs": [
    {
     "data": {
      "text/plain": [
       "'\\n103 Lines of code\\n'"
      ]
     },
     "execution_count": 21,
     "metadata": {},
     "output_type": "execute_result"
    }
   ],
   "source": [
    "\"\"\"\n",
    "89 Lines of code\n",
    "\"\"\""
   ]
  }
 ],
 "metadata": {
  "kernelspec": {
   "display_name": "Python 3 (ipykernel)",
   "language": "python",
   "name": "python3"
  },
  "language_info": {
   "codemirror_mode": {
    "name": "ipython",
    "version": 3
   },
   "file_extension": ".py",
   "mimetype": "text/x-python",
   "name": "python",
   "nbconvert_exporter": "python",
   "pygments_lexer": "ipython3",
   "version": "3.9.7"
  }
 },
 "nbformat": 4,
 "nbformat_minor": 5
}
