{
 "cells": [
  {
   "cell_type": "code",
   "execution_count": 1,
   "id": "d875773d",
   "metadata": {},
   "outputs": [],
   "source": [
    "import numpy as np\n",
    "import pandas as pd\n",
    "from pyGRNN import GRNN\n",
    "from sklearn import metrics\n",
    "from sklearn.model_selection import GridSearchCV\n",
    "from sklearn.model_selection import StratifiedKFold\n",
    "import matplotlib.pyplot as plt\n",
    "from statsmodels.graphics.tsaplots import plot_acf\n",
    "from sklearn.model_selection import learning_curve\n",
    "from sklearn.pipeline import make_pipeline\n",
    "\n",
    "#8 lines import statements"
   ]
  },
  {
   "cell_type": "code",
   "execution_count": 2,
   "id": "40c351b6",
   "metadata": {},
   "outputs": [],
   "source": [
    "pd.set_option('display.max_rows', 500)\n",
    "pd.set_option('display.max_columns', 500)\n",
    "pd.set_option('display.width', 1000)\n",
    "\n",
    "#3 lines written by me"
   ]
  },
  {
   "cell_type": "code",
   "execution_count": 3,
   "id": "0f36742b",
   "metadata": {},
   "outputs": [],
   "source": [
    "\"\"\"\n",
    "Function that loads and prepares the dataframe. \n",
    "\n",
    "Converts the data into time-series readable.\n",
    "\"\"\"\n",
    "def initialFormat (filepath, indicatorcode):\n",
    "    #Reads the file and creates a dataframe from it\n",
    "    df = pd.read_excel(filepath)\n",
    "    \n",
    "    #Choose what to forecast using indicator code\n",
    "    df_icode = df.loc[df['Indicator Code'] == indicatorcode]\n",
    "    \n",
    "    #Dropping these columns as they are not needed for the forecast\n",
    "    df_icode = df_icode.drop(columns=['Country Name', 'Country Code', 'Indicator Name', 'Indicator Code'])\n",
    "    \n",
    "    #Swap axis so it is in the proper format\n",
    "    df_formatted = df_icode.swapaxes(\"index\", \"columns\")\n",
    "    \n",
    "    #Renaming column name to 'values' to make reference easier\n",
    "    for col_names in df_formatted.columns:\n",
    "        name = df_formatted.rename(columns={col_names : \"Val\"})\n",
    "        return name\n",
    "    \n",
    "    return df_formatted\n",
    "\n",
    "#9 Lines written by me"
   ]
  },
  {
   "cell_type": "code",
   "execution_count": 4,
   "id": "54943fb9",
   "metadata": {},
   "outputs": [],
   "source": [
    "\"\"\"\n",
    "Refactored from: \n",
    "\n",
    "https://cprosenjit.medium.com/10-time-series-forecasting-methods-we-should-know-291037d2e285\n",
    "\n",
    "\"\"\"\n",
    "\n",
    "def shift_dataframe(data):\n",
    "    #The value in \"shift(-x)\" is the lookback period in this case 1.\n",
    "    data[\"Target\"] = data.Val.shift(-1)\n",
    "    data.dropna(inplace=True)\n",
    "    \n",
    "    return data\n",
    "\n",
    "#4 lines copied from guide"
   ]
  },
  {
   "cell_type": "code",
   "execution_count": 5,
   "id": "96920876",
   "metadata": {},
   "outputs": [],
   "source": [
    "\"\"\"\n",
    "Code idea from:\n",
    "https://towardsdatascience.com/time-series-from-scratch-train-test-splits-and-evaluation-metrics-4fd654de1b37\n",
    "\"\"\"\n",
    "\n",
    "def train_test_split(data):\n",
    "    \n",
    "    train = data[:int(len(data)*0.8)]\n",
    "    test = data[int(len(data)*0.8):]\n",
    "    \n",
    "    return train, test"
   ]
  },
  {
   "cell_type": "code",
   "execution_count": 6,
   "id": "859a842c",
   "metadata": {},
   "outputs": [],
   "source": [
    "def mean_imputation(data):\n",
    "    filled = data.fillna(data.mean())\n",
    "    filled.drop(data.tail(1).index,inplace=True) #remove last row\n",
    "    \n",
    "    return filled\n",
    "\n",
    "#3 lines written by me"
   ]
  },
  {
   "cell_type": "code",
   "execution_count": 7,
   "id": "13a2eefd",
   "metadata": {},
   "outputs": [],
   "source": [
    "def performance_metrics(y_test, y_pred):\n",
    "    \n",
    "    sign1 = np.sign(np.array(y_test[1:]) - np.array(y_test[:-1]))\n",
    "    sign2 = np.sign(np.array(y_pred[1:]) - np.array(y_pred[:-1]))\n",
    "    rmse = np.sqrt(metrics.mean_squared_error(y_test, y_pred))\n",
    "    mape = np.mean(np.abs((y_test - y_pred) / y_test )) *100\n",
    "    mae = metrics.mean_absolute_error(y_test, y_pred)\n",
    "    r2 = metrics.r2_score(y_test, y_pred)\n",
    "    mda = np.mean((sign1 == sign2).astype(int))\n",
    "    mean = np.mean(y_test)\n",
    "    si = (rmse/mean)*100\n",
    "    \n",
    "    print(\"RMSE: \", rmse)\n",
    "    print(\"MAPE: \", mape)\n",
    "    print(\"MAE: \", mae)\n",
    "    print(\"Scatter Index: \", si)\n",
    "    print(\"MDA: \", mda)\n",
    "    print(\"Mean of actual: \", mean)\n",
    "    \n",
    "#13 Lines. 3 From documentation, 1 from github, 9 written by me"
   ]
  },
  {
   "cell_type": "code",
   "execution_count": 8,
   "id": "2f436abb",
   "metadata": {},
   "outputs": [],
   "source": [
    "data = initialFormat('/Users/farhanhabibie/Desktop/Farhan Thesis Code /UG-Project-Farhan/Indonesia Macro Dataset.xlsx', \n",
    "                     'SL.UEM.TOTL.FE.ZS')\n",
    "\n",
    "filled = mean_imputation(data)\n",
    "shifted = shift_dataframe(filled)\n",
    "\n",
    "#Used to grab the index (i.e 2006-2019) later for plotting\n",
    "train_index, test_index = train_test_split(shifted)\n",
    "\n",
    "\n",
    "#Train test and split used for actual training\n",
    "train, test = train_test_split(shifted)"
   ]
  },
  {
   "cell_type": "code",
   "execution_count": 9,
   "id": "b24514d6",
   "metadata": {},
   "outputs": [],
   "source": [
    "\"Split into X_train, y_train, X_test, y_test\"\n",
    "\n",
    "X_train = train.Val.values.reshape(-1,1)\n",
    "y_train = train.Target.values\n",
    "X_test = test.Val.values.reshape(-1,1)\n",
    "y_test = test.Target.values"
   ]
  },
  {
   "cell_type": "code",
   "execution_count": 10,
   "id": "8022a358",
   "metadata": {},
   "outputs": [
    {
     "name": "stdout",
     "output_type": "stream",
     "text": [
      "Fitting 5 folds for each of 390 candidates, totalling 1950 fits\n",
      "Best hyperparam:  {'calibration': 'none', 'kernel': 'RBF', 'method': 'Nelder-Mead', 'sigma': 0.5999999999999998}\n"
     ]
    }
   ],
   "source": [
    "\"\"\"\n",
    "copied from https://github.com/federhub/pyGRNN\n",
    "\n",
    "\"\"\"\n",
    "\n",
    "IGRNN = GRNN()\n",
    "params_IGRNN = {'kernel':[\"RBF\"],\n",
    "                'sigma' : list(np.arange(0.1, 4, 0.01)),\n",
    "                #'n_splits' : list(np.arange(2,len(X_train),1)),\n",
    "                'calibration' : ['none'],\n",
    "                'method' : ['Nelder-Mead']\n",
    "                 }\n",
    "grid_IGRNN = GridSearchCV(estimator=IGRNN,\n",
    "                          param_grid=params_IGRNN,\n",
    "                          scoring='neg_mean_squared_error',\n",
    "                          cv=5,\n",
    "                          verbose=1\n",
    "                          )\n",
    "grid_IGRNN.fit(X_train, y_train)\n",
    "\n",
    "print(\"Best hyperparam: \", grid_IGRNN.best_params_)\n",
    "\n",
    "best_model = grid_IGRNN.best_estimator_\n",
    "y_pred = best_model.predict(X_test)\n",
    "\n",
    "#7 lines compied from documentation on github"
   ]
  },
  {
   "cell_type": "code",
   "execution_count": 11,
   "id": "6d8c81e6",
   "metadata": {},
   "outputs": [
    {
     "name": "stdout",
     "output_type": "stream",
     "text": [
      "Executing warm start...\n",
      "Warm start concluded. The optimum isotropic sigma is [0.18265625]\n",
      "Gradient search concluded. The optimum sigma is [0.18271406]\n"
     ]
    }
   ],
   "source": [
    "model = GRNN(kernel='RBF', calibration='warm_start', seed=42, method='Nelder-Mead',n_splits=10)\n",
    "model.fit(X_train, y_train)\n",
    "y_pred_b4ht = model.predict(X_test)"
   ]
  },
  {
   "cell_type": "code",
   "execution_count": 12,
   "id": "d8d06b9f",
   "metadata": {},
   "outputs": [],
   "source": [
    "model_a = GRNN(kernel='RBF', calibration='None', seed=42, method='Nelder-Mead')\n",
    "model_a.fit(X_train, y_train)\n",
    "y_pred_n = model_a.predict(X_test)"
   ]
  },
  {
   "cell_type": "code",
   "execution_count": 13,
   "id": "6253f865",
   "metadata": {},
   "outputs": [],
   "source": [
    "dtest = data.fillna(data.mean())\n",
    "dtest.drop(data.tail(1).index, inplace=True)\n",
    "newindextest = dtest[int(len(data)*0.8):]\n",
    "newindex = newindextest.index.values.tolist()"
   ]
  },
  {
   "cell_type": "code",
   "execution_count": 14,
   "id": "7b503902",
   "metadata": {
    "scrolled": false
   },
   "outputs": [
    {
     "name": "stdout",
     "output_type": "stream",
     "text": [
      "RMSE:  1.2104435730536827\n",
      "MAPE:  22.631062118798862\n",
      "MAE:  1.0353318676647276\n",
      "Scatter Index:  24.556759234854685\n",
      "MDA:  0.6363636363636364\n",
      "Mean of actual:  4.929166595141093\n"
     ]
    },
    {
     "data": {
      "image/png": "[encoded data removed]",
      "text/plain": [
       "<Figure size 432x288 with 1 Axes>"
      ]
     },
     "metadata": {
      "needs_background": "light"
     },
     "output_type": "display_data"
    }
   ],
   "source": [
    "df_join = pd.DataFrame({'Actual' : y_test, 'Predicted' : y_pred_n})\n",
    "df_join.index = newindex\n",
    "df_join.plot(title='Real Interest Rate Actual vs Predicted')\n",
    "performance_metrics(y_test, y_pred_n)\n",
    "\n",
    "#5 lines written by me"
   ]
  },
  {
   "cell_type": "code",
   "execution_count": 19,
   "id": "656a95c9",
   "metadata": {},
   "outputs": [
    {
     "data": {
      "text/plain": [
       "Text(0.5, 1.0, 'Learning Curve, GRNN Unemployment (F)')"
      ]
     },
     "execution_count": 19,
     "metadata": {},
     "output_type": "execute_result"
    },
    {
     "data": {
      "image/png": "[encoded data removed]",
      "text/plain": [
       "<Figure size 432x288 with 1 Axes>"
      ]
     },
     "metadata": {
      "needs_background": "light"
     },
     "output_type": "display_data"
    }
   ],
   "source": [
    "\"\"\"\n",
    "Learning Curve to detect overfit/underfit\n",
    "\n",
    "Method and code adapted from: \n",
    "\n",
    "https://vitalflux.com/learning-curves-explained-python-sklearn-example/amp/\n",
    "and\n",
    "https://www.scikit-yb.org/en/latest/api/model_selection/learning_curve.html#:~:text=Learning%20curves%20can%20be%20generated,see%20in%20the%20following%20examples.\n",
    "\"\"\"\n",
    "\n",
    "pipeline = make_pipeline(best_model)\n",
    "\n",
    "train_sizes, train_scores, test_scores = learning_curve(estimator=pipeline, X=X_train,\n",
    "                                                      y=y_train, cv=5,\n",
    "                                                      train_sizes=np.linspace(0.1, 1.0, 10))\n",
    "\n",
    "train_mean = np.mean(train_scores, axis=1)\n",
    "train_std = np.std(train_scores, axis=1)\n",
    "test_mean = np.mean(test_scores, axis=1)\n",
    "test_std = np.std(test_scores, axis=1)\n",
    "\n",
    "plt.plot(train_sizes, train_mean, marker='o', label='Training Accuracy')\n",
    "plt.xlabel('Training Data Size')\n",
    "plt.plot(train_sizes, test_mean, marker='x', linestyle='--', label='Validation Accuracy')\n",
    "plt.ylabel('Score')\n",
    "plt.legend(loc='best')\n",
    "plt.title('Learning Curve, GRNN Unemployment (F)')\n",
    "\n",
    "#14 lines taken directly from guide, integrated with my model\n"
   ]
  },
  {
   "cell_type": "code",
   "execution_count": 16,
   "id": "62ad2826",
   "metadata": {},
   "outputs": [
    {
     "data": {
      "text/plain": [
       "array([ 1.        ,  0.        ,  0.        ,  0.        ,  0.        ,\n",
       "       -3.0088189 ,  0.29945995,  0.59453096,  0.57394525,  0.7809658 ])"
      ]
     },
     "execution_count": 16,
     "metadata": {},
     "output_type": "execute_result"
    }
   ],
   "source": [
    "train_mean"
   ]
  },
  {
   "cell_type": "code",
   "execution_count": 17,
   "id": "a20015f0",
   "metadata": {},
   "outputs": [
    {
     "data": {
      "text/plain": [
       "array([-3.68314540e-01, -9.68314540e-01, -9.68314540e-01, -2.16831454e+00,\n",
       "       -2.16831454e+00, -1.01258549e+28, -1.09046092e+28, -4.60586847e+27,\n",
       "       -1.46049256e+27, -1.45747393e+27])"
      ]
     },
     "execution_count": 17,
     "metadata": {},
     "output_type": "execute_result"
    }
   ],
   "source": [
    "test_mean"
   ]
  },
  {
   "cell_type": "code",
   "execution_count": 18,
   "id": "edeb4102",
   "metadata": {},
   "outputs": [
    {
     "data": {
      "text/plain": [
       "'\\n66 Lines of code\\n'"
      ]
     },
     "execution_count": 18,
     "metadata": {},
     "output_type": "execute_result"
    }
   ],
   "source": [
    "\"\"\"\n",
    "66 Lines of code\n",
    "\"\"\""
   ]
  }
 ],
 "metadata": {
  "kernelspec": {
   "display_name": "Python 3 (ipykernel)",
   "language": "python",
   "name": "python3"
  },
  "language_info": {
   "codemirror_mode": {
    "name": "ipython",
    "version": 3
   },
   "file_extension": ".py",
   "mimetype": "text/x-python",
   "name": "python",
   "nbconvert_exporter": "python",
   "pygments_lexer": "ipython3",
   "version": "3.9.7"
  }
 },
 "nbformat": 4,
 "nbformat_minor": 5
}
