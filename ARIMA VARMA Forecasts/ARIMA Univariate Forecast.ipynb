{
 "cells": [
  {
   "cell_type": "code",
   "execution_count": 1,
   "id": "034e995b",
   "metadata": {},
   "outputs": [
    {
     "data": {
      "text/plain": [
       "'\\nThe general method for the ARIMA implementation comes from:\\n\\nhttps://towardsdatascience.com/machine-learning-part-19-time-series-and-autoregressive-integrated-moving-average-model-arima-c1005347b0d7\\nhttps://www.machinelearningplus.com/time-series/arima-model-time-series-forecasting-python/\\n'"
      ]
     },
     "execution_count": 1,
     "metadata": {},
     "output_type": "execute_result"
    }
   ],
   "source": [
    "\"\"\"\n",
    "The general method for the ARIMA implementation comes from:\n",
    "\n",
    "https://towardsdatascience.com/machine-learning-part-19-time-series-and-autoregressive-integrated-moving-average-model-arima-c1005347b0d7\n",
    "https://www.machinelearningplus.com/time-series/arima-model-time-series-forecasting-python/\n",
    "\"\"\""
   ]
  },
  {
   "cell_type": "code",
   "execution_count": 2,
   "id": "01c61c4c",
   "metadata": {},
   "outputs": [],
   "source": [
    "import pandas as pd\n",
    "import numpy as np\n",
    "from statsmodels.tsa.stattools import adfuller\n",
    "from statsmodels.tsa.arima.model import ARIMA\n",
    "from statsmodels.tsa.arima.model import ARIMAResults\n",
    "from sklearn import metrics\n",
    "from statsmodels.graphics.tsaplots import plot_acf, plot_pacf\n",
    "import matplotlib.pyplot as plt\n",
    "from pmdarima import auto_arima\n",
    "from sklearn.model_selection import TimeSeriesSplit\n",
    "\n",
    "#Imported to ignore warnings from ARIMA\n",
    "import warnings\n",
    "warnings.filterwarnings(\"ignore\")\n",
    "\n",
    "#10 import statements"
   ]
  },
  {
   "cell_type": "code",
   "execution_count": 3,
   "id": "531f050d",
   "metadata": {},
   "outputs": [],
   "source": [
    "pd.set_option('display.max_rows', 500)\n",
    "pd.set_option('display.max_columns', 500)\n",
    "pd.set_option('display.width', 1000)\n",
    "\n",
    "#3 lines written by me"
   ]
  },
  {
   "cell_type": "code",
   "execution_count": 4,
   "id": "b12d51fa",
   "metadata": {},
   "outputs": [],
   "source": [
    "def read_data(pathname, indicatorcode):\n",
    "    df = pd.read_excel(pathname)\n",
    "    \n",
    "    df2 = df.loc[df['Indicator Code'] == indicatorcode]\n",
    "    \n",
    "    #Dropping these columns as they are not needed for the forecast\n",
    "    df2 = df2.drop(columns=['Country Name', 'Country Code', 'Indicator Name', 'Indicator Code'])\n",
    "    \n",
    "    df3 = df2.swapaxes('index', 'columns')\n",
    "    \n",
    "    return df3\n",
    "\n",
    "#6 lines written by me"
   ]
  },
  {
   "cell_type": "code",
   "execution_count": 5,
   "id": "34f7e34a",
   "metadata": {},
   "outputs": [],
   "source": [
    "\"\"\"\n",
    "Method for this block of code is refactored from:\n",
    "\n",
    "https://towardsdatascience.com/machine-learning-part-19-time-series-and-autoregressive-integrated-moving-average-model-arima-c1005347b0d7\n",
    "\"\"\"\n",
    "\n",
    "def stationarityTest(data):\n",
    "    \n",
    "    #Find out if the data is stationary or not\n",
    "    #Using Rolling Statistics (Rolling Mean and Rolling Std)\n",
    "    rolling_mean = data.rolling(window=10).mean()\n",
    "    rolling_std = data.rolling(window=10).std()\n",
    "    \n",
    "    plt.plot(data, color='blue', label='original')\n",
    "    plt.plot(rolling_mean, color='red', label='Rolling Mean')\n",
    "    plt.plot(rolling_std, color='green', label='Rolling Std')\n",
    "    plt.legend(loc='best')\n",
    "    plt.title('RM vs RSTD vs ORI')\n",
    "    \n",
    "    #Augmented Dickey-Fuller Test\n",
    "    result = adfuller(data.dropna())\n",
    "    print('ADF Statistic: ', result[0])\n",
    "    print('p-value: ', result[1])\n",
    "    print('Critical Values:')\n",
    "    for key, value in result[4].items():\n",
    "        print('\\t{}: {}'.format(key, value))\n",
    "        \n",
    "#14 lines from guide"
   ]
  },
  {
   "cell_type": "code",
   "execution_count": 6,
   "id": "cef9a239",
   "metadata": {},
   "outputs": [],
   "source": [
    "\"\"\"\n",
    "Order Differencing inspired from:\n",
    "\n",
    "https://www.machinelearningplus.com/time-series/arima-model-time-series-forecasting-python/\n",
    "\"\"\"\n",
    "\n",
    "def make_stationary(data):\n",
    "    \n",
    "#1st Order Differencing\n",
    "    data_first_od = data.diff()\n",
    "    data_first_od_dropped = data_first_od.dropna(inplace=True)\n",
    "    \n",
    "    return data_first_od"
   ]
  },
  {
   "cell_type": "code",
   "execution_count": 7,
   "id": "44bedfc0",
   "metadata": {},
   "outputs": [],
   "source": [
    "def performance_metrics(y_test, y_pred):\n",
    "    \n",
    "    sign1 = np.sign(np.array(y_test[1:]) - np.array(y_test[:-1]))\n",
    "    sign2 = np.sign(np.array(y_pred[1:]) - np.array(y_pred[:-1]))\n",
    "    rmse = np.sqrt(metrics.mean_squared_error(y_test, y_pred))\n",
    "    mape = np.mean(np.abs((y_test - y_pred) / y_test )) *100\n",
    "    mae = metrics.mean_absolute_error(y_test, y_pred)\n",
    "    r2 = metrics.r2_score(y_test, y_pred)\n",
    "    mda = np.mean((sign1 == sign2).astype(int))\n",
    "    mean = np.mean(y_test)\n",
    "    si = (rmse/mean)*100\n",
    "    \n",
    "    print(\"RMSE: \", rmse)\n",
    "    print(\"MAPE: \", mape)\n",
    "    print(\"MAE: \", mae)\n",
    "    print(\"Scatter Index: \", si)\n",
    "    print(\"MDA: \", mda)\n",
    "    print(\"Mean of actual: \", mean)\n",
    "    \n",
    "#16 lines, 9 lines written by me, 4 documentation 3 modi"
   ]
  },
  {
   "cell_type": "code",
   "execution_count": 8,
   "id": "3c33570d",
   "metadata": {},
   "outputs": [
    {
     "name": "stdout",
     "output_type": "stream",
     "text": [
      "47    5.253679\n",
      "dtype: float64\n"
     ]
    }
   ],
   "source": [
    "data = read_data('/Users/farhanhabibie/Desktop/Farhan Thesis Code /UG-Project-Farhan/Indonesia Macro Dataset.xlsx', \n",
    "                     'NY.GDP.MKTP.KD.ZG')\n",
    "data = data.dropna()\n",
    "print(data.mean())\n",
    "data_first_ord = make_stationary(data)\n",
    "#1 line written by me"
   ]
  },
  {
   "cell_type": "code",
   "execution_count": 9,
   "id": "378142dd",
   "metadata": {},
   "outputs": [
    {
     "name": "stdout",
     "output_type": "stream",
     "text": [
      "ADF Statistic:  -5.23070103191413\n",
      "p-value:  7.6080169097595066e-06\n",
      "Critical Values:\n",
      "\t1%: -3.548493559596539\n",
      "\t5%: -2.912836594776334\n",
      "\t10%: -2.594129155766944\n"
     ]
    },
    {
     "data": {
      "image/png": "[encoded data removed]",
      "text/plain": [
       "<Figure size 432x288 with 1 Axes>"
      ]
     },
     "metadata": {
      "needs_background": "light"
     },
     "output_type": "display_data"
    }
   ],
   "source": [
    "stationarityTest(data)"
   ]
  },
  {
   "cell_type": "code",
   "execution_count": 10,
   "id": "444d9e5a",
   "metadata": {},
   "outputs": [
    {
     "name": "stdout",
     "output_type": "stream",
     "text": [
      "ADF Statistic:  -8.377325786351399\n",
      "p-value:  2.5652078253036e-13\n",
      "Critical Values:\n",
      "\t1%: -3.552928203580539\n",
      "\t5%: -2.9147306250000002\n",
      "\t10%: -2.595137155612245\n"
     ]
    },
    {
     "data": {
      "image/png": "[encoded data removed]",
      "text/plain": [
       "<Figure size 432x288 with 1 Axes>"
      ]
     },
     "metadata": {
      "needs_background": "light"
     },
     "output_type": "display_data"
    }
   ],
   "source": [
    "stationarityTest(data_first_ord)"
   ]
  },
  {
   "cell_type": "code",
   "execution_count": 11,
   "id": "1efdbe5a",
   "metadata": {},
   "outputs": [],
   "source": [
    "#Find AR order(p), differencing order(d), MA(q)\n",
    "\n",
    "#Find AR order(p) using a PACF, only considering the \n",
    "#plot_pacf(data_first_od.dropna(), lags=13)\n",
    "\n",
    "#Find MA order (q) using acf plot\n",
    "#plot_acf(data_first_od.dropna())\n",
    "\n",
    "#2 lines from documentation"
   ]
  },
  {
   "cell_type": "code",
   "execution_count": 12,
   "id": "6607bd3c",
   "metadata": {},
   "outputs": [],
   "source": [
    "train = data[:int(len(data)*0.8)]\n",
    "test = data[int(len(data)*0.8):]"
   ]
  },
  {
   "cell_type": "code",
   "execution_count": 13,
   "id": "87e6051e",
   "metadata": {},
   "outputs": [
    {
     "data": {
      "text/html": [
       "<div>\n",
       "<style scoped>\n",
       "    .dataframe tbody tr th:only-of-type {\n",
       "        vertical-align: middle;\n",
       "    }\n",
       "\n",
       "    .dataframe tbody tr th {\n",
       "        vertical-align: top;\n",
       "    }\n",
       "\n",
       "    .dataframe thead th {\n",
       "        text-align: right;\n",
       "    }\n",
       "</style>\n",
       "<table border=\"1\" class=\"dataframe\">\n",
       "  <thead>\n",
       "    <tr style=\"text-align: right;\">\n",
       "      <th></th>\n",
       "      <th>47</th>\n",
       "    </tr>\n",
       "  </thead>\n",
       "  <tbody>\n",
       "    <tr>\n",
       "      <th>1961</th>\n",
       "      <td>5.740646</td>\n",
       "    </tr>\n",
       "    <tr>\n",
       "      <th>1962</th>\n",
       "      <td>1.841978</td>\n",
       "    </tr>\n",
       "    <tr>\n",
       "      <th>1963</th>\n",
       "      <td>-2.237030</td>\n",
       "    </tr>\n",
       "    <tr>\n",
       "      <th>1964</th>\n",
       "      <td>3.529698</td>\n",
       "    </tr>\n",
       "    <tr>\n",
       "      <th>1965</th>\n",
       "      <td>1.081589</td>\n",
       "    </tr>\n",
       "    <tr>\n",
       "      <th>1966</th>\n",
       "      <td>2.791347</td>\n",
       "    </tr>\n",
       "    <tr>\n",
       "      <th>1967</th>\n",
       "      <td>1.380403</td>\n",
       "    </tr>\n",
       "    <tr>\n",
       "      <th>1968</th>\n",
       "      <td>10.915179</td>\n",
       "    </tr>\n",
       "    <tr>\n",
       "      <th>1969</th>\n",
       "      <td>6.822298</td>\n",
       "    </tr>\n",
       "    <tr>\n",
       "      <th>1970</th>\n",
       "      <td>7.554635</td>\n",
       "    </tr>\n",
       "    <tr>\n",
       "      <th>1971</th>\n",
       "      <td>7.023997</td>\n",
       "    </tr>\n",
       "    <tr>\n",
       "      <th>1972</th>\n",
       "      <td>7.037643</td>\n",
       "    </tr>\n",
       "    <tr>\n",
       "      <th>1973</th>\n",
       "      <td>8.103976</td>\n",
       "    </tr>\n",
       "    <tr>\n",
       "      <th>1974</th>\n",
       "      <td>7.634673</td>\n",
       "    </tr>\n",
       "    <tr>\n",
       "      <th>1975</th>\n",
       "      <td>4.977301</td>\n",
       "    </tr>\n",
       "    <tr>\n",
       "      <th>1976</th>\n",
       "      <td>6.886565</td>\n",
       "    </tr>\n",
       "    <tr>\n",
       "      <th>1977</th>\n",
       "      <td>8.761326</td>\n",
       "    </tr>\n",
       "    <tr>\n",
       "      <th>1978</th>\n",
       "      <td>6.767070</td>\n",
       "    </tr>\n",
       "    <tr>\n",
       "      <th>1979</th>\n",
       "      <td>7.324309</td>\n",
       "    </tr>\n",
       "    <tr>\n",
       "      <th>1980</th>\n",
       "      <td>9.880078</td>\n",
       "    </tr>\n",
       "    <tr>\n",
       "      <th>1981</th>\n",
       "      <td>7.927157</td>\n",
       "    </tr>\n",
       "    <tr>\n",
       "      <th>1982</th>\n",
       "      <td>2.246445</td>\n",
       "    </tr>\n",
       "    <tr>\n",
       "      <th>1983</th>\n",
       "      <td>4.192967</td>\n",
       "    </tr>\n",
       "    <tr>\n",
       "      <th>1984</th>\n",
       "      <td>6.975528</td>\n",
       "    </tr>\n",
       "    <tr>\n",
       "      <th>1985</th>\n",
       "      <td>2.462144</td>\n",
       "    </tr>\n",
       "    <tr>\n",
       "      <th>1986</th>\n",
       "      <td>5.875045</td>\n",
       "    </tr>\n",
       "    <tr>\n",
       "      <th>1987</th>\n",
       "      <td>4.925927</td>\n",
       "    </tr>\n",
       "    <tr>\n",
       "      <th>1988</th>\n",
       "      <td>5.780498</td>\n",
       "    </tr>\n",
       "    <tr>\n",
       "      <th>1989</th>\n",
       "      <td>7.456587</td>\n",
       "    </tr>\n",
       "    <tr>\n",
       "      <th>1990</th>\n",
       "      <td>7.242132</td>\n",
       "    </tr>\n",
       "    <tr>\n",
       "      <th>1991</th>\n",
       "      <td>6.911983</td>\n",
       "    </tr>\n",
       "    <tr>\n",
       "      <th>1992</th>\n",
       "      <td>6.497507</td>\n",
       "    </tr>\n",
       "    <tr>\n",
       "      <th>1993</th>\n",
       "      <td>6.496408</td>\n",
       "    </tr>\n",
       "    <tr>\n",
       "      <th>1994</th>\n",
       "      <td>7.539971</td>\n",
       "    </tr>\n",
       "    <tr>\n",
       "      <th>1995</th>\n",
       "      <td>8.220007</td>\n",
       "    </tr>\n",
       "    <tr>\n",
       "      <th>1996</th>\n",
       "      <td>7.818187</td>\n",
       "    </tr>\n",
       "    <tr>\n",
       "      <th>1997</th>\n",
       "      <td>4.699879</td>\n",
       "    </tr>\n",
       "    <tr>\n",
       "      <th>1998</th>\n",
       "      <td>-13.126725</td>\n",
       "    </tr>\n",
       "    <tr>\n",
       "      <th>1999</th>\n",
       "      <td>0.791126</td>\n",
       "    </tr>\n",
       "    <tr>\n",
       "      <th>2000</th>\n",
       "      <td>4.920068</td>\n",
       "    </tr>\n",
       "    <tr>\n",
       "      <th>2001</th>\n",
       "      <td>3.643466</td>\n",
       "    </tr>\n",
       "    <tr>\n",
       "      <th>2002</th>\n",
       "      <td>4.499475</td>\n",
       "    </tr>\n",
       "    <tr>\n",
       "      <th>2003</th>\n",
       "      <td>4.780369</td>\n",
       "    </tr>\n",
       "    <tr>\n",
       "      <th>2004</th>\n",
       "      <td>5.030874</td>\n",
       "    </tr>\n",
       "    <tr>\n",
       "      <th>2005</th>\n",
       "      <td>5.692571</td>\n",
       "    </tr>\n",
       "    <tr>\n",
       "      <th>2006</th>\n",
       "      <td>5.500952</td>\n",
       "    </tr>\n",
       "    <tr>\n",
       "      <th>2007</th>\n",
       "      <td>6.345022</td>\n",
       "    </tr>\n",
       "    <tr>\n",
       "      <th>2008</th>\n",
       "      <td>6.013704</td>\n",
       "    </tr>\n",
       "    <tr>\n",
       "      <th>2009</th>\n",
       "      <td>4.628871</td>\n",
       "    </tr>\n",
       "    <tr>\n",
       "      <th>2010</th>\n",
       "      <td>6.223854</td>\n",
       "    </tr>\n",
       "    <tr>\n",
       "      <th>2011</th>\n",
       "      <td>6.169784</td>\n",
       "    </tr>\n",
       "    <tr>\n",
       "      <th>2012</th>\n",
       "      <td>6.030051</td>\n",
       "    </tr>\n",
       "    <tr>\n",
       "      <th>2013</th>\n",
       "      <td>5.557264</td>\n",
       "    </tr>\n",
       "    <tr>\n",
       "      <th>2014</th>\n",
       "      <td>5.006668</td>\n",
       "    </tr>\n",
       "    <tr>\n",
       "      <th>2015</th>\n",
       "      <td>4.876322</td>\n",
       "    </tr>\n",
       "    <tr>\n",
       "      <th>2016</th>\n",
       "      <td>5.033069</td>\n",
       "    </tr>\n",
       "    <tr>\n",
       "      <th>2017</th>\n",
       "      <td>5.069786</td>\n",
       "    </tr>\n",
       "    <tr>\n",
       "      <th>2018</th>\n",
       "      <td>5.169706</td>\n",
       "    </tr>\n",
       "    <tr>\n",
       "      <th>2019</th>\n",
       "      <td>5.024714</td>\n",
       "    </tr>\n",
       "  </tbody>\n",
       "</table>\n",
       "</div>"
      ],
      "text/plain": [
       "             47\n",
       "1961   5.740646\n",
       "1962   1.841978\n",
       "1963  -2.237030\n",
       "1964   3.529698\n",
       "1965   1.081589\n",
       "1966   2.791347\n",
       "1967   1.380403\n",
       "1968  10.915179\n",
       "1969   6.822298\n",
       "1970   7.554635\n",
       "1971   7.023997\n",
       "1972   7.037643\n",
       "1973   8.103976\n",
       "1974   7.634673\n",
       "1975   4.977301\n",
       "1976   6.886565\n",
       "1977   8.761326\n",
       "1978   6.767070\n",
       "1979   7.324309\n",
       "1980   9.880078\n",
       "1981   7.927157\n",
       "1982   2.246445\n",
       "1983   4.192967\n",
       "1984   6.975528\n",
       "1985   2.462144\n",
       "1986   5.875045\n",
       "1987   4.925927\n",
       "1988   5.780498\n",
       "1989   7.456587\n",
       "1990   7.242132\n",
       "1991   6.911983\n",
       "1992   6.497507\n",
       "1993   6.496408\n",
       "1994   7.539971\n",
       "1995   8.220007\n",
       "1996   7.818187\n",
       "1997   4.699879\n",
       "1998 -13.126725\n",
       "1999   0.791126\n",
       "2000   4.920068\n",
       "2001   3.643466\n",
       "2002   4.499475\n",
       "2003   4.780369\n",
       "2004   5.030874\n",
       "2005   5.692571\n",
       "2006   5.500952\n",
       "2007   6.345022\n",
       "2008   6.013704\n",
       "2009   4.628871\n",
       "2010   6.223854\n",
       "2011   6.169784\n",
       "2012   6.030051\n",
       "2013   5.557264\n",
       "2014   5.006668\n",
       "2015   4.876322\n",
       "2016   5.033069\n",
       "2017   5.069786\n",
       "2018   5.169706\n",
       "2019   5.024714"
      ]
     },
     "execution_count": 13,
     "metadata": {},
     "output_type": "execute_result"
    }
   ],
   "source": [
    "data"
   ]
  },
  {
   "cell_type": "code",
   "execution_count": 26,
   "id": "af69ec9c",
   "metadata": {},
   "outputs": [],
   "source": [
    "\"\"\"\n",
    "reused and modified from: \n",
    "\n",
    "https://www.machinelearningplus.com/time-series/arima-model-time-series-forecasting-python/\n",
    "\"\"\"\n",
    "\n",
    "model = ARIMA(train, order=(1,0,0)) \n",
    "model = model.fit()\n",
    "predict = model.predict(start=len(train), end=len(train)+len(test)-1)\n",
    "#3 lines from guide but modified"
   ]
  },
  {
   "cell_type": "code",
   "execution_count": 27,
   "id": "01f65328",
   "metadata": {},
   "outputs": [
    {
     "data": {
      "text/plain": [
       "<AxesSubplot:title={'center':'Real Interest Rate Actual vs Predicted'}>"
      ]
     },
     "execution_count": 27,
     "metadata": {},
     "output_type": "execute_result"
    },
    {
     "data": {
      "image/png": "[encoded data removed]",
      "text/plain": [
       "<Figure size 432x288 with 1 Axes>"
      ]
     },
     "metadata": {
      "needs_background": "light"
     },
     "output_type": "display_data"
    }
   ],
   "source": [
    "df_compare = pd.DataFrame({'Actual' : test.values.flatten(), 'Predicted' : predict.values})\n",
    "newindex = test.index.values.tolist()\n",
    "df_compare.index = newindex\n",
    "df_compare.plot(title='Real Interest Rate Actual vs Predicted')\n",
    "#4 lines written by me"
   ]
  },
  {
   "cell_type": "code",
   "execution_count": 28,
   "id": "8d0ad541",
   "metadata": {},
   "outputs": [
    {
     "name": "stdout",
     "output_type": "stream",
     "text": [
      "RMSE:  0.5378668577229616\n",
      "MAPE:  8.623017497598878\n",
      "MAE:  0.4452163744049731\n",
      "Scatter Index:  9.959914379138402\n",
      "MDA:  0.6363636363636364\n",
      "Mean of actual:  5.400316079519256\n"
     ]
    }
   ],
   "source": [
    "performance_metrics(test.values, predict.values)\n",
    "#1 line written by me"
   ]
  },
  {
   "cell_type": "code",
   "execution_count": 18,
   "id": "0a357035",
   "metadata": {},
   "outputs": [
    {
     "name": "stdout",
     "output_type": "stream",
     "text": [
      "Performing stepwise search to minimize aic\n",
      " ARIMA(0,0,0)(0,0,0)[0] intercept   : AIC=260.072, Time=0.01 sec\n",
      " ARIMA(1,0,0)(0,0,0)[0] intercept   : AIC=256.304, Time=0.02 sec\n",
      " ARIMA(0,0,1)(0,0,0)[0] intercept   : AIC=256.538, Time=0.01 sec\n",
      " ARIMA(0,0,0)(0,0,0)[0]             : AIC=309.705, Time=0.00 sec\n",
      " ARIMA(2,0,0)(0,0,0)[0] intercept   : AIC=258.268, Time=0.02 sec\n",
      " ARIMA(1,0,1)(0,0,0)[0] intercept   : AIC=258.256, Time=0.02 sec\n",
      " ARIMA(2,0,1)(0,0,0)[0] intercept   : AIC=260.236, Time=0.05 sec\n",
      " ARIMA(1,0,0)(0,0,0)[0]             : AIC=269.111, Time=0.01 sec\n",
      "\n",
      "Best model:  ARIMA(1,0,0)(0,0,0)[0] intercept\n",
      "Total fit time: 0.138 seconds\n"
     ]
    },
    {
     "data": {
      "text/html": [
       "<table class=\"simpletable\">\n",
       "<caption>SARIMAX Results</caption>\n",
       "<tr>\n",
       "  <th>Dep. Variable:</th>           <td>y</td>        <th>  No. Observations:  </th>    <td>47</td>   \n",
       "</tr>\n",
       "<tr>\n",
       "  <th>Model:</th>           <td>SARIMAX(1, 0, 0)</td> <th>  Log Likelihood     </th> <td>-125.152</td>\n",
       "</tr>\n",
       "<tr>\n",
       "  <th>Date:</th>            <td>Wed, 27 Apr 2022</td> <th>  AIC                </th>  <td>256.304</td>\n",
       "</tr>\n",
       "<tr>\n",
       "  <th>Time:</th>                <td>18:14:24</td>     <th>  BIC                </th>  <td>261.855</td>\n",
       "</tr>\n",
       "<tr>\n",
       "  <th>Sample:</th>                  <td>0</td>        <th>  HQIC               </th>  <td>258.393</td>\n",
       "</tr>\n",
       "<tr>\n",
       "  <th></th>                       <td> - 47</td>      <th>                     </th>     <td> </td>   \n",
       "</tr>\n",
       "<tr>\n",
       "  <th>Covariance Type:</th>        <td>opg</td>       <th>                     </th>     <td> </td>   \n",
       "</tr>\n",
       "</table>\n",
       "<table class=\"simpletable\">\n",
       "<tr>\n",
       "      <td></td>         <th>coef</th>     <th>std err</th>      <th>z</th>      <th>P>|z|</th>  <th>[0.025</th>    <th>0.975]</th>  \n",
       "</tr>\n",
       "<tr>\n",
       "  <th>intercept</th> <td>    3.4724</td> <td>    1.241</td> <td>    2.797</td> <td> 0.005</td> <td>    1.039</td> <td>    5.905</td>\n",
       "</tr>\n",
       "<tr>\n",
       "  <th>ar.L1</th>     <td>    0.3365</td> <td>    0.239</td> <td>    1.405</td> <td> 0.160</td> <td>   -0.133</td> <td>    0.806</td>\n",
       "</tr>\n",
       "<tr>\n",
       "  <th>sigma2</th>    <td>   12.0033</td> <td>    1.386</td> <td>    8.662</td> <td> 0.000</td> <td>    9.287</td> <td>   14.719</td>\n",
       "</tr>\n",
       "</table>\n",
       "<table class=\"simpletable\">\n",
       "<tr>\n",
       "  <th>Ljung-Box (L1) (Q):</th>     <td>0.01</td> <th>  Jarque-Bera (JB):  </th> <td>450.88</td>\n",
       "</tr>\n",
       "<tr>\n",
       "  <th>Prob(Q):</th>                <td>0.91</td> <th>  Prob(JB):          </th>  <td>0.00</td> \n",
       "</tr>\n",
       "<tr>\n",
       "  <th>Heteroskedasticity (H):</th> <td>2.47</td> <th>  Skew:              </th>  <td>-3.05</td>\n",
       "</tr>\n",
       "<tr>\n",
       "  <th>Prob(H) (two-sided):</th>    <td>0.08</td> <th>  Kurtosis:          </th>  <td>16.89</td>\n",
       "</tr>\n",
       "</table><br/><br/>Warnings:<br/>[1] Covariance matrix calculated using the outer product of gradients (complex-step)."
      ],
      "text/plain": [
       "<class 'statsmodels.iolib.summary.Summary'>\n",
       "\"\"\"\n",
       "                               SARIMAX Results                                \n",
       "==============================================================================\n",
       "Dep. Variable:                      y   No. Observations:                   47\n",
       "Model:               SARIMAX(1, 0, 0)   Log Likelihood                -125.152\n",
       "Date:                Wed, 27 Apr 2022   AIC                            256.304\n",
       "Time:                        18:14:24   BIC                            261.855\n",
       "Sample:                             0   HQIC                           258.393\n",
       "                                 - 47                                         \n",
       "Covariance Type:                  opg                                         \n",
       "==============================================================================\n",
       "                 coef    std err          z      P>|z|      [0.025      0.975]\n",
       "------------------------------------------------------------------------------\n",
       "intercept      3.4724      1.241      2.797      0.005       1.039       5.905\n",
       "ar.L1          0.3365      0.239      1.405      0.160      -0.133       0.806\n",
       "sigma2        12.0033      1.386      8.662      0.000       9.287      14.719\n",
       "===================================================================================\n",
       "Ljung-Box (L1) (Q):                   0.01   Jarque-Bera (JB):               450.88\n",
       "Prob(Q):                              0.91   Prob(JB):                         0.00\n",
       "Heteroskedasticity (H):               2.47   Skew:                            -3.05\n",
       "Prob(H) (two-sided):                  0.08   Kurtosis:                        16.89\n",
       "===================================================================================\n",
       "\n",
       "Warnings:\n",
       "[1] Covariance matrix calculated using the outer product of gradients (complex-step).\n",
       "\"\"\""
      ]
     },
     "execution_count": 18,
     "metadata": {},
     "output_type": "execute_result"
    }
   ],
   "source": [
    "\"\"\"\n",
    "Idea for using pmdarima attributed to the video on youtube:\n",
    "\n",
    "https://www.youtube.com/watch?v=8FCDpFhd1zk&ab_channel=NachiketaHebbar\n",
    "\"\"\"\n",
    "\n",
    "autoarima = auto_arima(train, start_p=0, start_q=0, \n",
    "                       max_p=10, max_d=5, max_q=10,\n",
    "                       trace=True, d=0, suppress_warnings=True, n_fits=50)\n",
    "\n",
    "autoarima.summary()\n",
    "\n",
    "#2 lines from youtube"
   ]
  },
  {
   "cell_type": "code",
   "execution_count": 19,
   "id": "c9e6ccc3",
   "metadata": {},
   "outputs": [
    {
     "data": {
      "text/plain": [
       "'\\n83 Lines of code\\n'"
      ]
     },
     "execution_count": 19,
     "metadata": {},
     "output_type": "execute_result"
    }
   ],
   "source": [
    "\"\"\"\n",
    "83 Lines of code\n",
    "\"\"\""
   ]
  }
 ],
 "metadata": {
  "kernelspec": {
   "display_name": "Python 3 (ipykernel)",
   "language": "python",
   "name": "python3"
  },
  "language_info": {
   "codemirror_mode": {
    "name": "ipython",
    "version": 3
   },
   "file_extension": ".py",
   "mimetype": "text/x-python",
   "name": "python",
   "nbconvert_exporter": "python",
   "pygments_lexer": "ipython3",
   "version": "3.9.7"
  }
 },
 "nbformat": 4,
 "nbformat_minor": 5
}
