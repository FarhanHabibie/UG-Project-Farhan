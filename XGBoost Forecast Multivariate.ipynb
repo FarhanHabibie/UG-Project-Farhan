{
 "cells": [
  {
   "cell_type": "code",
   "execution_count": 1,
   "id": "5f95523b",
   "metadata": {},
   "outputs": [],
   "source": [
    "import numpy as np\n",
    "import pandas as pd\n",
    "from xgboost import XGBRegressor\n",
    "from sklearn import metrics\n",
    "import matplotlib.pyplot as plt\n",
    "from statsmodels.graphics.tsaplots import plot_acf"
   ]
  },
  {
   "cell_type": "code",
   "execution_count": 2,
   "id": "72cb7738",
   "metadata": {},
   "outputs": [],
   "source": [
    "pd.set_option('display.max_rows', 500)\n",
    "pd.set_option('display.max_columns', 500)\n",
    "pd.set_option('display.width', 1000)"
   ]
  },
  {
   "cell_type": "code",
   "execution_count": 47,
   "id": "470af029",
   "metadata": {},
   "outputs": [],
   "source": [
    "\"\"\"\n",
    "Function to format dataset into a better form\n",
    "\n",
    "\"\"\"\n",
    "def format_data(filepath):\n",
    "    #Read file\n",
    "    df = pd.read_excel(filepath)\n",
    "    \n",
    "    #Drop unnecessary columns\n",
    "    df2 = df.drop(columns=['Country Name', 'Country Code', 'Indicator Name'])\n",
    "    \n",
    "    #Melt according to indicator name and code\n",
    "    df3 = df2.melt(id_vars=['Indicator Code'], var_name=\"Year\", value_name=\"Vals\")\n",
    "    \n",
    "    return df3"
   ]
  },
  {
   "cell_type": "code",
   "execution_count": 48,
   "id": "87ebd06c",
   "metadata": {},
   "outputs": [],
   "source": [
    "def select_indicators(data ,indicators):\n",
    "    df_indicators = data.loc[data['Indicator Code'] == indicators]\n",
    "    \n",
    "    return df_indicators"
   ]
  },
  {
   "cell_type": "code",
   "execution_count": 49,
   "id": "e1c96334",
   "metadata": {},
   "outputs": [],
   "source": [
    "data = format_data('/Users/farhanhabibie/Desktop/Farhan Thesis Code /UG-Project-Farhan/Indonesia Macro Dataset.xlsx')"
   ]
  },
  {
   "cell_type": "code",
   "execution_count": 56,
   "id": "b5e62c99",
   "metadata": {},
   "outputs": [],
   "source": [
    "\"\"\"\n",
    "Since GDP = Consumption + Investment + Gov Spending + (Exports - Imports)\n",
    "\n",
    "Need to select the correct indicators\n",
    "\"\"\"\n",
    "selected_indicators = select_indicators(data, [])"
   ]
  }
 ],
 "metadata": {
  "kernelspec": {
   "display_name": "Python 3 (ipykernel)",
   "language": "python",
   "name": "python3"
  },
  "language_info": {
   "codemirror_mode": {
    "name": "ipython",
    "version": 3
   },
   "file_extension": ".py",
   "mimetype": "text/x-python",
   "name": "python",
   "nbconvert_exporter": "python",
   "pygments_lexer": "ipython3",
   "version": "3.9.7"
  }
 },
 "nbformat": 4,
 "nbformat_minor": 5
}
