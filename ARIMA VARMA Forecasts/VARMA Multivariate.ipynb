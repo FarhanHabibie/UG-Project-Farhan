{
 "cells": [
  {
   "cell_type": "code",
   "execution_count": 1,
   "id": "4e463c09",
   "metadata": {},
   "outputs": [
    {
     "data": {
      "text/plain": [
       "'\\nCREATED FROM COMBINING RESEARCH FROM:\\n\\nhttps://analyticsindiamag.com/a-guide-to-varma-with-auto-arima-in-time-series-modelling/\\nhttps://www.analyticsvidhya.com/blog/2018/09/multivariate-time-series-guide-forecasting-modeling-python-codes/\\n\\nand credits for how to create a VARMA model as well\\n\\nhttps://machinelearningmastery.com/time-series-forecasting-methods-in-python-cheat-sheet/\\n\\n\\nand\\n\\nmy brain for the feature selection and combining xgboost to decide which variables\\nto use for prediction >:) (delete this before final submission)\\n'"
      ]
     },
     "execution_count": 1,
     "metadata": {},
     "output_type": "execute_result"
    }
   ],
   "source": [
    "\"\"\"\n",
    "CREATED FROM COMBINING RESEARCH FROM:\n",
    "\n",
    "https://analyticsindiamag.com/a-guide-to-varma-with-auto-arima-in-time-series-modelling/\n",
    "https://www.analyticsvidhya.com/blog/2018/09/multivariate-time-series-guide-forecasting-modeling-python-codes/\n",
    "\n",
    "and credits for how to create a VARMA model as well\n",
    "\n",
    "https://machinelearningmastery.com/time-series-forecasting-methods-in-python-cheat-sheet/\n",
    "\n",
    "\"\"\""
   ]
  },
  {
   "cell_type": "code",
   "execution_count": 2,
   "id": "97ae4558",
   "metadata": {},
   "outputs": [],
   "source": [
    "import pandas as pd\n",
    "import numpy as np\n",
    "import matplotlib.pyplot as plt\n",
    "from xgboost import XGBRegressor\n",
    "from statsmodels.tsa.statespace.varmax import VARMAX\n",
    "from statsmodels.tsa.vector_ar.vecm import coint_johansen\n",
    "from statsmodels.tsa.stattools import adfuller\n",
    "from sklearn.feature_selection import SelectFromModel\n",
    "from sklearn.model_selection import train_test_split\n",
    "from xgboost import plot_importance\n",
    "from pmdarima import auto_arima\n",
    "from sklearn import metrics\n",
    "from sklearn.preprocessing import StandardScaler\n",
    "\n",
    "#Imported to ignore warnings from ARIMA\n",
    "import warnings\n",
    "warnings.filterwarnings(\"ignore\")\n",
    "\n",
    "#14 import statements"
   ]
  },
  {
   "cell_type": "code",
   "execution_count": 3,
   "id": "4ce17f86",
   "metadata": {},
   "outputs": [],
   "source": [
    "pd.set_option('display.max_rows', 500)\n",
    "pd.set_option('display.max_columns', 500)\n",
    "pd.set_option('display.width', 1000)\n",
    "\n",
    "#3 lines written by me"
   ]
  },
  {
   "cell_type": "code",
   "execution_count": 4,
   "id": "56d7bbc3",
   "metadata": {},
   "outputs": [],
   "source": [
    "def format_data(path):\n",
    "    df = pd.read_excel(path, index_col='Year', parse_dates=True)\n",
    "    df2 = df.drop(columns=['Country Name', 'Country Code'])\n",
    "    df2 = df2.dropna(axis=1, how='all')\n",
    "    \n",
    "    #Have to shift GDP Growth to last column because that will be the target\n",
    "    #Refactored from a stackoverflow post\n",
    "    df3 = df2[[column for column in df2 if column not in ['GDP growth (annual %)']] + ['GDP growth (annual %)']]\n",
    "    \n",
    "    return df3\n",
    "\n",
    "#6 lines total, 5 written by me, 1 reused from stackoverflow"
   ]
  },
  {
   "cell_type": "code",
   "execution_count": 5,
   "id": "60b2272a",
   "metadata": {},
   "outputs": [],
   "source": [
    "#Handle missing data using mean imputation. Cannot use linear imputation as not always\n",
    "#2 adjacent points are known\n",
    "\n",
    "def fillmissing(data):\n",
    "        \n",
    "    newdata = data.fillna(data.mean())\n",
    "    \n",
    "    return newdata\n",
    "\n",
    "#3 lines written by me"
   ]
  },
  {
   "cell_type": "code",
   "execution_count": 6,
   "id": "2150b036",
   "metadata": {},
   "outputs": [],
   "source": [
    "data = format_data('/Users/farhanhabibie/Desktop/Farhan Thesis Code /UG-Project-Farhan/Multivariate More.xlsx')\n",
    "#1 line written by me"
   ]
  },
  {
   "cell_type": "code",
   "execution_count": 7,
   "id": "9cf02ae7",
   "metadata": {},
   "outputs": [],
   "source": [
    "data.drop(data.tail(1).index,inplace=True) #remove last row\n",
    "#1 line written by me"
   ]
  },
  {
   "cell_type": "code",
   "execution_count": 8,
   "id": "63c7af34",
   "metadata": {},
   "outputs": [],
   "source": [
    "filled_data = fillmissing(data)\n",
    "#1 line written by me"
   ]
  },
  {
   "cell_type": "code",
   "execution_count": 9,
   "id": "2c4dcfaa",
   "metadata": {},
   "outputs": [],
   "source": [
    "#Using Feature Importance to select best influences\n",
    "\n",
    "\"\"\"\n",
    "Modified from the guide:\n",
    "\n",
    "https://machinelearningmastery.com/feature-importance-and-feature-selection-with-xgboost-in-python/\n",
    "\"\"\"\n",
    "\n",
    "def feature_selection(model, X_train, X_test, y_train):\n",
    "    \n",
    "    selector = SelectFromModel(model, max_features=3, threshold=-np.inf)\n",
    "    selector.fit (X_train, y_train)\n",
    "    \n",
    "    select_X_train = selector.transform(X_train)\n",
    "    select_X_test = selector.transform(X_test)\n",
    "    \n",
    "    #print (selector.get_feature_names_out())\n",
    "    \n",
    "    selection_model = XGBRegressor(objective='reg:squarederror', n_estimators=1000, max_depth=1, learning_rate = 0.1)\n",
    "    selection_model.fit(select_X_train, y_train)\n",
    "    \n",
    "    select_y_pred = selection_model.predict(select_X_test)\n",
    "    \n",
    "    selection_model.get_booster().feature_names = selector.get_feature_names_out().tolist()\n",
    "    plot_importance(selection_model.get_booster())\n",
    "    \n",
    "    return selector ,select_X_train ,select_y_pred\n",
    "\n",
    "#11 lines of code taken from a guide and then modified"
   ]
  },
  {
   "cell_type": "code",
   "execution_count": 10,
   "id": "c6de53bc",
   "metadata": {},
   "outputs": [],
   "source": [
    "X = filled_data.iloc[:,:-1]\n",
    "y = filled_data.iloc[:,-1]\n",
    "\n",
    "#2 lines from guide and modified"
   ]
  },
  {
   "cell_type": "code",
   "execution_count": 11,
   "id": "1138ed03",
   "metadata": {},
   "outputs": [],
   "source": [
    "X_train, X_test, y_train, y_test = train_test_split(X, y, test_size=0.2, random_state=0, shuffle=False)\n",
    "\n",
    "#1 line from documentation"
   ]
  },
  {
   "cell_type": "code",
   "execution_count": 12,
   "id": "f4c72dce",
   "metadata": {},
   "outputs": [
    {
     "data": {
      "text/plain": [
       "XGBRegressor(base_score=0.5, booster='gbtree', colsample_bylevel=1,\n",
       "             colsample_bynode=1, colsample_bytree=1, enable_categorical=False,\n",
       "             gamma=0, gpu_id=-1, importance_type=None,\n",
       "             interaction_constraints='', learning_rate=0.2, max_delta_step=0,\n",
       "             max_depth=1, min_child_weight=1, missing=nan,\n",
       "             monotone_constraints='()', n_estimators=1000, n_jobs=8,\n",
       "             num_parallel_tree=1, predictor='auto', random_state=0, reg_alpha=0,\n",
       "             reg_lambda=1, scale_pos_weight=1, subsample=1, tree_method='exact',\n",
       "             validate_parameters=1, verbosity=None)"
      ]
     },
     "execution_count": 12,
     "metadata": {},
     "output_type": "execute_result"
    }
   ],
   "source": [
    "#Using the hyperparameter tuned model for XGB\n",
    "\n",
    "model = XGBRegressor(objective='reg:squarederror', n_estimators=1000, max_depth=1, learning_rate=0.2)\n",
    "model.fit(X_train, y_train)\n",
    "\n",
    "#2 lines from documentation"
   ]
  },
  {
   "cell_type": "code",
   "execution_count": 13,
   "id": "f057c9d7",
   "metadata": {},
   "outputs": [
    {
     "data": {
      "image/png": "[encoded data removed]",
      "text/plain": [
       "<Figure size 432x288 with 1 Axes>"
      ]
     },
     "metadata": {
      "needs_background": "light"
     },
     "output_type": "display_data"
    }
   ],
   "source": [
    "selector, select_X_train, select_y_pred = feature_selection(model, X_train, X_test, y_train)\n",
    "\n",
    "#1 line written by me"
   ]
  },
  {
   "cell_type": "code",
   "execution_count": 14,
   "id": "1177e51c",
   "metadata": {},
   "outputs": [],
   "source": [
    "best_indicators = filled_data[['GDP growth (annual %)', \n",
    "                               'General government final consumption expenditure (% of GDP)',\n",
    "                              'Final consumption expenditure (% of GDP)',\n",
    "                              'Foreign direct investment, net inflows (% of GDP)',\n",
    "                              'Foreign direct investment, net outflows (% of GDP)',\n",
    "                              'Exports of goods and services (% of GDP)', \n",
    "                               'Imports of goods and services (% of GDP)']]\n",
    "\n",
    "#1 line written by me"
   ]
  },
  {
   "cell_type": "code",
   "execution_count": 15,
   "id": "5054fadd",
   "metadata": {},
   "outputs": [],
   "source": [
    "#Using the plot above, select columns for multivariate forecast and join with gdp growth\n",
    "featurenames = selector.get_feature_names_out().tolist()\n",
    "selected_data = filled_data[featurenames]\n",
    "gdp_data = pd.DataFrame(y)\n",
    "joined_data = pd.concat([selected_data, gdp_data], axis=1)\n",
    "\n",
    "#5 lines written by me"
   ]
  },
  {
   "cell_type": "code",
   "execution_count": 16,
   "id": "0921cf1e",
   "metadata": {},
   "outputs": [
    {
     "data": {
      "text/plain": [
       "array([0.57067771, 0.36245415, 0.25390001, 0.19118498, 0.17541883,\n",
       "       0.08048844, 0.02371741])"
      ]
     },
     "execution_count": 16,
     "metadata": {},
     "output_type": "execute_result"
    }
   ],
   "source": [
    "\"\"\"\n",
    "Method for this way of checking for stationarity comes from and refactored from the guide:\n",
    "\n",
    "https://www.analyticsvidhya.com/blog/2018/09/multivariate-time-series-guide-forecasting-modeling-python-codes/\n",
    "\"\"\"\n",
    "#Check stationarity\n",
    "coint_johansen(best_indicators, -1,1).eig\n",
    "\n",
    "#All eigenvalues are less than 1 therefore it is stationary\n",
    "#We dont use adfuller because the VARMA model does not take into account the differencing order\n",
    "#Eigenvalue condition fulfilled therfore, proceed\n",
    "\n",
    "#1 line from guide"
   ]
  },
  {
   "cell_type": "code",
   "execution_count": 17,
   "id": "d8af7b0d",
   "metadata": {},
   "outputs": [],
   "source": [
    "#Split into train test\n",
    "test_size = len(joined_data) - int(len(joined_data) * 0.8)\n",
    "train = joined_data[:-test_size]\n",
    "test = joined_data[-test_size:]\n",
    "\n",
    "#3 lines from guide but modified"
   ]
  },
  {
   "cell_type": "code",
   "execution_count": 18,
   "id": "775d9ca7",
   "metadata": {},
   "outputs": [],
   "source": [
    "\"\"\"\n",
    "CREDITS FOR IDEA OF USING AUTO-ARIMA IN CONJUCTION WITH VARMA GOES TO:\n",
    "\n",
    "https://analyticsindiamag.com/a-guide-to-varma-with-auto-arima-in-time-series-modelling/\n",
    "\"\"\"\n",
    "\n",
    "def stepwisefits(data, name=\"\"):\n",
    "    stepwise_fit = auto_arima(data, trace=True, suppress_warnings=True)\n",
    "    \n",
    "    print(f'{name} best')\n",
    "    stepwise_fit.summary()\n",
    "    \n",
    "#4 lines from youtubte guide"
   ]
  },
  {
   "cell_type": "code",
   "execution_count": 19,
   "id": "0c6db64f",
   "metadata": {},
   "outputs": [
    {
     "name": "stdout",
     "output_type": "stream",
     "text": [
      "Performing stepwise search to minimize aic\n",
      " ARIMA(2,1,2)(0,0,0)[0] intercept   : AIC=-220.426, Time=0.13 sec\n",
      " ARIMA(0,1,0)(0,0,0)[0] intercept   : AIC=-224.993, Time=0.01 sec\n",
      " ARIMA(1,1,0)(0,0,0)[0] intercept   : AIC=-223.005, Time=0.02 sec\n",
      " ARIMA(0,1,1)(0,0,0)[0] intercept   : AIC=-223.010, Time=0.03 sec\n",
      " ARIMA(0,1,0)(0,0,0)[0]             : AIC=-226.992, Time=0.01 sec\n",
      " ARIMA(1,1,1)(0,0,0)[0] intercept   : AIC=-221.008, Time=0.04 sec\n",
      "\n",
      "Best model:  ARIMA(0,1,0)(0,0,0)[0]          \n",
      "Total fit time: 0.242 seconds\n",
      "Price level ratio of PPP conversion factor (GDP) to market exchange rate best\n",
      "Performing stepwise search to minimize aic\n",
      " ARIMA(2,0,2)(0,0,0)[0] intercept   : AIC=264.466, Time=0.04 sec\n",
      " ARIMA(0,0,0)(0,0,0)[0] intercept   : AIC=262.102, Time=0.00 sec\n",
      " ARIMA(1,0,0)(0,0,0)[0] intercept   : AIC=258.576, Time=0.01 sec\n",
      " ARIMA(0,0,1)(0,0,0)[0] intercept   : AIC=258.694, Time=0.01 sec\n",
      " ARIMA(0,0,0)(0,0,0)[0]             : AIC=286.689, Time=0.00 sec\n",
      " ARIMA(2,0,0)(0,0,0)[0] intercept   : AIC=260.500, Time=0.01 sec\n",
      " ARIMA(1,0,1)(0,0,0)[0] intercept   : AIC=260.484, Time=0.02 sec\n",
      " ARIMA(2,0,1)(0,0,0)[0] intercept   : AIC=262.475, Time=0.03 sec\n",
      " ARIMA(1,0,0)(0,0,0)[0]             : AIC=266.693, Time=0.00 sec\n",
      "\n",
      "Best model:  ARIMA(1,0,0)(0,0,0)[0] intercept\n",
      "Total fit time: 0.130 seconds\n",
      "GDP per capita growth (annual %) best\n",
      "Performing stepwise search to minimize aic\n",
      " ARIMA(2,0,2)(0,0,0)[0] intercept   : AIC=inf, Time=0.04 sec\n",
      " ARIMA(0,0,0)(0,0,0)[0] intercept   : AIC=308.244, Time=0.00 sec\n",
      " ARIMA(1,0,0)(0,0,0)[0] intercept   : AIC=298.944, Time=0.01 sec\n",
      " ARIMA(0,0,1)(0,0,0)[0] intercept   : AIC=297.233, Time=0.01 sec\n",
      " ARIMA(0,0,0)(0,0,0)[0]             : AIC=346.280, Time=0.00 sec\n",
      " ARIMA(1,0,1)(0,0,0)[0] intercept   : AIC=299.230, Time=0.02 sec\n",
      " ARIMA(0,0,2)(0,0,0)[0] intercept   : AIC=299.231, Time=0.02 sec\n",
      " ARIMA(1,0,2)(0,0,0)[0] intercept   : AIC=300.913, Time=0.03 sec\n",
      " ARIMA(0,0,1)(0,0,0)[0]             : AIC=318.421, Time=0.01 sec\n",
      "\n",
      "Best model:  ARIMA(0,0,1)(0,0,0)[0] intercept\n",
      "Total fit time: 0.149 seconds\n",
      "Industry (including construction), value added (annual % growth) best\n",
      "Performing stepwise search to minimize aic\n",
      " ARIMA(2,0,2)(0,0,0)[0] intercept   : AIC=266.509, Time=0.05 sec\n",
      " ARIMA(0,0,0)(0,0,0)[0] intercept   : AIC=264.510, Time=0.00 sec\n",
      " ARIMA(1,0,0)(0,0,0)[0] intercept   : AIC=260.618, Time=0.01 sec\n",
      " ARIMA(0,0,1)(0,0,0)[0] intercept   : AIC=260.861, Time=0.01 sec\n",
      " ARIMA(0,0,0)(0,0,0)[0]             : AIC=315.927, Time=0.00 sec\n",
      " ARIMA(2,0,0)(0,0,0)[0] intercept   : AIC=262.585, Time=0.02 sec\n",
      " ARIMA(1,0,1)(0,0,0)[0] intercept   : AIC=262.572, Time=0.02 sec\n",
      " ARIMA(2,0,1)(0,0,0)[0] intercept   : AIC=264.550, Time=0.04 sec\n",
      " ARIMA(1,0,0)(0,0,0)[0]             : AIC=273.762, Time=0.01 sec\n",
      "\n",
      "Best model:  ARIMA(1,0,0)(0,0,0)[0] intercept\n",
      "Total fit time: 0.156 seconds\n",
      "GDP growth (annual %) best\n"
     ]
    }
   ],
   "source": [
    "for name, column in train.iteritems():\n",
    "    stepwisefits(column, name=column.name)\n",
    "    \n",
    "#2 lines modified from guide"
   ]
  },
  {
   "cell_type": "code",
   "execution_count": 20,
   "id": "cb731569",
   "metadata": {},
   "outputs": [],
   "source": [
    "#(1,0,0), (0,1,0), (0,0,1), (1,0,1), (0,0,2)\n",
    "#Eliminate (0,1,0) as no differencing in order for VARMA"
   ]
  },
  {
   "cell_type": "code",
   "execution_count": 21,
   "id": "8f563efd",
   "metadata": {},
   "outputs": [],
   "source": [
    "#Create model\n",
    "model = VARMAX(train, order=(1,0))\n",
    "model_fit = model.fit(disp=False)\n",
    "y_pred = model_fit.predict(start=len(train), end=len(train)+len(test)-1)\n",
    "\n",
    "#3 lines from documentation and youtube vid together"
   ]
  },
  {
   "cell_type": "code",
   "execution_count": 22,
   "id": "a3a25918",
   "metadata": {},
   "outputs": [],
   "source": [
    "df1 = pd.DataFrame(y_pred)"
   ]
  },
  {
   "cell_type": "code",
   "execution_count": 23,
   "id": "2acc2422",
   "metadata": {},
   "outputs": [],
   "source": [
    "def performance_metrics(y_test, y_pred):\n",
    "    \n",
    "    sign1 = np.sign(np.array(y_test[1:]) - np.array(y_test[:-1]))\n",
    "    sign2 = np.sign(np.array(y_pred[1:]) - np.array(y_pred[:-1]))\n",
    "    rmse = np.sqrt(metrics.mean_squared_error(y_test, y_pred))\n",
    "    mape = np.mean(np.abs((y_test - y_pred) / y_test )) *100\n",
    "    mae = metrics.mean_absolute_error(y_test, y_pred)\n",
    "    r2 = metrics.r2_score(y_test, y_pred)\n",
    "    mda = np.mean((sign1 == sign2).astype(int))\n",
    "    mean = np.mean(y_test)\n",
    "    si = (rmse/mean)*100\n",
    "    \n",
    "    print(\"RMSE: \", rmse)\n",
    "    print(\"MAPE: \", mape)\n",
    "    print(\"MAE: \", mae)\n",
    "    print(\"Scatter Index: \", si)\n",
    "    print(\"MDA: \", mda)\n",
    "    print(\"Mean of actual: \", mean)\n",
    "    \n",
    "#16 lines total, 9 lines me, 3 lines modified, 3 lines documentation"
   ]
  },
  {
   "cell_type": "code",
   "execution_count": 24,
   "id": "383b90ea",
   "metadata": {},
   "outputs": [],
   "source": [
    "#Get the RMSE for GDP \n",
    "df2 = df1['GDP growth (annual %)']\n",
    "\n",
    "#1 line written by me"
   ]
  },
  {
   "cell_type": "code",
   "execution_count": 25,
   "id": "981bb651",
   "metadata": {},
   "outputs": [],
   "source": [
    "test2 = test['GDP growth (annual %)']\n",
    "\n",
    "#1 line written by me"
   ]
  },
  {
   "cell_type": "code",
   "execution_count": 26,
   "id": "760ca4fc",
   "metadata": {},
   "outputs": [
    {
     "name": "stdout",
     "output_type": "stream",
     "text": [
      "RMSE:  0.7844545957160676\n",
      "MAPE:  10.110412045091339\n",
      "MAE:  0.5885079641926402\n",
      "Scatter Index:  14.526086698723399\n",
      "MDA:  0.36363636363636365\n",
      "Mean of actual:  5.400316079519256\n"
     ]
    },
    {
     "data": {
      "image/png": "[encoded data removed]",
      "text/plain": [
       "<Figure size 432x288 with 1 Axes>"
      ]
     },
     "metadata": {
      "needs_background": "light"
     },
     "output_type": "display_data"
    }
   ],
   "source": [
    "df_compare = pd.DataFrame({'Actual' : test2, 'Predicted' : df2})\n",
    "df_compare.plot(title='GDP Growth Actual vs Predicted')\n",
    "performance_metrics(test2, df2)\n",
    "\n",
    "#3 lines written by me"
   ]
  },
  {
   "cell_type": "code",
   "execution_count": 1,
   "id": "9dea4935",
   "metadata": {},
   "outputs": [
    {
     "data": {
      "text/plain": [
       "'86 Lines of code'"
      ]
     },
     "execution_count": 1,
     "metadata": {},
     "output_type": "execute_result"
    }
   ],
   "source": [
    "\"\"\"86 Lines of code\"\"\""
   ]
  }
 ],
 "metadata": {
  "kernelspec": {
   "display_name": "Python 3 (ipykernel)",
   "language": "python",
   "name": "python3"
  },
  "language_info": {
   "codemirror_mode": {
    "name": "ipython",
    "version": 3
   },
   "file_extension": ".py",
   "mimetype": "text/x-python",
   "name": "python",
   "nbconvert_exporter": "python",
   "pygments_lexer": "ipython3",
   "version": "3.9.7"
  }
 },
 "nbformat": 4,
 "nbformat_minor": 5
}
