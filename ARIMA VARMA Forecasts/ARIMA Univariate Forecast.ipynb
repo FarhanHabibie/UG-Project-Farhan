{
 "cells": [
  {
   "cell_type": "code",
   "execution_count": 1,
   "id": "034e995b",
   "metadata": {},
   "outputs": [
    {
     "data": {
      "text/plain": [
       "'\\nThe general method for the ARIMA implementation comes from:\\n\\nhttps://towardsdatascience.com/machine-learning-part-19-time-series-and-autoregressive-integrated-moving-average-model-arima-c1005347b0d7\\nhttps://www.machinelearningplus.com/time-series/arima-model-time-series-forecasting-python/\\n'"
      ]
     },
     "execution_count": 1,
     "metadata": {},
     "output_type": "execute_result"
    }
   ],
   "source": [
    "\"\"\"\n",
    "The general method for the ARIMA implementation comes from:\n",
    "\n",
    "https://towardsdatascience.com/machine-learning-part-19-time-series-and-autoregressive-integrated-moving-average-model-arima-c1005347b0d7\n",
    "https://www.machinelearningplus.com/time-series/arima-model-time-series-forecasting-python/\n",
    "\"\"\""
   ]
  },
  {
   "cell_type": "code",
   "execution_count": 2,
   "id": "01c61c4c",
   "metadata": {},
   "outputs": [],
   "source": [
    "import pandas as pd\n",
    "import numpy as np\n",
    "from statsmodels.tsa.stattools import adfuller\n",
    "from statsmodels.tsa.arima.model import ARIMA\n",
    "from statsmodels.tsa.arima.model import ARIMAResults\n",
    "from sklearn import metrics\n",
    "from statsmodels.graphics.tsaplots import plot_acf, plot_pacf\n",
    "import matplotlib.pyplot as plt\n",
    "from pmdarima import auto_arima\n",
    "\n",
    "#Imported to ignore warnings from ARIMA\n",
    "import warnings\n",
    "warnings.filterwarnings(\"ignore\")\n",
    "\n",
    "#10 import statements"
   ]
  },
  {
   "cell_type": "code",
   "execution_count": 3,
   "id": "531f050d",
   "metadata": {},
   "outputs": [],
   "source": [
    "pd.set_option('display.max_rows', 500)\n",
    "pd.set_option('display.max_columns', 500)\n",
    "pd.set_option('display.width', 1000)\n",
    "\n",
    "#3 lines written by me"
   ]
  },
  {
   "cell_type": "code",
   "execution_count": 4,
   "id": "b12d51fa",
   "metadata": {},
   "outputs": [],
   "source": [
    "def read_data(pathname, indicatorcode):\n",
    "    df = pd.read_excel(pathname)\n",
    "    \n",
    "    df2 = df.loc[df['Indicator Code'] == indicatorcode]\n",
    "    \n",
    "    #Dropping these columns as they are not needed for the forecast\n",
    "    df2 = df2.drop(columns=['Country Name', 'Country Code', 'Indicator Name', 'Indicator Code'])\n",
    "    \n",
    "    df3 = df2.swapaxes('index', 'columns')\n",
    "    \n",
    "    return df3\n",
    "\n",
    "#6 lines written by me"
   ]
  },
  {
   "cell_type": "code",
   "execution_count": 5,
   "id": "34f7e34a",
   "metadata": {},
   "outputs": [],
   "source": [
    "\"\"\"\n",
    "Method for this block of code is refactored from:\n",
    "\n",
    "https://towardsdatascience.com/machine-learning-part-19-time-series-and-autoregressive-integrated-moving-average-model-arima-c1005347b0d7\n",
    "\"\"\"\n",
    "\n",
    "def stationarityTest(data):\n",
    "    \n",
    "    #Find out if the data is stationary or not\n",
    "    #Using Rolling Statistics (Rolling Mean and Rolling Std)\n",
    "    rolling_mean = data.rolling(window=10).mean()\n",
    "    rolling_std = data.rolling(window=10).std()\n",
    "    \n",
    "    plt.plot(data, color='blue', label='original')\n",
    "    plt.plot(rolling_mean, color='red', label='Rolling Mean')\n",
    "    plt.plot(rolling_std, color='green', label='Rolling Std')\n",
    "    plt.legend(loc='best')\n",
    "    plt.title('RM vs RSTD vs ORI')\n",
    "    \n",
    "    #Augmented Dickey-Fuller Test\n",
    "    result = adfuller(data.dropna())\n",
    "    print('ADF Statistic: {}'.format(result[0]))\n",
    "    #print(f'p-value: {result[1]}')\n",
    "    print('p-value: %f' % result[1])\n",
    "    print('Critical Values:')\n",
    "    for key, value in result[4].items():\n",
    "        print('\\t{}: {}'.format(key, value))\n",
    "        \n",
    "#14 lines from guide"
   ]
  },
  {
   "cell_type": "code",
   "execution_count": 6,
   "id": "cef9a239",
   "metadata": {},
   "outputs": [],
   "source": [
    "\"\"\"\n",
    "Order Differencing refactored from:\n",
    "\n",
    "https://www.machinelearningplus.com/time-series/arima-model-time-series-forecasting-python/\n",
    "\"\"\"\n",
    "\n",
    "def make_stationary(data):\n",
    "    \n",
    "#1st Order Differencing\n",
    "    data_first_od = data.diff()\n",
    "    data_first_od_dropped = data_first_od.dropna(inplace=True)\n",
    "    \n",
    "    return data_first_od"
   ]
  },
  {
   "cell_type": "code",
   "execution_count": 7,
   "id": "44bedfc0",
   "metadata": {},
   "outputs": [],
   "source": [
    "def performance_metrics(y_test, y_pred):\n",
    "    \n",
    "    sign1 = np.sign(np.array(y_test[1:]) - np.array(y_test[:-1]))\n",
    "    sign2 = np.sign(np.array(y_pred[1:]) - np.array(y_pred[:-1]))\n",
    "    rmse = np.sqrt(metrics.mean_squared_error(y_test, y_pred))\n",
    "    mape = np.mean(np.abs((y_test - y_pred) / y_test )) *100\n",
    "    mae = metrics.mean_absolute_error(y_test, y_pred)\n",
    "    r2 = metrics.r2_score(y_test, y_pred)\n",
    "    mda = np.mean((sign1 == sign2).astype(int))\n",
    "    mean = np.mean(y_test)\n",
    "    si = (rmse/mean)*100\n",
    "    \n",
    "    print(\"RMSE: \", rmse)\n",
    "    print(\"MAPE: \", mape)\n",
    "    print(\"MAE: \", mae)\n",
    "    print(\"Scatter Index: \", si)\n",
    "    print(\"MDA: \", mda)\n",
    "    print(\"Mean of actual: \", mean)\n",
    "    \n",
    "#16 lines, 9 lines written by me, 4 documentation 3 modi"
   ]
  },
  {
   "cell_type": "code",
   "execution_count": 8,
   "id": "3c33570d",
   "metadata": {},
   "outputs": [],
   "source": [
    "data = read_data('/Users/farhanhabibie/Desktop/Farhan Thesis Code /UG-Project-Farhan/Indonesia Macro Dataset.xlsx', \n",
    "                     'FR.INR.RINR')\n",
    "#1 line written by me"
   ]
  },
  {
   "cell_type": "code",
   "execution_count": 9,
   "id": "6165c975",
   "metadata": {},
   "outputs": [],
   "source": [
    "data = data.dropna()\n",
    "#1 line written by me"
   ]
  },
  {
   "cell_type": "code",
   "execution_count": 10,
   "id": "bd0c575a",
   "metadata": {},
   "outputs": [
    {
     "name": "stdout",
     "output_type": "stream",
     "text": [
      "262    6.25903\n",
      "dtype: float64\n"
     ]
    }
   ],
   "source": [
    "print(data.mean())\n",
    "#1 line written by me"
   ]
  },
  {
   "cell_type": "code",
   "execution_count": 11,
   "id": "acddc8ba",
   "metadata": {},
   "outputs": [],
   "source": [
    "data_first_od = make_stationary(data)\n",
    "#1 line written by me"
   ]
  },
  {
   "cell_type": "code",
   "execution_count": 12,
   "id": "378142dd",
   "metadata": {},
   "outputs": [
    {
     "name": "stdout",
     "output_type": "stream",
     "text": [
      "ADF Statistic: -5.858947199917669\n",
      "p-value: 0.000000\n",
      "Critical Values:\n",
      "\t1%: -3.6461350877925254\n",
      "\t5%: -2.954126991123355\n",
      "\t10%: -2.6159676124885216\n"
     ]
    },
    {
     "data": {
      "image/png": "[encoded data removed]",
      "text/plain": [
       "<Figure size 432x288 with 1 Axes>"
      ]
     },
     "metadata": {
      "needs_background": "light"
     },
     "output_type": "display_data"
    }
   ],
   "source": [
    "stationarityTest(data)\n",
    "#1 line written by me"
   ]
  },
  {
   "cell_type": "code",
   "execution_count": 13,
   "id": "444d9e5a",
   "metadata": {},
   "outputs": [
    {
     "name": "stdout",
     "output_type": "stream",
     "text": [
      "ADF Statistic: -6.948203045314894\n",
      "p-value: 0.000000\n",
      "Critical Values:\n",
      "\t1%: -3.661428725118324\n",
      "\t5%: -2.960525341210433\n",
      "\t10%: -2.6193188033298647\n"
     ]
    },
    {
     "data": {
      "image/png": "[encoded data removed]",
      "text/plain": [
       "<Figure size 432x288 with 1 Axes>"
      ]
     },
     "metadata": {
      "needs_background": "light"
     },
     "output_type": "display_data"
    }
   ],
   "source": [
    "stationarityTest(data_first_od)\n",
    "#1 line written by me"
   ]
  },
  {
   "cell_type": "code",
   "execution_count": 14,
   "id": "1efdbe5a",
   "metadata": {},
   "outputs": [],
   "source": [
    "#Find AR order(p), differencing order(d), MA(q)\n",
    "\n",
    "#Find AR order(p) using a PACF, only considering the \n",
    "#plot_pacf(data_first_od.dropna(), lags=13)\n",
    "\n",
    "#Find MA order (q) using acf plot\n",
    "#plot_acf(data_first_od.dropna())\n",
    "\n",
    "#2 lines from documentation"
   ]
  },
  {
   "cell_type": "code",
   "execution_count": 15,
   "id": "6607bd3c",
   "metadata": {},
   "outputs": [],
   "source": [
    "train = data[:int(len(data)*0.8)]\n",
    "test = data[int(len(data)*0.8):]"
   ]
  },
  {
   "cell_type": "code",
   "execution_count": 16,
   "id": "af69ec9c",
   "metadata": {},
   "outputs": [],
   "source": [
    "\"\"\"\n",
    "reused and modified from: \n",
    "\n",
    "https://www.machinelearningplus.com/time-series/arima-model-time-series-forecasting-python/\n",
    "\"\"\"\n",
    "\n",
    "model = ARIMA(train, order=(0,0,0))\n",
    "model = model.fit()\n",
    "predict = model.predict(start=len(train), end=len(train)+len(test)-1)\n",
    "#3 lines from guide but modified"
   ]
  },
  {
   "cell_type": "code",
   "execution_count": 21,
   "id": "01f65328",
   "metadata": {},
   "outputs": [
    {
     "data": {
      "text/plain": [
       "<AxesSubplot:title={'center':'Real Interest Rate Actual vs Predicted'}>"
      ]
     },
     "execution_count": 21,
     "metadata": {},
     "output_type": "execute_result"
    },
    {
     "data": {
      "image/png": "[encoded data removed]",
      "text/plain": [
       "<Figure size 432x288 with 1 Axes>"
      ]
     },
     "metadata": {
      "needs_background": "light"
     },
     "output_type": "display_data"
    }
   ],
   "source": [
    "df_compare = pd.DataFrame({'Actual' : test.values.flatten(), 'Predicted' : predict.values})\n",
    "newindex = test.index.values.tolist()\n",
    "df_compare.index = newindex\n",
    "df_compare.plot(title='Real Interest Rate Actual vs Predicted')\n",
    "#4 lines written by me"
   ]
  },
  {
   "cell_type": "code",
   "execution_count": 18,
   "id": "8d0ad541",
   "metadata": {},
   "outputs": [
    {
     "name": "stdout",
     "output_type": "stream",
     "text": [
      "RMSE:  1.8985724474258399\n",
      "MAPE:  18.778921458159164\n",
      "MAE:  1.5331490187121115\n",
      "Scatter Index:  25.393773226899157\n",
      "MDA:  0.0\n",
      "Mean of actual:  7.476527534768708\n"
     ]
    }
   ],
   "source": [
    "performance_metrics(test.values, predict.values)\n",
    "#1 line written by me"
   ]
  },
  {
   "cell_type": "code",
   "execution_count": 19,
   "id": "0a357035",
   "metadata": {},
   "outputs": [
    {
     "name": "stdout",
     "output_type": "stream",
     "text": [
      "Performing stepwise search to minimize aic\n",
      " ARIMA(0,0,0)(0,0,0)[0] intercept   : AIC=236.587, Time=0.00 sec\n",
      " ARIMA(1,0,0)(0,0,0)[0] intercept   : AIC=238.585, Time=0.01 sec\n",
      " ARIMA(0,0,1)(0,0,0)[0] intercept   : AIC=238.586, Time=0.01 sec\n",
      " ARIMA(0,0,0)(0,0,0)[0]             : AIC=252.935, Time=0.00 sec\n",
      " ARIMA(1,0,1)(0,0,0)[0] intercept   : AIC=240.014, Time=0.03 sec\n",
      "\n",
      "Best model:  ARIMA(0,0,0)(0,0,0)[0] intercept\n",
      "Total fit time: 0.064 seconds\n"
     ]
    },
    {
     "data": {
      "text/html": [
       "<table class=\"simpletable\">\n",
       "<caption>SARIMAX Results</caption>\n",
       "<tr>\n",
       "  <th>Dep. Variable:</th>           <td>y</td>        <th>  No. Observations:  </th>    <td>34</td>   \n",
       "</tr>\n",
       "<tr>\n",
       "  <th>Model:</th>                <td>SARIMAX</td>     <th>  Log Likelihood     </th> <td>-116.293</td>\n",
       "</tr>\n",
       "<tr>\n",
       "  <th>Date:</th>            <td>Tue, 26 Apr 2022</td> <th>  AIC                </th>  <td>236.587</td>\n",
       "</tr>\n",
       "<tr>\n",
       "  <th>Time:</th>                <td>23:48:22</td>     <th>  BIC                </th>  <td>239.639</td>\n",
       "</tr>\n",
       "<tr>\n",
       "  <th>Sample:</th>                  <td>0</td>        <th>  HQIC               </th>  <td>237.628</td>\n",
       "</tr>\n",
       "<tr>\n",
       "  <th></th>                       <td> - 34</td>      <th>                     </th>     <td> </td>   \n",
       "</tr>\n",
       "<tr>\n",
       "  <th>Covariance Type:</th>        <td>opg</td>       <th>                     </th>     <td> </td>   \n",
       "</tr>\n",
       "</table>\n",
       "<table class=\"simpletable\">\n",
       "<tr>\n",
       "      <td></td>         <th>coef</th>     <th>std err</th>      <th>z</th>      <th>P>|z|</th>  <th>[0.025</th>    <th>0.975]</th>  \n",
       "</tr>\n",
       "<tr>\n",
       "  <th>intercept</th> <td>    6.2590</td> <td>    1.722</td> <td>    3.636</td> <td> 0.000</td> <td>    2.885</td> <td>    9.633</td>\n",
       "</tr>\n",
       "<tr>\n",
       "  <th>sigma2</th>    <td>   54.7570</td> <td>    8.707</td> <td>    6.289</td> <td> 0.000</td> <td>   37.692</td> <td>   71.822</td>\n",
       "</tr>\n",
       "</table>\n",
       "<table class=\"simpletable\">\n",
       "<tr>\n",
       "  <th>Ljung-Box (L1) (Q):</th>     <td>0.00</td> <th>  Jarque-Bera (JB):  </th> <td>83.18</td>\n",
       "</tr>\n",
       "<tr>\n",
       "  <th>Prob(Q):</th>                <td>0.97</td> <th>  Prob(JB):          </th> <td>0.00</td> \n",
       "</tr>\n",
       "<tr>\n",
       "  <th>Heteroskedasticity (H):</th> <td>0.19</td> <th>  Skew:              </th> <td>-1.98</td>\n",
       "</tr>\n",
       "<tr>\n",
       "  <th>Prob(H) (two-sided):</th>    <td>0.01</td> <th>  Kurtosis:          </th> <td>9.56</td> \n",
       "</tr>\n",
       "</table><br/><br/>Warnings:<br/>[1] Covariance matrix calculated using the outer product of gradients (complex-step)."
      ],
      "text/plain": [
       "<class 'statsmodels.iolib.summary.Summary'>\n",
       "\"\"\"\n",
       "                               SARIMAX Results                                \n",
       "==============================================================================\n",
       "Dep. Variable:                      y   No. Observations:                   34\n",
       "Model:                        SARIMAX   Log Likelihood                -116.293\n",
       "Date:                Tue, 26 Apr 2022   AIC                            236.587\n",
       "Time:                        23:48:22   BIC                            239.639\n",
       "Sample:                             0   HQIC                           237.628\n",
       "                                 - 34                                         \n",
       "Covariance Type:                  opg                                         \n",
       "==============================================================================\n",
       "                 coef    std err          z      P>|z|      [0.025      0.975]\n",
       "------------------------------------------------------------------------------\n",
       "intercept      6.2590      1.722      3.636      0.000       2.885       9.633\n",
       "sigma2        54.7570      8.707      6.289      0.000      37.692      71.822\n",
       "===================================================================================\n",
       "Ljung-Box (L1) (Q):                   0.00   Jarque-Bera (JB):                83.18\n",
       "Prob(Q):                              0.97   Prob(JB):                         0.00\n",
       "Heteroskedasticity (H):               0.19   Skew:                            -1.98\n",
       "Prob(H) (two-sided):                  0.01   Kurtosis:                         9.56\n",
       "===================================================================================\n",
       "\n",
       "Warnings:\n",
       "[1] Covariance matrix calculated using the outer product of gradients (complex-step).\n",
       "\"\"\""
      ]
     },
     "execution_count": 19,
     "metadata": {},
     "output_type": "execute_result"
    }
   ],
   "source": [
    "\"\"\"\n",
    "Idea for using pmdarima attributed to the video on youtube:\n",
    "\n",
    "https://www.youtube.com/watch?v=8FCDpFhd1zk&ab_channel=NachiketaHebbar\n",
    "\"\"\"\n",
    "\n",
    "autoarima = auto_arima(data, start_p=0, start_q=0, \n",
    "                       max_p=10, max_d=5, max_q=10,\n",
    "                       trace=True, d=0, suppress_warnings=True, n_fits=50)\n",
    "\n",
    "autoarima.summary()\n",
    "\n",
    "#2 lines from youtube"
   ]
  },
  {
   "cell_type": "code",
   "execution_count": 20,
   "id": "c9e6ccc3",
   "metadata": {},
   "outputs": [
    {
     "data": {
      "text/plain": [
       "'\\n83 Lines of code\\n'"
      ]
     },
     "execution_count": 20,
     "metadata": {},
     "output_type": "execute_result"
    }
   ],
   "source": [
    "\"\"\"\n",
    "83 Lines of code\n",
    "\"\"\""
   ]
  }
 ],
 "metadata": {
  "kernelspec": {
   "display_name": "Python 3 (ipykernel)",
   "language": "python",
   "name": "python3"
  },
  "language_info": {
   "codemirror_mode": {
    "name": "ipython",
    "version": 3
   },
   "file_extension": ".py",
   "mimetype": "text/x-python",
   "name": "python",
   "nbconvert_exporter": "python",
   "pygments_lexer": "ipython3",
   "version": "3.9.7"
  }
 },
 "nbformat": 4,
 "nbformat_minor": 5
}
