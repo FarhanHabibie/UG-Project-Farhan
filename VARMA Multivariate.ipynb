{
 "cells": [
  {
   "cell_type": "code",
   "execution_count": 1,
   "id": "4e463c09",
   "metadata": {},
   "outputs": [
    {
     "data": {
      "text/plain": [
       "'\\nCREATED FROM COMBINING RESEARCH FROM:\\n\\nhttps://analyticsindiamag.com/a-guide-to-varma-with-auto-arima-in-time-series-modelling/\\nhttps://www.analyticsvidhya.com/blog/2018/09/multivariate-time-series-guide-forecasting-modeling-python-codes/\\n\\nand credits for how to create a VARMA model as well\\n\\nhttps://machinelearningmastery.com/time-series-forecasting-methods-in-python-cheat-sheet/\\n\\n\\nand\\n\\nmy brain for the feature selection and combining xgboost to decide which variables\\nto use for prediction >:) (delete this before final submission)\\n'"
      ]
     },
     "execution_count": 1,
     "metadata": {},
     "output_type": "execute_result"
    }
   ],
   "source": [
    "\"\"\"\n",
    "CREATED FROM COMBINING RESEARCH FROM:\n",
    "\n",
    "https://analyticsindiamag.com/a-guide-to-varma-with-auto-arima-in-time-series-modelling/\n",
    "https://www.analyticsvidhya.com/blog/2018/09/multivariate-time-series-guide-forecasting-modeling-python-codes/\n",
    "\n",
    "and credits for how to create a VARMA model as well\n",
    "\n",
    "https://machinelearningmastery.com/time-series-forecasting-methods-in-python-cheat-sheet/\n",
    "\n",
    "\n",
    "and\n",
    "\n",
    "my brain for the feature selection and combining xgboost to decide which variables\n",
    "to use for prediction >:) (delete this before final submission)\n",
    "\"\"\""
   ]
  },
  {
   "cell_type": "code",
   "execution_count": 2,
   "id": "97ae4558",
   "metadata": {},
   "outputs": [],
   "source": [
    "import pandas as pd\n",
    "import numpy as np\n",
    "import matplotlib.pyplot as plt\n",
    "from xgboost import XGBRegressor\n",
    "from statsmodels.tsa.statespace.varmax import VARMAX\n",
    "from statsmodels.tsa.vector_ar.vecm import coint_johansen\n",
    "from statsmodels.tsa.stattools import adfuller\n",
    "from sklearn.feature_selection import SelectFromModel\n",
    "from sklearn.model_selection import train_test_split\n",
    "from xgboost import plot_importance\n",
    "from pmdarima import auto_arima\n",
    "from sklearn import metrics\n",
    "\n",
    "#Imported to ignore warnings from ARIMA\n",
    "import warnings\n",
    "warnings.filterwarnings(\"ignore\")"
   ]
  },
  {
   "cell_type": "code",
   "execution_count": 3,
   "id": "4ce17f86",
   "metadata": {},
   "outputs": [],
   "source": [
    "pd.set_option('display.max_rows', 500)\n",
    "pd.set_option('display.max_columns', 500)\n",
    "pd.set_option('display.width', 1000)"
   ]
  },
  {
   "cell_type": "code",
   "execution_count": 4,
   "id": "56d7bbc3",
   "metadata": {},
   "outputs": [],
   "source": [
    "def format_data(path):\n",
    "    df = pd.read_excel(path, index_col='Year', parse_dates=True)\n",
    "    df2 = df.drop(columns=['Country Name', 'Country Code'])\n",
    "    df2 = df2.dropna(axis=1, how='all')\n",
    "    \n",
    "    #Have to shift GDP Growth to last column because that will be the target\n",
    "    #Refactored from a stackoverflow post\n",
    "    df3 = df2[[column for column in df2 if column not in ['GDP growth (annual %)']] + ['GDP growth (annual %)']]\n",
    "    \n",
    "    return df3"
   ]
  },
  {
   "cell_type": "code",
   "execution_count": 5,
   "id": "60b2272a",
   "metadata": {},
   "outputs": [],
   "source": [
    "#Handle missing data using mean imputation. Cannot use linear imputation as not always\n",
    "#2 adjacent points are known\n",
    "\n",
    "def fillmissing(data):\n",
    "        \n",
    "    newdata = data.fillna(data.mean())\n",
    "    \n",
    "    return newdata"
   ]
  },
  {
   "cell_type": "code",
   "execution_count": 6,
   "id": "2150b036",
   "metadata": {},
   "outputs": [],
   "source": [
    "data = format_data('/Users/farhanhabibie/Desktop/Farhan Thesis Code /UG-Project-Farhan/Multivariate More.xlsx')"
   ]
  },
  {
   "cell_type": "code",
   "execution_count": 7,
   "id": "9cf02ae7",
   "metadata": {},
   "outputs": [],
   "source": [
    "data.drop(data.tail(1).index,inplace=True) #remove last row"
   ]
  },
  {
   "cell_type": "code",
   "execution_count": 8,
   "id": "63c7af34",
   "metadata": {},
   "outputs": [],
   "source": [
    "filled_data = fillmissing(data)"
   ]
  },
  {
   "cell_type": "code",
   "execution_count": 9,
   "id": "2c4dcfaa",
   "metadata": {},
   "outputs": [],
   "source": [
    "#Using Feature Importance to select best influences\n",
    "def feature_selection(model, X_train, X_test, y_train):\n",
    "    \n",
    "    selector = SelectFromModel(model, max_features=1, threshold=-np.inf)\n",
    "    selector.fit (X_train, y_train)\n",
    "    \n",
    "    select_X_train = selector.transform(X_train)\n",
    "    select_X_test = selector.transform(X_test)\n",
    "    \n",
    "    #print (selector.get_feature_names_out())\n",
    "    \n",
    "    selection_model = XGBRegressor(objective='reg:squarederror', n_estimators=1000, max_depth=1, learning_rate = 0.1)\n",
    "    selection_model.fit(select_X_train, y_train)\n",
    "    \n",
    "    select_y_pred = selection_model.predict(select_X_test)\n",
    "    \n",
    "    selection_model.get_booster().feature_names = selector.get_feature_names_out().tolist()\n",
    "    plot_importance(selection_model.get_booster())\n",
    "    \n",
    "    return selector ,select_X_train ,select_y_pred"
   ]
  },
  {
   "cell_type": "code",
   "execution_count": 10,
   "id": "c6de53bc",
   "metadata": {},
   "outputs": [],
   "source": [
    "X = filled_data.iloc[:,:-1]\n",
    "y = filled_data.iloc[:,-1]"
   ]
  },
  {
   "cell_type": "code",
   "execution_count": 11,
   "id": "1138ed03",
   "metadata": {},
   "outputs": [],
   "source": [
    "X_train, X_test, y_train, y_test = train_test_split(X, y, test_size=0.2, random_state=0, shuffle=False)"
   ]
  },
  {
   "cell_type": "code",
   "execution_count": 12,
   "id": "f4c72dce",
   "metadata": {},
   "outputs": [
    {
     "data": {
      "text/plain": [
       "XGBRegressor(base_score=0.5, booster='gbtree', colsample_bylevel=1,\n",
       "             colsample_bynode=1, colsample_bytree=1, enable_categorical=False,\n",
       "             gamma=0, gpu_id=-1, importance_type=None,\n",
       "             interaction_constraints='', learning_rate=0.2, max_delta_step=0,\n",
       "             max_depth=1, min_child_weight=1, missing=nan,\n",
       "             monotone_constraints='()', n_estimators=1000, n_jobs=8,\n",
       "             num_parallel_tree=1, predictor='auto', random_state=0, reg_alpha=0,\n",
       "             reg_lambda=1, scale_pos_weight=1, subsample=1, tree_method='exact',\n",
       "             validate_parameters=1, verbosity=None)"
      ]
     },
     "execution_count": 12,
     "metadata": {},
     "output_type": "execute_result"
    }
   ],
   "source": [
    "#Using the hyperparameter tuned model for XGB\n",
    "\n",
    "model = XGBRegressor(objective='reg:squarederror', n_estimators=1000, max_depth=1, learning_rate=0.2)\n",
    "model.fit(X_train, y_train)"
   ]
  },
  {
   "cell_type": "code",
   "execution_count": 13,
   "id": "f057c9d7",
   "metadata": {},
   "outputs": [
    {
     "data": {
      "image/png": "[encoded data removed]",
      "text/plain": [
       "<Figure size 432x288 with 1 Axes>"
      ]
     },
     "metadata": {
      "needs_background": "light"
     },
     "output_type": "display_data"
    }
   ],
   "source": [
    "selector, select_X_train, select_y_pred = feature_selection(model, X_train, X_test, y_train)"
   ]
  },
  {
   "cell_type": "code",
   "execution_count": 14,
   "id": "5054fadd",
   "metadata": {},
   "outputs": [],
   "source": [
    "#Using the plot above, select columns for multivariate forecast and join with gdp growth\n",
    "featurenames = selector.get_feature_names_out().tolist()\n",
    "selected_data = filled_data[featurenames]\n",
    "gdp_data = pd.DataFrame(y)\n",
    "joined_data = pd.concat([selected_data, gdp_data], axis=1)"
   ]
  },
  {
   "cell_type": "code",
   "execution_count": 15,
   "id": "0921cf1e",
   "metadata": {},
   "outputs": [
    {
     "data": {
      "text/plain": [
       "array([0.4515314 , 0.19855446])"
      ]
     },
     "execution_count": 15,
     "metadata": {},
     "output_type": "execute_result"
    }
   ],
   "source": [
    "\"\"\"\n",
    "Method for this way of checking for stationarity comes from and refactored from the guide:\n",
    "\n",
    "https://www.analyticsvidhya.com/blog/2018/09/multivariate-time-series-guide-forecasting-modeling-python-codes/\n",
    "\"\"\"\n",
    "#Check stationarity\n",
    "coint_johansen(joined_data, -1,1).eig\n",
    "\n",
    "#All eigenvalues are less than 1 therefore it is stationary\n",
    "#We dont use adfuller because the VARMA model does not take into account the differencing order\n",
    "#Eigenvalue condition fulfilled therfore, proceed"
   ]
  },
  {
   "cell_type": "code",
   "execution_count": 16,
   "id": "d8af7b0d",
   "metadata": {},
   "outputs": [],
   "source": [
    "#Split into train test\n",
    "test_size = len(joined_data) - int(len(joined_data) * 0.8)\n",
    "train = joined_data[:-test_size]\n",
    "test = joined_data[-test_size:]"
   ]
  },
  {
   "cell_type": "code",
   "execution_count": 17,
   "id": "775d9ca7",
   "metadata": {},
   "outputs": [],
   "source": [
    "\"\"\"\n",
    "CREDITS FOR IDEA OF USING AUTO-ARIMA IN CONJUCTION WITH VARMA GOES TO:\n",
    "\n",
    "https://analyticsindiamag.com/a-guide-to-varma-with-auto-arima-in-time-series-modelling/\n",
    "\"\"\"\n",
    "\n",
    "def stepwisefits(data, name=\"\"):\n",
    "    stepwise_fit = auto_arima(data, trace=True, suppress_warnings=True)\n",
    "    \n",
    "    print(f'{name} best')\n",
    "    stepwise_fit.summary()"
   ]
  },
  {
   "cell_type": "code",
   "execution_count": 18,
   "id": "0c6db64f",
   "metadata": {},
   "outputs": [
    {
     "name": "stdout",
     "output_type": "stream",
     "text": [
      "Performing stepwise search to minimize aic\n",
      " ARIMA(2,0,2)(0,0,0)[0] intercept   : AIC=314.902, Time=0.06 sec\n",
      " ARIMA(0,0,0)(0,0,0)[0] intercept   : AIC=314.477, Time=0.00 sec\n",
      " ARIMA(1,0,0)(0,0,0)[0] intercept   : AIC=309.031, Time=0.01 sec\n",
      " ARIMA(0,0,1)(0,0,0)[0] intercept   : AIC=309.306, Time=0.01 sec\n",
      " ARIMA(0,0,0)(0,0,0)[0]             : AIC=354.941, Time=0.00 sec\n",
      " ARIMA(2,0,0)(0,0,0)[0] intercept   : AIC=310.970, Time=0.02 sec\n",
      " ARIMA(1,0,1)(0,0,0)[0] intercept   : AIC=310.952, Time=0.02 sec\n",
      " ARIMA(2,0,1)(0,0,0)[0] intercept   : AIC=312.931, Time=0.04 sec\n",
      " ARIMA(1,0,0)(0,0,0)[0]             : AIC=321.254, Time=0.01 sec\n",
      "\n",
      "Best model:  ARIMA(1,0,0)(0,0,0)[0] intercept\n",
      "Total fit time: 0.164 seconds\n",
      "GDP per capita growth (annual %) best\n",
      "Performing stepwise search to minimize aic\n",
      " ARIMA(2,0,2)(0,0,0)[0] intercept   : AIC=317.047, Time=0.05 sec\n",
      " ARIMA(0,0,0)(0,0,0)[0] intercept   : AIC=316.610, Time=0.00 sec\n",
      " ARIMA(1,0,0)(0,0,0)[0] intercept   : AIC=311.191, Time=0.01 sec\n",
      " ARIMA(0,0,1)(0,0,0)[0] intercept   : AIC=311.491, Time=0.01 sec\n",
      " ARIMA(0,0,0)(0,0,0)[0]             : AIC=391.036, Time=0.00 sec\n",
      " ARIMA(2,0,0)(0,0,0)[0] intercept   : AIC=313.149, Time=0.02 sec\n",
      " ARIMA(1,0,1)(0,0,0)[0] intercept   : AIC=313.132, Time=0.02 sec\n",
      " ARIMA(2,0,1)(0,0,0)[0] intercept   : AIC=315.101, Time=0.04 sec\n",
      " ARIMA(1,0,0)(0,0,0)[0]             : AIC=328.858, Time=0.01 sec\n",
      "\n",
      "Best model:  ARIMA(1,0,0)(0,0,0)[0] intercept\n",
      "Total fit time: 0.170 seconds\n",
      "GDP growth (annual %) best\n"
     ]
    }
   ],
   "source": [
    "for name, column in joined_data.iteritems():\n",
    "    stepwisefits(column, name=column.name)"
   ]
  },
  {
   "cell_type": "code",
   "execution_count": 19,
   "id": "cb731569",
   "metadata": {},
   "outputs": [],
   "source": [
    "#(1,0,0), (0,1,0), (0,0,1), (1,0,1), (0,0,3)\n",
    "#Eliminate (0,1,0) as no differencing in order for VARMA"
   ]
  },
  {
   "cell_type": "code",
   "execution_count": 20,
   "id": "8f563efd",
   "metadata": {},
   "outputs": [],
   "source": [
    "#Create model\n",
    "model = VARMAX(joined_data, order=(1,0))\n",
    "model_fit = model.fit(disp=False)\n",
    "y_pred = model_fit.predict(start=len(train), end=len(train)+len(test)-1)"
   ]
  },
  {
   "cell_type": "code",
   "execution_count": 21,
   "id": "a3a25918",
   "metadata": {},
   "outputs": [],
   "source": [
    "df1 = pd.DataFrame(y_pred)"
   ]
  },
  {
   "cell_type": "code",
   "execution_count": 22,
   "id": "2acc2422",
   "metadata": {},
   "outputs": [],
   "source": [
    "def performance_metrics(y_test, y_pred):\n",
    "    \n",
    "    sign1 = np.sign(np.array(y_test[1:]) - np.array(y_test[:-1]))\n",
    "    sign2 = np.sign(np.array(y_pred[1:]) - np.array(y_pred[:-1]))\n",
    "    rmse = np.sqrt(metrics.mean_squared_error(y_test, y_pred))\n",
    "    mape = np.mean(np.abs((y_test - y_pred) / y_test )) *100\n",
    "    mae = metrics.mean_absolute_error(y_test, y_pred)\n",
    "    r2 = metrics.r2_score(y_test, y_pred)\n",
    "    mda = np.mean((sign1 == sign2).astype(int))\n",
    "    mean = np.mean(y_test)\n",
    "    si = (rmse/mean)*100\n",
    "    \n",
    "    print(\"RMSE: \", rmse)\n",
    "    print(\"MAPE: \", mape)\n",
    "    print(\"MAE: \", mae)\n",
    "    print(\"Scatter Index: \", si)\n",
    "    print(\"MDA: \", mda)\n",
    "    print(\"Mean of actual: \", mean)"
   ]
  },
  {
   "cell_type": "code",
   "execution_count": 23,
   "id": "383b90ea",
   "metadata": {},
   "outputs": [],
   "source": [
    "#Get the RMSE for GDP \n",
    "df2 = df1['GDP growth (annual %)']"
   ]
  },
  {
   "cell_type": "code",
   "execution_count": 24,
   "id": "981bb651",
   "metadata": {},
   "outputs": [],
   "source": [
    "test2 = test['GDP growth (annual %)']"
   ]
  },
  {
   "cell_type": "code",
   "execution_count": 25,
   "id": "760ca4fc",
   "metadata": {},
   "outputs": [
    {
     "name": "stdout",
     "output_type": "stream",
     "text": [
      "RMSE:  0.5194207396623226\n",
      "MAPE:  8.24957630853611\n",
      "MAE:  0.43967194264174553\n",
      "Scatter Index:  9.618339593718044\n",
      "MDA:  0.6363636363636364\n",
      "Mean of actual:  5.400316079519256\n"
     ]
    },
    {
     "data": {
      "image/png": "[encoded data removed]",
      "text/plain": [
       "<Figure size 432x288 with 1 Axes>"
      ]
     },
     "metadata": {
      "needs_background": "light"
     },
     "output_type": "display_data"
    }
   ],
   "source": [
    "df_compare = pd.DataFrame({'Actual' : test2, 'Predicted' : df2})\n",
    "df_compare.plot(title='GDP Growth Actual vs Predicted')\n",
    "performance_metrics(test2, df2)"
   ]
  },
  {
   "cell_type": "code",
   "execution_count": 26,
   "id": "44fddbcb",
   "metadata": {},
   "outputs": [
    {
     "data": {
      "text/plain": [
       "\"\\nAnswer from github\\n\\nFor now you cannot do much about this except looking for longer time series (e.g. quarterly data) or reducing the number of variables in the VAR. \\nEssentially, the sample is much too short to get reliable estimates for time series analysis.\\n\\nWe won't be able to get more information out of the data, but a possible solution is to use some penalization or regularization, or impose more prior structure.\\nSpecifically to the estimation of the covariance of the residuals: We could use SVD or eigenvalue decomposition instead of cholesky and handle singular sigma_u_mle. I'm not sure what the interpretation of a singular covariance matrix is in this case. We could also force it to be positive definite, but that's a purely numerical solution.\\n\\n\\n\""
      ]
     },
     "execution_count": 26,
     "metadata": {},
     "output_type": "execute_result"
    }
   ],
   "source": [
    "#The error xth leading minor of the array is not positive definite\n",
    "\n",
    "\"\"\"\n",
    "Answer from github\n",
    "\n",
    "For now you cannot do much about this except looking for longer time series (e.g. quarterly data) or reducing the number of variables in the VAR. \n",
    "Essentially, the sample is much too short to get reliable estimates for time series analysis.\n",
    "\n",
    "We won't be able to get more information out of the data, but a possible solution is to use some penalization or regularization, or impose more prior structure.\n",
    "Specifically to the estimation of the covariance of the residuals: We could use SVD or eigenvalue decomposition instead of cholesky and handle singular sigma_u_mle. I'm not sure what the interpretation of a singular covariance matrix is in this case. We could also force it to be positive definite, but that's a purely numerical solution.\n",
    "\n",
    "\n",
    "\"\"\"\n",
    "\n",
    "#Tomorrow try less variables"
   ]
  }
 ],
 "metadata": {
  "kernelspec": {
   "display_name": "Python 3 (ipykernel)",
   "language": "python",
   "name": "python3"
  },
  "language_info": {
   "codemirror_mode": {
    "name": "ipython",
    "version": 3
   },
   "file_extension": ".py",
   "mimetype": "text/x-python",
   "name": "python",
   "nbconvert_exporter": "python",
   "pygments_lexer": "ipython3",
   "version": "3.9.7"
  }
 },
 "nbformat": 4,
 "nbformat_minor": 5
}
