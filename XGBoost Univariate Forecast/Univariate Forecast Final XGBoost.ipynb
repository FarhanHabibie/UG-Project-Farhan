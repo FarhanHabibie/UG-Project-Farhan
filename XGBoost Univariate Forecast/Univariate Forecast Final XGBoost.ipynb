{
 "cells": [
  {
   "cell_type": "code",
   "execution_count": 1,
   "id": "d16d21c0",
   "metadata": {},
   "outputs": [],
   "source": [
    "import numpy as np\n",
    "import pandas as pd\n",
    "from xgboost import XGBRegressor\n",
    "from sklearn import metrics\n",
    "from sklearn.model_selection import GridSearchCV\n",
    "from sklearn.model_selection import StratifiedKFold\n",
    "import matplotlib.pyplot as plt\n",
    "from statsmodels.graphics.tsaplots import plot_acf"
   ]
  },
  {
   "cell_type": "code",
   "execution_count": 2,
   "id": "eb464049",
   "metadata": {},
   "outputs": [],
   "source": [
    "pd.set_option('display.max_rows', 500)\n",
    "pd.set_option('display.max_columns', 500)\n",
    "pd.set_option('display.width', 1000)"
   ]
  },
  {
   "cell_type": "code",
   "execution_count": 3,
   "id": "d429bd59",
   "metadata": {},
   "outputs": [],
   "source": [
    "\"\"\"\n",
    "Function that loads and prepares the dataframe. \n",
    "\n",
    "Converts the data into time-series readable.\n",
    "\"\"\"\n",
    "def initialFormat (filepath, indicatorcode):\n",
    "    #Reads the file and creates a dataframe from it\n",
    "    df = pd.read_excel(filepath)\n",
    "    \n",
    "    #Choose what to forecast using indicator code\n",
    "    df_icode = df.loc[df['Indicator Code'] == indicatorcode]\n",
    "    \n",
    "    #Dropping these columns as they are not needed for the forecast\n",
    "    df_icode = df_icode.drop(columns=['Country Name', 'Country Code', 'Indicator Name', 'Indicator Code'])\n",
    "    \n",
    "    #Swap axis so it is in the proper format\n",
    "    df_formatted = df_icode.swapaxes(\"index\", \"columns\")\n",
    "    \n",
    "    #Renaming column name to 'values' to make reference easier\n",
    "    for col_names in df_formatted.columns:\n",
    "        name = df_formatted.rename(columns={col_names : \"Val\"})\n",
    "        return name\n",
    "    \n",
    "    return df_formatted"
   ]
  },
  {
   "cell_type": "code",
   "execution_count": 4,
   "id": "4e52bc1f",
   "metadata": {},
   "outputs": [],
   "source": [
    "\"\"\"\n",
    "Refactored from: \n",
    "\n",
    "https://cprosenjit.medium.com/10-time-series-forecasting-methods-we-should-know-291037d2e285\n",
    "\n",
    "\"\"\"\n",
    "\n",
    "def shift_dataframe(data):\n",
    "    #The value in \"shift(-x)\" is the lookback period in this case 1.\n",
    "    data[\"Target\"] = data.Val.shift(-1)\n",
    "    data.dropna(inplace=True)\n",
    "    \n",
    "    return data"
   ]
  },
  {
   "cell_type": "code",
   "execution_count": 5,
   "id": "767acd38",
   "metadata": {},
   "outputs": [],
   "source": [
    "def train_test_split(data, test_size):\n",
    "    \n",
    "    train = data[:-test_size]\n",
    "    test = data[-test_size:]\n",
    "    \n",
    "    return train, test"
   ]
  },
  {
   "cell_type": "code",
   "execution_count": 6,
   "id": "823df9ed",
   "metadata": {},
   "outputs": [],
   "source": [
    "def plot_train_test(train_set, test_set):\n",
    "    ax = plt.plot(train_set, label='Train set')\n",
    "    ax = plt.plot(test_set, label='Test set', color = 'orange')\n",
    "    \n",
    "    return ax"
   ]
  },
  {
   "cell_type": "code",
   "execution_count": 7,
   "id": "625e2010",
   "metadata": {},
   "outputs": [],
   "source": [
    "def plot_ACF(data, lag):\n",
    "    acfData = data.dropna()\n",
    "    plot_acf(acfData, lags=lag)"
   ]
  },
  {
   "cell_type": "code",
   "execution_count": 8,
   "id": "fb83b54c",
   "metadata": {},
   "outputs": [],
   "source": [
    "\"\"\"\n",
    "This function is refactored from machine learning mastery to fit my data:\n",
    "\n",
    "https://machinelearningmastery.com/xgboost-for-time-series-forecasting/\n",
    "\"\"\"\n",
    "def xgboost_model(train, X_test):\n",
    "    train = np.asarray(train)\n",
    "    #Split into X_train and y_train\n",
    "    X_train, y_train = train[:,0:1], train[:, -1]\n",
    "    \n",
    "    model = XGBRegressor(objective='reg:squarederror', n_estimators=5, max_depth=3, learning_rate=0.3)\n",
    "    model.fit(X_train, y_train)\n",
    "    \n",
    "    y_pred = model.predict(np.asarray([X_test]))\n",
    "    \n",
    "    return y_pred[0]"
   ]
  },
  {
   "cell_type": "code",
   "execution_count": 9,
   "id": "b9b20f43",
   "metadata": {},
   "outputs": [],
   "source": [
    "\"\"\"\n",
    "This function is refactored from machine learning mastery:\n",
    "\n",
    "https://machinelearningmastery.com/xgboost-for-time-series-forecasting/\n",
    "\n",
    "\"\"\"\n",
    "\n",
    "def walk_forward_validation(data, test_size):\n",
    "    predictions = list()\n",
    "    \n",
    "    train, test = train_test_split(data, test_size)\n",
    "    \n",
    "    history = [x for x in train]\n",
    "    \n",
    "    for i in range(len(test)):\n",
    "        \n",
    "        X_test, y_test = test[i, :-1], test[i, -1]\n",
    "        \n",
    "        y_pred = xgboost_model(history, X_test)\n",
    "        \n",
    "        predictions.append(y_pred)\n",
    "        \n",
    "    return test[:, -1], predictions"
   ]
  },
  {
   "cell_type": "code",
   "execution_count": 10,
   "id": "96726895",
   "metadata": {},
   "outputs": [],
   "source": [
    "def performance_metrics(y_test, y_pred):\n",
    "    \n",
    "    sign1 = np.sign(np.array(y_test[1:]) - np.array(y_test[:-1]))\n",
    "    sign2 = np.sign(np.array(y_pred[1:]) - np.array(y_pred[:-1]))\n",
    "    rmse = np.sqrt(metrics.mean_squared_error(y_test, y_pred))\n",
    "    mape = np.mean(np.abs((y_test - y_pred) / y_test )) *100\n",
    "    mae = metrics.mean_absolute_error(y_test, y_pred)\n",
    "    r2 = metrics.r2_score(y_test, y_pred)\n",
    "    mda = np.mean((sign1 == sign2).astype(int))\n",
    "    mean = np.mean(y_test)\n",
    "    si = (rmse/mean)*100\n",
    "    \n",
    "    print(\"RMSE: \", rmse)\n",
    "    print(\"MAPE: \", mape)\n",
    "    print(\"MAE: \", mae)\n",
    "    print(\"Scatter Index: \", si)\n",
    "    print(\"MDA: \", mda)\n",
    "    print(\"Mean of actual: \", mean)"
   ]
  },
  {
   "cell_type": "code",
   "execution_count": 11,
   "id": "e16f1857",
   "metadata": {},
   "outputs": [],
   "source": [
    "def mean_imputation(data):\n",
    "    filled = data.fillna(data.mean())\n",
    "    return filled"
   ]
  },
  {
   "cell_type": "code",
   "execution_count": 12,
   "id": "ca4c1f0e",
   "metadata": {},
   "outputs": [],
   "source": [
    "data = initialFormat('/Users/farhanhabibie/Desktop/Farhan Thesis Code /UG-Project-Farhan/Indonesia Macro Dataset.xlsx', \n",
    "                     'NY.GDP.MKTP.KD.ZG')"
   ]
  },
  {
   "cell_type": "code",
   "execution_count": 13,
   "id": "4dc8d732",
   "metadata": {},
   "outputs": [],
   "source": [
    "filled = mean_imputation(data)"
   ]
  },
  {
   "cell_type": "code",
   "execution_count": 15,
   "id": "bdefcfac",
   "metadata": {},
   "outputs": [],
   "source": [
    "shifted = shift_dataframe(filled)"
   ]
  },
  {
   "cell_type": "code",
   "execution_count": 16,
   "id": "80468e3e",
   "metadata": {},
   "outputs": [],
   "source": [
    "finalData = shifted.values"
   ]
  },
  {
   "cell_type": "code",
   "execution_count": 17,
   "id": "e67de8a8",
   "metadata": {},
   "outputs": [],
   "source": [
    "train_index, test_index = train_test_split(shifted, len(data) - int(len(data) * 0.8))"
   ]
  },
  {
   "cell_type": "code",
   "execution_count": 18,
   "id": "da9305fe",
   "metadata": {},
   "outputs": [
    {
     "data": {
      "text/plain": [
       "dtype('float64')"
      ]
     },
     "execution_count": 18,
     "metadata": {},
     "output_type": "execute_result"
    }
   ],
   "source": [
    "finalData.dtype"
   ]
  },
  {
   "cell_type": "code",
   "execution_count": 19,
   "id": "54e21844",
   "metadata": {
    "scrolled": false
   },
   "outputs": [],
   "source": [
    "actual, predicted = walk_forward_validation(finalData, len(data) - int(len(data) * 0.8))"
   ]
  },
  {
   "cell_type": "code",
   "execution_count": 20,
   "id": "af0f936d",
   "metadata": {},
   "outputs": [
    {
     "name": "stdout",
     "output_type": "stream",
     "text": [
      "RMSE:  3.403346628173969\n",
      "MAPE:  24.243371556732626\n",
      "MAE:  1.4283143326436483\n",
      "Scatter Index:  63.153158576248394\n",
      "MDA:  0.3333333333333333\n",
      "Mean of actual:  5.389036280845581\n"
     ]
    },
    {
     "data": {
      "image/png": "[encoded data removed]",
      "text/plain": [
       "<Figure size 432x288 with 1 Axes>"
      ]
     },
     "metadata": {
      "needs_background": "light"
     },
     "output_type": "display_data"
    }
   ],
   "source": [
    "df_compare = pd.DataFrame({'Actual' : actual, 'Predicted' : predicted})\n",
    "newindex = test_index.index.values.tolist()\n",
    "df_compare.index = newindex\n",
    "df_compare.plot(title='Actual vs Predicted')\n",
    "performance_metrics(actual, predicted)"
   ]
  },
  {
   "cell_type": "code",
   "execution_count": 23,
   "id": "02e35bdb",
   "metadata": {},
   "outputs": [
    {
     "data": {
      "text/html": [
       "<div>\n",
       "<style scoped>\n",
       "    .dataframe tbody tr th:only-of-type {\n",
       "        vertical-align: middle;\n",
       "    }\n",
       "\n",
       "    .dataframe tbody tr th {\n",
       "        vertical-align: top;\n",
       "    }\n",
       "\n",
       "    .dataframe thead th {\n",
       "        text-align: right;\n",
       "    }\n",
       "</style>\n",
       "<table border=\"1\" class=\"dataframe\">\n",
       "  <thead>\n",
       "    <tr style=\"text-align: right;\">\n",
       "      <th></th>\n",
       "      <th>Actual</th>\n",
       "      <th>Predicted</th>\n",
       "    </tr>\n",
       "  </thead>\n",
       "  <tbody>\n",
       "    <tr>\n",
       "      <th>2007</th>\n",
       "      <td>6.013704</td>\n",
       "      <td>5.596573</td>\n",
       "    </tr>\n",
       "    <tr>\n",
       "      <th>2008</th>\n",
       "      <td>4.628871</td>\n",
       "      <td>4.986717</td>\n",
       "    </tr>\n",
       "    <tr>\n",
       "      <th>2009</th>\n",
       "      <td>6.223854</td>\n",
       "      <td>-5.836746</td>\n",
       "    </tr>\n",
       "    <tr>\n",
       "      <th>2010</th>\n",
       "      <td>6.169784</td>\n",
       "      <td>5.596573</td>\n",
       "    </tr>\n",
       "    <tr>\n",
       "      <th>2011</th>\n",
       "      <td>6.030051</td>\n",
       "      <td>4.986717</td>\n",
       "    </tr>\n",
       "    <tr>\n",
       "      <th>2012</th>\n",
       "      <td>5.557264</td>\n",
       "      <td>4.986717</td>\n",
       "    </tr>\n",
       "    <tr>\n",
       "      <th>2013</th>\n",
       "      <td>5.006668</td>\n",
       "      <td>4.728672</td>\n",
       "    </tr>\n",
       "    <tr>\n",
       "      <th>2014</th>\n",
       "      <td>4.876322</td>\n",
       "      <td>4.728672</td>\n",
       "    </tr>\n",
       "    <tr>\n",
       "      <th>2015</th>\n",
       "      <td>5.033069</td>\n",
       "      <td>3.516494</td>\n",
       "    </tr>\n",
       "    <tr>\n",
       "      <th>2016</th>\n",
       "      <td>5.069786</td>\n",
       "      <td>4.728672</td>\n",
       "    </tr>\n",
       "    <tr>\n",
       "      <th>2017</th>\n",
       "      <td>5.169706</td>\n",
       "      <td>4.728672</td>\n",
       "    </tr>\n",
       "    <tr>\n",
       "      <th>2018</th>\n",
       "      <td>5.024714</td>\n",
       "      <td>4.728672</td>\n",
       "    </tr>\n",
       "    <tr>\n",
       "      <th>2019</th>\n",
       "      <td>5.253679</td>\n",
       "      <td>4.728672</td>\n",
       "    </tr>\n",
       "  </tbody>\n",
       "</table>\n",
       "</div>"
      ],
      "text/plain": [
       "        Actual  Predicted\n",
       "2007  6.013704   5.596573\n",
       "2008  4.628871   4.986717\n",
       "2009  6.223854  -5.836746\n",
       "2010  6.169784   5.596573\n",
       "2011  6.030051   4.986717\n",
       "2012  5.557264   4.986717\n",
       "2013  5.006668   4.728672\n",
       "2014  4.876322   4.728672\n",
       "2015  5.033069   3.516494\n",
       "2016  5.069786   4.728672\n",
       "2017  5.169706   4.728672\n",
       "2018  5.024714   4.728672\n",
       "2019  5.253679   4.728672"
      ]
     },
     "execution_count": 23,
     "metadata": {},
     "output_type": "execute_result"
    }
   ],
   "source": [
    "df_compare"
   ]
  },
  {
   "cell_type": "code",
   "execution_count": 21,
   "id": "1f6b9f54",
   "metadata": {},
   "outputs": [],
   "source": [
    "\"\"\"\n",
    "Starting here is the hyperparameter optimisation for univariate forecasting\n",
    "\n",
    "This piece of code was reused from https://towardsdatascience.com/xgboost-fine-tune-and-optimize-your-model-23d996fab663\n",
    "\n",
    "Fitted for my model\n",
    "\n",
    "As the number of observations is not enough for a test and validation set \n",
    "kfold cross validation is used here.\n",
    "\"\"\"\n",
    "\n",
    "def tune_n_estimator(X, y):\n",
    "    hyperparam = {'max_depth': [3,6,10],\n",
    "                 'learning_rate': [0.01, 0.05, 0.1, 0.15, 0.2, 0.3],\n",
    "                 'n_estimators': [5,10,50,100,1000]}\n",
    "    \n",
    "    model = XGBRegressor()\n",
    "    \n",
    "    gscv = GridSearchCV(estimator=model, param_grid=hyperparam,\n",
    "                       scoring='neg_mean_squared_error',\n",
    "                       verbose=1)\n",
    "    \n",
    "    gscv.fit(X, y)\n",
    "    \n",
    "    print(\"Best hyperparam: \", gscv.best_params_)"
   ]
  },
  {
   "cell_type": "code",
   "execution_count": 22,
   "id": "6deb70f9",
   "metadata": {},
   "outputs": [],
   "source": [
    "\"\"\"\n",
    "Using X_train and Y_train due to how the target variable works for\n",
    "time series forecast with XGBoost\n",
    "\"\"\"\n",
    "\n",
    "X = shifted.iloc[:,0:1].values\n",
    "y = shifted.iloc[:, -1].values\n",
    "\n",
    "#tune_n_estimator(X, y)"
   ]
  }
 ],
 "metadata": {
  "kernelspec": {
   "display_name": "Python 3 (ipykernel)",
   "language": "python",
   "name": "python3"
  },
  "language_info": {
   "codemirror_mode": {
    "name": "ipython",
    "version": 3
   },
   "file_extension": ".py",
   "mimetype": "text/x-python",
   "name": "python",
   "nbconvert_exporter": "python",
   "pygments_lexer": "ipython3",
   "version": "3.9.7"
  }
 },
 "nbformat": 4,
 "nbformat_minor": 5
}
