{
 "cells": [
  {
   "cell_type": "code",
   "execution_count": 1,
   "id": "d16d21c0",
   "metadata": {},
   "outputs": [],
   "source": [
    "import numpy as np\n",
    "import pandas as pd\n",
    "from xgboost import XGBRegressor\n",
    "from sklearn import metrics\n",
    "from sklearn.model_selection import GridSearchCV\n",
    "from sklearn.model_selection import StratifiedKFold\n",
    "import matplotlib.pyplot as plt\n",
    "from statsmodels.graphics.tsaplots import plot_acf\n",
    "import statistics\n",
    "from sklearn.model_selection import learning_curve\n",
    "from sklearn.pipeline import make_pipeline\n",
    "\n",
    "#9 Lines import statements"
   ]
  },
  {
   "cell_type": "code",
   "execution_count": 2,
   "id": "eb464049",
   "metadata": {},
   "outputs": [],
   "source": [
    "pd.set_option('display.max_rows', 500)\n",
    "pd.set_option('display.max_columns', 500)\n",
    "pd.set_option('display.width', 1000)\n",
    "#3 lines written by me"
   ]
  },
  {
   "cell_type": "code",
   "execution_count": 3,
   "id": "d429bd59",
   "metadata": {},
   "outputs": [],
   "source": [
    "\"\"\"\n",
    "Function that loads and prepares the dataframe. \n",
    "\n",
    "Converts the data into time-series readable.\n",
    "\"\"\"\n",
    "def initialFormat (filepath, indicatorcode):\n",
    "    #Reads the file and creates a dataframe from it\n",
    "    df = pd.read_excel(filepath)\n",
    "    \n",
    "    #Choose what to forecast using indicator code\n",
    "    df_icode = df.loc[df['Indicator Code'] == indicatorcode]\n",
    "    \n",
    "    #Dropping these columns as they are not needed for the forecast\n",
    "    df_icode = df_icode.drop(columns=['Country Name', 'Country Code', 'Indicator Name', 'Indicator Code'])\n",
    "    \n",
    "    #Swap axis so it is in the proper format\n",
    "    df_formatted = df_icode.swapaxes(\"index\", \"columns\")\n",
    "    \n",
    "    #Renaming column name to 'values' to make reference easier\n",
    "    for col_names in df_formatted.columns:\n",
    "        name = df_formatted.rename(columns={col_names : \"Val\"})\n",
    "        return name\n",
    "    \n",
    "    return df_formatted\n",
    "\n",
    "#9 lines written by me"
   ]
  },
  {
   "cell_type": "code",
   "execution_count": 4,
   "id": "4e52bc1f",
   "metadata": {},
   "outputs": [],
   "source": [
    "\"\"\"\n",
    "Refactored from: \n",
    "\n",
    "https://cprosenjit.medium.com/10-time-series-forecasting-methods-we-should-know-291037d2e285\n",
    "\n",
    "\"\"\"\n",
    "\n",
    "def shift_dataframe(data):\n",
    "    #The value in \"shift(-x)\" is the lookback period in this case 1.\n",
    "    data[\"Target\"] = data.Val.shift(-1)\n",
    "    data.dropna(inplace=True)\n",
    "    \n",
    "    return data\n",
    "\n",
    "#4 lines taken from guide above"
   ]
  },
  {
   "cell_type": "code",
   "execution_count": 5,
   "id": "767acd38",
   "metadata": {},
   "outputs": [],
   "source": [
    "\"\"\"\n",
    "referenced from: https://towardsdatascience.com/time-series-from-scratch-train-test-splits-and-evaluation-metrics-4fd654de1b37\n",
    "\"\"\"\n",
    "\n",
    "def train_test_split(data):\n",
    "    \n",
    "    train = data[:int(len(data)*0.8)]\n",
    "    test = data[int(len(data) * 0.8):]\n",
    "    \n",
    "    return train, test"
   ]
  },
  {
   "cell_type": "code",
   "execution_count": 6,
   "id": "e16f1857",
   "metadata": {},
   "outputs": [],
   "source": [
    "def mean_imputation(data):\n",
    "    filled = data.fillna(data.mean())\n",
    "    filled.drop(data.tail(1).index,inplace=True) #remove last row\n",
    "    \n",
    "    return filled\n",
    "\n",
    "#3 lines written by me"
   ]
  },
  {
   "cell_type": "code",
   "execution_count": 7,
   "id": "fb83b54c",
   "metadata": {},
   "outputs": [],
   "source": [
    "\"\"\"\n",
    "This function is refactored from machine learning mastery to fit my data:\n",
    "\n",
    "https://machinelearningmastery.com/xgboost-for-time-series-forecasting/\n",
    "\"\"\"\n",
    "def xgboost_model(train, X_test):\n",
    "    train = np.asarray(train)\n",
    "    #Split into X_train and y_train\n",
    "    X_train, y_train = train[:,0:1], train[:, -1]\n",
    "    \n",
    "    model = XGBRegressor(objective='reg:squarederror', n_estimators=1000, max_depth=6, learning_rate=0.3)\n",
    "    model.fit(X_train, y_train, verbose=False)\n",
    "    \n",
    "    y_pred = model.predict(np.asarray([X_test]))\n",
    "    \n",
    "    return y_train, X_train, y_pred[0]\n",
    "\n",
    "#7 Lines taken exactly from guide"
   ]
  },
  {
   "cell_type": "code",
   "execution_count": 8,
   "id": "b9b20f43",
   "metadata": {},
   "outputs": [],
   "source": [
    "\"\"\"\n",
    "This function is refactored from machine learning mastery:\n",
    "\n",
    "https://machinelearningmastery.com/xgboost-for-time-series-forecasting/\n",
    "\n",
    "\"\"\"\n",
    "\n",
    "def walk_forward_validation(data):\n",
    "    predictions = list()\n",
    "    \n",
    "    train, test = train_test_split(data)\n",
    "    \n",
    "    history = [x for x in train]\n",
    "    \n",
    "    for i in range(len(test)):\n",
    "        \n",
    "        X_test, y_test = test[i, :-1], test[i, -1]\n",
    "        \n",
    "        y_train, X_train ,y_pred = xgboost_model(history, X_test)\n",
    "        \n",
    "        predictions.append(y_pred)\n",
    "        \n",
    "    return y_train, X_train, test[:, -1], predictions\n",
    "\n",
    "#9 Lines taken exactly from guide"
   ]
  },
  {
   "cell_type": "code",
   "execution_count": 9,
   "id": "1f6b9f54",
   "metadata": {},
   "outputs": [],
   "source": [
    "\"\"\"\n",
    "Starting here is the hyperparameter optimisation for univariate forecasting\n",
    "\n",
    "This piece of code was reused from https://towardsdatascience.com/xgboost-fine-tune-and-optimize-your-model-23d996fab663\n",
    "\n",
    "Fitted for my model\n",
    "\"\"\"\n",
    "\n",
    "def tune_n_estimator(X, y):\n",
    "    hyperparam = {'max_depth': [3,6,10],\n",
    "                 'learning_rate': [0.01, 0.05, 0.1, 0.15, 0.2, 0.3],\n",
    "                 'n_estimators': [5,10,50,100,1000]}\n",
    "    \n",
    "    model = XGBRegressor()\n",
    "    \n",
    "    gscv = GridSearchCV(estimator=model, param_grid=hyperparam,\n",
    "                       scoring='neg_mean_squared_error',\n",
    "                       verbose=1)\n",
    "    \n",
    "    gscv.fit(X, y)\n",
    "    \n",
    "    print(\"Best hyperparam: \", gscv.best_params_)\n",
    "    \n",
    "#6 lines modified by me"
   ]
  },
  {
   "cell_type": "code",
   "execution_count": 10,
   "id": "96726895",
   "metadata": {},
   "outputs": [],
   "source": [
    "def performance_metrics(y_test, y_pred):\n",
    "    \n",
    "    sign1 = np.sign(np.array(y_test[1:]) - np.array(y_test[:-1]))\n",
    "    sign2 = np.sign(np.array(y_pred[1:]) - np.array(y_pred[:-1]))\n",
    "    rmse = np.sqrt(metrics.mean_squared_error(y_test, y_pred))\n",
    "    mape = np.mean(np.abs((y_test - y_pred) / y_test )) *100\n",
    "    mae = metrics.mean_absolute_error(y_test, y_pred)\n",
    "    r2 = metrics.r2_score(y_test, y_pred)\n",
    "    mda = np.mean((sign1 == sign2).astype(int))\n",
    "    mean = np.mean(y_test)\n",
    "    si = (rmse/mean)*100\n",
    "    \n",
    "    print(\"RMSE: \", rmse)\n",
    "    print(\"MAPE: \", mape)\n",
    "    print(\"MAE: \", mae)\n",
    "    print(\"Scatter Index: \", si)\n",
    "    print(\"MDA: \", mda)\n",
    "    print(\"Mean of actual: \", mean)\n",
    "    \n",
    "#13 lines, 3 from documentation, 1 from github, 9 written by me"
   ]
  },
  {
   "cell_type": "code",
   "execution_count": 11,
   "id": "ca4c1f0e",
   "metadata": {},
   "outputs": [],
   "source": [
    "data = initialFormat('/Users/farhanhabibie/Desktop/Farhan Thesis Code /UG-Project-Farhan/Indonesia Macro Dataset.xlsx', \n",
    "                    'SL.UEM.TOTL.MA.ZS')\n",
    "\n",
    "\n",
    "\n",
    "filled = mean_imputation(data)\n",
    "shifted = shift_dataframe(filled)\n",
    "finalData = shifted.values\n",
    "\n",
    "#Used to grab the index (i.e 2006-2019) later for plotting\n",
    "train_index, test_index = train_test_split(shifted)"
   ]
  },
  {
   "cell_type": "code",
   "execution_count": 12,
   "id": "54e21844",
   "metadata": {
    "scrolled": false
   },
   "outputs": [],
   "source": [
    "y_train, X_train, actual, predicted = walk_forward_validation(finalData)\n",
    "\n",
    "#1 line taken from guide, modified by me"
   ]
  },
  {
   "cell_type": "code",
   "execution_count": 13,
   "id": "6deb70f9",
   "metadata": {},
   "outputs": [
    {
     "name": "stdout",
     "output_type": "stream",
     "text": [
      "Fitting 5 folds for each of 90 candidates, totalling 450 fits\n",
      "Best hyperparam:  {'learning_rate': 0.1, 'max_depth': 3, 'n_estimators': 100}\n"
     ]
    }
   ],
   "source": [
    "\"\"\"\n",
    "Using X_train and Y_train due to how the target variable works for\n",
    "time series forecast with XGBoost\n",
    "\"\"\"\n",
    "tune_n_estimator(X_train, y_train)"
   ]
  },
  {
   "cell_type": "code",
   "execution_count": 14,
   "id": "3da1d07b",
   "metadata": {},
   "outputs": [],
   "source": [
    "dtest = data.fillna(data.mean())\n",
    "dtest.drop(data.tail(1).index, inplace=True)\n",
    "newindextest = dtest[int(len(data)*0.8):]\n",
    "newindex = newindextest.index.values.tolist()"
   ]
  },
  {
   "cell_type": "code",
   "execution_count": 15,
   "id": "af0f936d",
   "metadata": {
    "scrolled": false
   },
   "outputs": [
    {
     "name": "stdout",
     "output_type": "stream",
     "text": [
      "RMSE:  0.6765516311029096\n",
      "MAPE:  11.561456016196162\n",
      "MAE:  0.5494929353396106\n",
      "Scatter Index:  14.300897554811694\n",
      "MDA:  0.45454545454545453\n",
      "Mean of actual:  4.73083335161209\n"
     ]
    },
    {
     "data": {
      "image/png": "[encoded data removed]",
      "text/plain": [
       "<Figure size 432x288 with 1 Axes>"
      ]
     },
     "metadata": {
      "needs_background": "light"
     },
     "output_type": "display_data"
    }
   ],
   "source": [
    "df_compare = pd.DataFrame({'Actual' : actual, 'Predicted' : predicted})\n",
    "df_compare.index = newindex\n",
    "df_compare.plot(title='Unemployment (M) Actual vs Predicted')\n",
    "performance_metrics(actual, predicted)\n",
    "\n",
    "#5 lines written by me"
   ]
  },
  {
   "cell_type": "code",
   "execution_count": 16,
   "id": "f708cabc",
   "metadata": {},
   "outputs": [
    {
     "name": "stdout",
     "output_type": "stream",
     "text": [
      "Variance =  Val    0.686742\n",
      "dtype: float64\n"
     ]
    }
   ],
   "source": [
    "\"\"\"\n",
    "Calc variance\n",
    "\n",
    "used this guide for formula: https://www.scribbr.com/statistics/variance/\n",
    "\"\"\"\n",
    "\n",
    "dataMean = data.dropna().mean()\n",
    "#print(dataMean)\n",
    "n_minus_one = len(X_train) - 1\n",
    "summed = 0\n",
    "for vals in X_train:\n",
    "        subtracted = vals - dataMean\n",
    "        squared = subtracted ** 2\n",
    "        summed = summed + squared\n",
    "\n",
    "#print(summed)\n",
    "\n",
    "varianced = summed / n_minus_one\n",
    "print(\"Variance = \", varianced)\n",
    "\n",
    "#9 lines written by me after reading formula from guide"
   ]
  },
  {
   "cell_type": "code",
   "execution_count": 17,
   "id": "1561819d",
   "metadata": {},
   "outputs": [
    {
     "data": {
      "text/plain": [
       "Text(0.5, 1.0, 'Real Interest Rate Actual Data')"
      ]
     },
     "execution_count": 17,
     "metadata": {},
     "output_type": "execute_result"
    },
    {
     "data": {
      "image/png": "[encoded data removed]",
      "text/plain": [
       "<Figure size 432x288 with 1 Axes>"
      ]
     },
     "metadata": {
      "needs_background": "light"
     },
     "output_type": "display_data"
    }
   ],
   "source": [
    "plt.plot(data)\n",
    "plt.title('Real Interest Rate Actual Data')\n",
    "\n",
    "#2 lines written by me"
   ]
  },
  {
   "cell_type": "code",
   "execution_count": 22,
   "id": "b45e5234",
   "metadata": {},
   "outputs": [
    {
     "data": {
      "text/plain": [
       "Text(0.5, 1.0, 'Learning Curve, XGB Univariate Real Interest Rate')"
      ]
     },
     "execution_count": 22,
     "metadata": {},
     "output_type": "execute_result"
    },
    {
     "data": {
      "image/png": "[encoded data removed]",
      "text/plain": [
       "<Figure size 432x288 with 1 Axes>"
      ]
     },
     "metadata": {
      "needs_background": "light"
     },
     "output_type": "display_data"
    }
   ],
   "source": [
    "\"\"\"\n",
    "Learning Curve to detect overfit/underfit\n",
    "\n",
    "Method from: \n",
    "\n",
    "https://vitalflux.com/learning-curves-explained-python-sklearn-example/amp/\n",
    "and\n",
    "https://www.scikit-yb.org/en/latest/api/model_selection/learning_curve.html#:~:text=Learning%20curves%20can%20be%20generated,see%20in%20the%20following%20examples.\n",
    "\n",
    "\"\"\"\n",
    "\n",
    "pipeline = make_pipeline(XGBRegressor(objective='reg:squarederror', n_estimators=1000, \n",
    "                                                        max_depth=6, learning_rate = 0.3))\n",
    "\n",
    "train_sizes, train_scores, test_scores = learning_curve(estimator=pipeline, X=X_train,\n",
    "                                                      y=y_train, cv=5,\n",
    "                                                      train_sizes=np.linspace(0.1, 1.0, 10))\n",
    "\n",
    "train_mean = np.mean(train_scores, axis=1)\n",
    "train_std = np.std(train_scores, axis=1)\n",
    "test_mean = np.mean(test_scores, axis=1)\n",
    "test_std = np.std(test_scores, axis=1)\n",
    "\n",
    "plt.plot(train_sizes, train_mean, marker='o', label='Training Accuracy')\n",
    "plt.xlabel('Training Data Size')\n",
    "plt.plot(train_sizes, test_mean, marker='x', linestyle='--', label='Validation Accuracy')\n",
    "plt.ylabel('Score')\n",
    "plt.legend(loc='best')\n",
    "plt.title('Learning Curve, XGB Univariate Real Interest Rate')\n",
    "\n",
    "#14 lines taken directly from guide, integrated with my model\n"
   ]
  },
  {
   "cell_type": "code",
   "execution_count": 23,
   "id": "f2f4f1ac",
   "metadata": {},
   "outputs": [
    {
     "data": {
      "text/plain": [
       "array([ 0.00000000e+00,  0.00000000e+00, -2.98255035e+17, -2.98255035e+17,\n",
       "       -2.98255035e+17, -1.19302014e+17,  3.64569825e-01, -1.19302014e+17,\n",
       "        7.60069013e-01,  8.25012445e-01])"
      ]
     },
     "execution_count": 23,
     "metadata": {},
     "output_type": "execute_result"
    }
   ],
   "source": [
    "train_mean"
   ]
  },
  {
   "cell_type": "code",
   "execution_count": 24,
   "id": "1c8bb519",
   "metadata": {},
   "outputs": [
    {
     "data": {
      "text/plain": [
       "array([-4.69154057e+17, -1.19302014e+17, -1.19302014e+17, -1.19302014e+17,\n",
       "       -1.19302014e+17, -7.00427471e+27, -6.99967188e+27, -6.98990299e+27,\n",
       "       -6.98757536e+27, -6.98558867e+27])"
      ]
     },
     "execution_count": 24,
     "metadata": {},
     "output_type": "execute_result"
    }
   ],
   "source": [
    "test_mean"
   ]
  },
  {
   "cell_type": "code",
   "execution_count": 21,
   "id": "8f79cd68",
   "metadata": {},
   "outputs": [
    {
     "data": {
      "text/plain": [
       "'\\n107 Total Lines of code\\n\\nx written by me\\ny copied from some guide\\nz taken and tweaked for my model\\n'"
      ]
     },
     "execution_count": 21,
     "metadata": {},
     "output_type": "execute_result"
    }
   ],
   "source": [
    "\"\"\"\n",
    "101 Total Lines of code\n",
    "\n",
    "x written by me\n",
    "y copied from some guide\n",
    "z taken and tweaked for my model\n",
    "\"\"\""
   ]
  }
 ],
 "metadata": {
  "kernelspec": {
   "display_name": "Python 3 (ipykernel)",
   "language": "python",
   "name": "python3"
  },
  "language_info": {
   "codemirror_mode": {
    "name": "ipython",
    "version": 3
   },
   "file_extension": ".py",
   "mimetype": "text/x-python",
   "name": "python",
   "nbconvert_exporter": "python",
   "pygments_lexer": "ipython3",
   "version": "3.9.7"
  }
 },
 "nbformat": 4,
 "nbformat_minor": 5
}
