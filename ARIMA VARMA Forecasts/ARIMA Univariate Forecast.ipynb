{
 "cells": [
  {
   "cell_type": "code",
   "execution_count": null,
   "id": "034e995b",
   "metadata": {},
   "outputs": [],
   "source": [
    "\"\"\"\n",
    "The general method for the ARIMA implementation comes from:\n",
    "\n",
    "https://towardsdatascience.com/machine-learning-part-19-time-series-and-autoregressive-integrated-moving-average-model-arima-c1005347b0d7\n",
    "https://www.machinelearningplus.com/time-series/arima-model-time-series-forecasting-python/\n",
    "\"\"\""
   ]
  },
  {
   "cell_type": "code",
   "execution_count": null,
   "id": "01c61c4c",
   "metadata": {},
   "outputs": [],
   "source": [
    "import pandas as pd\n",
    "import numpy as np\n",
    "from statsmodels.tsa.stattools import adfuller\n",
    "from statsmodels.tsa.arima.model import ARIMA\n",
    "from statsmodels.tsa.arima.model import ARIMAResults\n",
    "from sklearn import metrics\n",
    "from statsmodels.graphics.tsaplots import plot_acf, plot_pacf\n",
    "import matplotlib.pyplot as plt\n",
    "from pmdarima import auto_arima\n",
    "from sklearn.model_selection import TimeSeriesSplit\n",
    "\n",
    "#Imported to ignore warnings from ARIMA\n",
    "import warnings\n",
    "warnings.filterwarnings(\"ignore\")\n",
    "\n",
    "#10 import statements"
   ]
  },
  {
   "cell_type": "code",
   "execution_count": null,
   "id": "531f050d",
   "metadata": {},
   "outputs": [],
   "source": [
    "pd.set_option('display.max_rows', 500)\n",
    "pd.set_option('display.max_columns', 500)\n",
    "pd.set_option('display.width', 1000)\n",
    "\n",
    "#3 lines written by me"
   ]
  },
  {
   "cell_type": "code",
   "execution_count": null,
   "id": "b12d51fa",
   "metadata": {},
   "outputs": [],
   "source": [
    "\"\"\"\n",
    "Easy formatting data written by me\n",
    "\"\"\"\n",
    "\n",
    "def read_data(pathname, indicatorcode):\n",
    "    df = pd.read_excel(pathname)\n",
    "    \n",
    "    df2 = df.loc[df['Indicator Code'] == indicatorcode]\n",
    "    \n",
    "    #Dropping these columns as they are not needed for the forecast\n",
    "    df2 = df2.drop(columns=['Country Name', 'Country Code', 'Indicator Name', 'Indicator Code'])\n",
    "    \n",
    "    df3 = df2.swapaxes('index', 'columns')\n",
    "    \n",
    "    return df3\n",
    "\n",
    "#6 lines written by me"
   ]
  },
  {
   "cell_type": "code",
   "execution_count": null,
   "id": "34f7e34a",
   "metadata": {},
   "outputs": [],
   "source": [
    "\"\"\"\n",
    "Method for this block of code is refactored from:\n",
    "\n",
    "https://towardsdatascience.com/machine-learning-part-19-time-series-and-autoregressive-integrated-moving-average-model-arima-c1005347b0d7\n",
    "\"\"\"\n",
    "\n",
    "def stationarityTest(data):\n",
    "    \n",
    "    #Find out if the data is stationary or not\n",
    "    #Using Rolling Statistics (Rolling Mean and Rolling Std)\n",
    "    rolling_mean = data.rolling(window=10).mean()\n",
    "    rolling_std = data.rolling(window=10).std()\n",
    "    \n",
    "    plt.plot(data, color='blue', label='original')\n",
    "    plt.plot(rolling_mean, color='red', label='Rolling Mean')\n",
    "    plt.plot(rolling_std, color='green', label='Rolling Std')\n",
    "    plt.legend(loc='best')\n",
    "    plt.title('RM vs RSTD vs ORI')\n",
    "    \n",
    "    #Augmented Dickey-Fuller Test\n",
    "    result = adfuller(data.dropna())\n",
    "    print('ADF Statistic: ', result[0])\n",
    "    print('p-value: ', result[1])\n",
    "    print('Critical Values:')\n",
    "    for key, value in result[4].items():\n",
    "        print('\\t{}: {}'.format(key, value))\n",
    "        \n",
    "#14 lines from guide"
   ]
  },
  {
   "cell_type": "code",
   "execution_count": null,
   "id": "cef9a239",
   "metadata": {},
   "outputs": [],
   "source": [
    "\"\"\"\n",
    "Order Differencing function inspired and adapted from:\n",
    "\n",
    "https://www.machinelearningplus.com/time-series/arima-model-time-series-forecasting-python/\n",
    "\"\"\"\n",
    "\n",
    "def make_stationary(data):\n",
    "    \n",
    "#1st Order Differencing\n",
    "    data_first_od = data.diff()\n",
    "    data_first_od_dropped = data_first_od.dropna(inplace=True)\n",
    "    \n",
    "    return data_first_od"
   ]
  },
  {
   "cell_type": "code",
   "execution_count": null,
   "id": "44bedfc0",
   "metadata": {},
   "outputs": [],
   "source": [
    "\"\"\"\n",
    "line 9,10,15 (MDA) adapted and modified from: https://gist.github.com/bshishov/5dc237f59f019b26145648e2124ca1c9\n",
    "\n",
    "line 12 (MAPE) adapted from: https://www.statology.org/mape-python/\n",
    "\"\"\"\n",
    "\n",
    "def performance_metrics(y_test, y_pred):\n",
    "    \n",
    "    sign1 = np.sign(np.array(y_test[1:]) - np.array(y_test[:-1]))\n",
    "    sign2 = np.sign(np.array(y_pred[1:]) - np.array(y_pred[:-1]))\n",
    "    rmse = np.sqrt(metrics.mean_squared_error(y_test, y_pred))\n",
    "    mape = np.mean(np.abs((y_test - y_pred) / y_test )) *100\n",
    "    mae = metrics.mean_absolute_error(y_test, y_pred)\n",
    "    r2 = metrics.r2_score(y_test, y_pred)\n",
    "    mda = np.mean((sign1 == sign2).astype(int))\n",
    "    mean = np.mean(y_test)\n",
    "    si = (rmse/mean)*100\n",
    "    \n",
    "    print(\"RMSE: \", rmse)\n",
    "    print(\"MAPE: \", mape)\n",
    "    print(\"MAE: \", mae)\n",
    "    print(\"Scatter Index: \", si)\n",
    "    print(\"MDA: \", mda)\n",
    "    print(\"Mean of actual: \", mean)\n",
    "    \n",
    "#16 lines, 9 lines written by me, 4 documentation 3 modi"
   ]
  },
  {
   "cell_type": "code",
   "execution_count": null,
   "id": "3c33570d",
   "metadata": {},
   "outputs": [],
   "source": [
    "data = read_data('/Users/farhanhabibie/Desktop/Farhan Thesis Code /UG-Project-Farhan/Indonesia Macro Dataset.xlsx', \n",
    "                     'SL.UEM.TOTL.FE.ZS')\n",
    "data = data.dropna()\n",
    "data_first_ord = make_stationary(data)\n",
    "#1 line written by me"
   ]
  },
  {
   "cell_type": "code",
   "execution_count": null,
   "id": "378142dd",
   "metadata": {},
   "outputs": [],
   "source": [
    "stationarityTest(data)"
   ]
  },
  {
   "cell_type": "code",
   "execution_count": null,
   "id": "444d9e5a",
   "metadata": {},
   "outputs": [],
   "source": [
    "stationarityTest(data_first_ord.diff())"
   ]
  },
  {
   "cell_type": "code",
   "execution_count": null,
   "id": "1efdbe5a",
   "metadata": {},
   "outputs": [],
   "source": [
    "#Find AR order(p), differencing order(d), MA(q)\n",
    "\n",
    "#Find AR order(p) using a PACF, only considering the \n",
    "plot_pacf(data.diff().dropna(), lags=13)\n",
    "\n",
    "#Find MA order (q) using acf plot\n",
    "plot_acf(data.diff().dropna())\n",
    "\n",
    "#2 lines from documentation"
   ]
  },
  {
   "cell_type": "code",
   "execution_count": null,
   "id": "6607bd3c",
   "metadata": {},
   "outputs": [],
   "source": [
    "\"\"\"\n",
    "adapted and modified from: \n",
    "https://towardsdatascience.com/time-series-from-scratch-train-test-splits-and-evaluation-metrics-4fd654de1b3\n",
    "\"\"\"\n",
    "\n",
    "train = data[:int(len(data)*0.8)]\n",
    "test = data[int(len(data)*0.8):]"
   ]
  },
  {
   "cell_type": "code",
   "execution_count": null,
   "id": "af69ec9c",
   "metadata": {},
   "outputs": [],
   "source": [
    "\"\"\"\n",
    "reused and modified from: \n",
    "\n",
    "https://www.machinelearningplus.com/time-series/arima-model-time-series-forecasting-python/\n",
    "\n",
    "However, these are just function calls to ARIMA model in statsmodels.\n",
    "\"\"\"\n",
    "\n",
    "model = ARIMA(train, order=(0,0,0)) \n",
    "model = model.fit()\n",
    "predict = model.predict(start=len(train), end=len(train)+len(test)-1)\n",
    "#3 lines from guide but modified"
   ]
  },
  {
   "cell_type": "code",
   "execution_count": null,
   "id": "01f65328",
   "metadata": {},
   "outputs": [],
   "source": [
    "\"\"\"\n",
    "Code written by me, however (line 9) was also used in a previous Introduction to AI Course I partook in,\n",
    "at City University of London\n",
    "\n",
    "Link to repository provided: \n",
    "https://github.com/LabiKSV/intro-to-ai-farhan-labi/blob/main/Linear%20Regression%20Label%20Encoder.ipynb\n",
    "\"\"\"\n",
    "\n",
    "df_compare = pd.DataFrame({'Actual' : test.values.flatten(), 'Predicted' : predict.values})\n",
    "newindex = test.index.values.tolist()\n",
    "df_compare.index = newindex\n",
    "df_compare.plot(title='Unemployment (M) Actual vs Predicted')\n",
    "performance_metrics(test.values, predict.values)\n",
    "#4 lines written by me"
   ]
  },
  {
   "cell_type": "code",
   "execution_count": null,
   "id": "9e23beb8",
   "metadata": {},
   "outputs": [],
   "source": [
    "predict.mean()"
   ]
  },
  {
   "cell_type": "code",
   "execution_count": null,
   "id": "eee9b7cf",
   "metadata": {},
   "outputs": [],
   "source": [
    "data.mean()"
   ]
  },
  {
   "cell_type": "code",
   "execution_count": null,
   "id": "0a357035",
   "metadata": {},
   "outputs": [],
   "source": [
    "\"\"\"\n",
    "Idea for using pmdarima attributed to the video on youtube:\n",
    "\n",
    "https://www.youtube.com/watch?v=8FCDpFhd1zk&ab_channel=NachiketaHebbar\n",
    "\"\"\"\n",
    "\n",
    "autoarima = auto_arima(train, \n",
    "                       trace=True, \n",
    "                       d=0, \n",
    "                       suppress_warnings=True, n_fits=50, test='adf')\n",
    "\n",
    "autoarima.summary()\n",
    "\n",
    "#2 lines from youtube"
   ]
  },
  {
   "cell_type": "code",
   "execution_count": null,
   "id": "c9e6ccc3",
   "metadata": {},
   "outputs": [],
   "source": [
    "\"\"\"\n",
    "64 Lines of code\n",
    "\"\"\""
   ]
  }
 ],
 "metadata": {
  "kernelspec": {
   "display_name": "Python 3 (ipykernel)",
   "language": "python",
   "name": "python3"
  },
  "language_info": {
   "codemirror_mode": {
    "name": "ipython",
    "version": 3
   },
   "file_extension": ".py",
   "mimetype": "text/x-python",
   "name": "python",
   "nbconvert_exporter": "python",
   "pygments_lexer": "ipython3",
   "version": "3.9.7"
  }
 },
 "nbformat": 4,
 "nbformat_minor": 5
}
