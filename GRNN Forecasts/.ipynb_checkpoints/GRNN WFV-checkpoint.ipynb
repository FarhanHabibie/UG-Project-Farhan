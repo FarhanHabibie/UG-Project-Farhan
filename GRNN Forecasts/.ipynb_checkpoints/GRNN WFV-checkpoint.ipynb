{
 "cells": [
  {
   "cell_type": "code",
   "execution_count": 1,
   "id": "e74ab09b",
   "metadata": {},
   "outputs": [],
   "source": [
    "import numpy as np\n",
    "import matplotlib.pyplot as plt\n",
    "from sklearn import metrics\n",
    "from xgboost import XGBRegressor\n",
    "from pyGRNN import GRNN\n",
    "import pandas as pd\n",
    "from sklearn.model_selection import TimeSeriesSplit\n",
    "from sklearn.model_selection import GridSearchCV"
   ]
  },
  {
   "cell_type": "code",
   "execution_count": 2,
   "id": "79aefcb5",
   "metadata": {},
   "outputs": [],
   "source": [
    "\"\"\"\n",
    "Function that loads and prepares the dataframe. \n",
    "\n",
    "Converts the data into time-series readable.\n",
    "\"\"\"\n",
    "def initialFormat (filepath, indicatorcode):\n",
    "    #Reads the file and creates a dataframe from it\n",
    "    df = pd.read_excel(filepath)\n",
    "    \n",
    "    #Choose what to forecast using indicator code\n",
    "    df_icode = df.loc[df['Indicator Code'] == indicatorcode]\n",
    "    \n",
    "    #Dropping these columns as they are not needed for the forecast\n",
    "    df_icode = df_icode.drop(columns=['Country Name', 'Country Code', 'Indicator Name', 'Indicator Code'])\n",
    "    \n",
    "    #Swap axis so it is in the proper format\n",
    "    df_formatted = df_icode.swapaxes(\"index\", \"columns\")\n",
    "    \n",
    "    #Renaming column name to 'values' to make reference easier\n",
    "    for col_names in df_formatted.columns:\n",
    "        name = df_formatted.rename(columns={col_names : \"Val\"})\n",
    "        return name\n",
    "    \n",
    "    return df_formatted\n",
    "\n",
    "#9 lines written by me"
   ]
  },
  {
   "cell_type": "code",
   "execution_count": 3,
   "id": "06cf54c9",
   "metadata": {},
   "outputs": [],
   "source": [
    "\"\"\"\n",
    "Refactored from: \n",
    "\n",
    "https://cprosenjit.medium.com/10-time-series-forecasting-methods-we-should-know-291037d2e285\n",
    "\n",
    "\"\"\"\n",
    "\n",
    "def shift_dataframe(data):\n",
    "    #The value in \"shift(-x)\" is the lookback period in this case 1.\n",
    "    data[\"Target\"] = data.Val.shift(-1)\n",
    "    data.dropna(inplace=True)\n",
    "    \n",
    "    return data\n",
    "\n",
    "#4 lines taken from guide above"
   ]
  },
  {
   "cell_type": "code",
   "execution_count": 4,
   "id": "d7fdd11f",
   "metadata": {},
   "outputs": [],
   "source": [
    "\"\"\"\n",
    "line 8 in this function used from: \n",
    "https://stackoverflow.com/questions/26921651/how-to-delete-the-last-row-of-data-of-a-pandas-dataframe\n",
    "\"\"\"\n",
    "\n",
    "def mean_imputation(data):\n",
    "    filled = data.fillna(data.mean())\n",
    "    filled.drop(data.tail(1).index,inplace=True) #remove last row\n",
    "    \n",
    "    return filled\n",
    "\n",
    "#3 lines written by me"
   ]
  },
  {
   "cell_type": "code",
   "execution_count": 5,
   "id": "a2ea6c32",
   "metadata": {},
   "outputs": [],
   "source": [
    "\"\"\"\n",
    "adapted and modified from: \n",
    "https://towardsdatascience.com/time-series-from-scratch-train-test-splits-and-evaluation-metrics-4fd654de1b3\n",
    "\"\"\"\n",
    "\n",
    "def train_test_split(data):\n",
    "    \n",
    "    train = data[:int(len(data)*0.8)]\n",
    "    test = data[int(len(data) * 0.8):]\n",
    "    \n",
    "    return train, test"
   ]
  },
  {
   "cell_type": "code",
   "execution_count": 6,
   "id": "fab43769",
   "metadata": {},
   "outputs": [],
   "source": [
    "\"\"\"\n",
    "line 9,10,15 (MDA) adapted and modified from: https://gist.github.com/bshishov/5dc237f59f019b26145648e2124ca1c9\n",
    "\n",
    "line 12 (MAPE) adapted from: https://www.statology.org/mape-python/\n",
    "\"\"\"\n",
    "\n",
    "def performance_metrics(y_test, y_pred):\n",
    "    \n",
    "    sign1 = np.sign(np.array(y_test[1:]) - np.array(y_test[:-1]))\n",
    "    sign2 = np.sign(np.array(y_pred[1:]) - np.array(y_pred[:-1]))\n",
    "    rmse = np.sqrt(metrics.mean_squared_error(y_test, y_pred))\n",
    "    mape = np.mean(np.abs((y_test - y_pred) / y_test )) *100\n",
    "    mae = metrics.mean_absolute_error(y_test, y_pred)\n",
    "    r2 = metrics.r2_score(y_test, y_pred)\n",
    "    mda = np.mean((sign1 == sign2).astype(int))\n",
    "    mean = np.mean(y_test)\n",
    "    si = (rmse/mean)*100\n",
    "    \n",
    "    print(\"RMSE: \", rmse)\n",
    "    print(\"MAPE: \", mape)\n",
    "    print(\"MAE: \", mae)\n",
    "    print(\"Scatter Index: \", si)\n",
    "    print(\"MDA: \", mda)\n",
    "    print(\"Mean of actual: \", mean)\n",
    "    \n",
    "#15 Lines. 3 From documentation, 3 from github, 9 written by me"
   ]
  },
  {
   "cell_type": "code",
   "execution_count": 7,
   "id": "680abe3c",
   "metadata": {},
   "outputs": [],
   "source": [
    "\"\"\"\n",
    "Commented out line was the line I used for local testing. Uncommented 'data ='\n",
    "should be good for universal path\n",
    "\n",
    "universal path with help from: \n",
    "\n",
    "https://stackoverflow.com/questions/50119792/python-import-excel-file-using-relative-path\n",
    "\n",
    "INDICATOR CODES:\n",
    "\n",
    "GDP GROWTH = NY.GDP.MKTP.KD.ZG\n",
    "\n",
    "INFLATION = NY.GDP.DEFL.KD.ZG\n",
    "\n",
    "UNEMPLOYEMENT MALE = SL.UEM.TOTL.MA.ZS\n",
    "\n",
    "UNEMPLOYMENT FEMALE = SL.UEM.TOTL.FE.ZS\n",
    "\n",
    "REAL INTEREST RATE = FR.INR.RINR\n",
    "\"\"\"\n",
    "\n",
    "#data = initialFormat('/Users/farhanhabibie/Desktop/Farhan Thesis Code /UG-Project-Farhan/Indonesia Macro Dataset.xlsx', \n",
    "#                     'NY.GDP.MKTP.KD.ZG')\n",
    "\n",
    "data = initialFormat(r'./../Indonesia Macro Dataset.xlsx', 'NY.GDP.MKTP.KD.ZG')\n",
    "\n",
    "filled = mean_imputation(data)\n",
    "shifted = shift_dataframe(filled)"
   ]
  },
  {
   "cell_type": "code",
   "execution_count": 8,
   "id": "394c61e9",
   "metadata": {},
   "outputs": [],
   "source": [
    "\"\"\"\n",
    "Written by me\n",
    "\"\"\"\n",
    "\n",
    "X = shifted.Val.values.reshape(-1,1)\n",
    "y = shifted.Target.values"
   ]
  },
  {
   "cell_type": "code",
   "execution_count": 9,
   "id": "7b0da857",
   "metadata": {},
   "outputs": [
    {
     "name": "stdout",
     "output_type": "stream",
     "text": [
      "TRAIN: [ 0  1  2  3  4  5  6  7  8  9 10] TEST: [11 12 13 14 15 16 17 18 19 20 21 22]\n",
      "TRAIN: [ 0  1  2  3  4  5  6  7  8  9 10 11 12 13 14 15 16 17 18 19 20 21 22] TEST: [23 24 25 26 27 28 29 30 31 32 33 34]\n",
      "TRAIN: [ 0  1  2  3  4  5  6  7  8  9 10 11 12 13 14 15 16 17 18 19 20 21 22 23\n",
      " 24 25 26 27 28 29 30 31 32 33 34] TEST: [35 36 37 38 39 40 41 42 43 44 45 46]\n",
      "TRAIN: [ 0  1  2  3  4  5  6  7  8  9 10 11 12 13 14 15 16 17 18 19 20 21 22 23\n",
      " 24 25 26 27 28 29 30 31 32 33 34 35 36 37 38 39 40 41 42 43 44 45 46] TEST: [47 48 49 50 51 52 53 54 55 56 57 58]\n"
     ]
    }
   ],
   "source": [
    "\"\"\"\n",
    "Explanation of USING TSCV FROM: \n",
    "\n",
    "https://medium.com/@soumyachess1496/cross-validation-in-time-series-566ae4981ce4\n",
    "\n",
    "[Does literally the same thing as WFV from machine learning mastery]\n",
    "\n",
    "Code for TSCV from: \n",
    "\n",
    "https://scikit-learn.org/stable/modules/generated/sklearn.model_selection.TimeSeriesSplit.html\n",
    "\n",
    "slightly modified for my dataset\n",
    "\"\"\"\n",
    "\n",
    "tscv = TimeSeriesSplit(test_size=len(filled) - int(len(filled)*0.8), n_splits=4)\n",
    "\n",
    "for train_index, test_index in tscv.split(X):\n",
    "    print(\"TRAIN:\", train_index, \"TEST:\", test_index)\n",
    "    X_train, X_test = X[train_index], X[test_index]\n",
    "    y_train, y_test = y[train_index], y[test_index]"
   ]
  },
  {
   "cell_type": "code",
   "execution_count": 10,
   "id": "17ffb652",
   "metadata": {},
   "outputs": [
    {
     "name": "stdout",
     "output_type": "stream",
     "text": [
      "Fitting 5 folds for each of 390 candidates, totalling 1950 fits\n",
      "Best hyperparam:  {'calibration': 'none', 'kernel': 'RBF', 'method': 'Nelder-Mead', 'sigma': 1.6499999999999992}\n"
     ]
    }
   ],
   "source": [
    "\"\"\"\n",
    "copied from https://github.com/federhub/pyGRNN\n",
    "\n",
    "\"\"\"\n",
    "\n",
    "IGRNN = GRNN()\n",
    "params_IGRNN = {'kernel':[\"RBF\"],\n",
    "                'sigma' : list(np.arange(0.1, 4, 0.01)),\n",
    "                #'n_splits' : list(np.arange(2,len(X_train),1)),\n",
    "                'calibration' : ['none'],\n",
    "                'method' : ['Nelder-Mead']\n",
    "                 }\n",
    "grid_IGRNN = GridSearchCV(estimator=IGRNN,\n",
    "                          param_grid=params_IGRNN,\n",
    "                          scoring='neg_mean_squared_error',\n",
    "                          cv=5,\n",
    "                          verbose=1\n",
    "                          )\n",
    "grid_IGRNN.fit(X_train, y_train)\n",
    "\n",
    "print(\"Best hyperparam: \", grid_IGRNN.best_params_)\n",
    "\n",
    "best_model = grid_IGRNN.best_estimator_\n",
    "y_pred = best_model.predict(X_test)\n"
   ]
  },
  {
   "cell_type": "code",
   "execution_count": 11,
   "id": "adf9a48a",
   "metadata": {},
   "outputs": [],
   "source": [
    "dtest = data.fillna(data.mean())\n",
    "dtest.drop(data.tail(1).index, inplace=True)\n",
    "newindextest = dtest[int(len(data)*0.8):]\n",
    "newindex = newindextest.index.values.tolist()"
   ]
  },
  {
   "cell_type": "code",
   "execution_count": 12,
   "id": "c2d967f9",
   "metadata": {},
   "outputs": [
    {
     "name": "stdout",
     "output_type": "stream",
     "text": [
      "RMSE:  0.5871744203541686\n",
      "MAPE:  6.979868342642585\n",
      "MAE:  0.3869681368710576\n",
      "Scatter Index:  10.872963947073995\n",
      "MDA:  0.6363636363636364\n",
      "Mean of actual:  5.400316079519256\n"
     ]
    },
    {
     "data": {
      "image/png": "[encoded data removed]",
      "text/plain": [
       "<Figure size 432x288 with 1 Axes>"
      ]
     },
     "metadata": {
      "needs_background": "light"
     },
     "output_type": "display_data"
    }
   ],
   "source": [
    "\"\"\"\n",
    "Code written by me, however (line 9) was also used in a previous Introduction to AI Course I partook in,\n",
    "at City University of London\n",
    "\n",
    "Link to repository provided: \n",
    "https://github.com/LabiKSV/intro-to-ai-farhan-labi/blob/main/Linear%20Regression%20Label%20Encoder.ipynb\n",
    "\"\"\"\n",
    "\n",
    "df_compare = pd.DataFrame({'Actual' : y_test, 'Predicted' : y_pred})\n",
    "df_compare.index = newindex\n",
    "df_compare.plot(title='GDP Growth Actual vs Predicted')\n",
    "performance_metrics(y_test, y_pred)\n",
    "#5 lines written by me"
   ]
  }
 ],
 "metadata": {
  "kernelspec": {
   "display_name": "Python 3 (ipykernel)",
   "language": "python",
   "name": "python3"
  },
  "language_info": {
   "codemirror_mode": {
    "name": "ipython",
    "version": 3
   },
   "file_extension": ".py",
   "mimetype": "text/x-python",
   "name": "python",
   "nbconvert_exporter": "python",
   "pygments_lexer": "ipython3",
   "version": "3.9.7"
  }
 },
 "nbformat": 4,
 "nbformat_minor": 5
}
