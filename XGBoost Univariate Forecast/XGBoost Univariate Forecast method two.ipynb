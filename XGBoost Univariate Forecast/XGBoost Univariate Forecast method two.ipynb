{
 "cells": [
  {
   "cell_type": "code",
   "execution_count": 1,
   "id": "e57014c1",
   "metadata": {},
   "outputs": [
    {
     "data": {
      "text/plain": [
       "'\\nNote:\\n\\nThis implementation method of XGBoost univariate forecasting was from:\\n\\nhttps://cprosenjit.medium.com/10-time-series-forecasting-methods-we-should-know-291037d2e285\\n\\nIt was another method I used in part to form the final version of XGBoost Univariate forecast\\n'"
      ]
     },
     "execution_count": 1,
     "metadata": {},
     "output_type": "execute_result"
    }
   ],
   "source": [
    "\"\"\"\n",
    "Note:\n",
    "\n",
    "This implementation method of XGBoost univariate forecasting was from:\n",
    "\n",
    "https://cprosenjit.medium.com/10-time-series-forecasting-methods-we-should-know-291037d2e285\n",
    "\n",
    "It was another method I used in part to form the final version of XGBoost Univariate forecast\n",
    "\"\"\""
   ]
  },
  {
   "cell_type": "code",
   "execution_count": 1,
   "id": "27157f1e",
   "metadata": {},
   "outputs": [],
   "source": [
    "import numpy as np\n",
    "import pandas as pd\n",
    "from xgboost import XGBRegressor\n",
    "from sklearn import metrics\n",
    "from sklearn.model_selection import GridSearchCV\n",
    "from sklearn.model_selection import StratifiedKFold\n",
    "from sklearn.model_selection import train_test_split\n",
    "import matplotlib.pyplot as plt\n",
    "from statsmodels.graphics.tsaplots import plot_acf\n",
    "import seaborn as sns\n",
    "import os"
   ]
  },
  {
   "cell_type": "code",
   "execution_count": 2,
   "id": "5575da5a",
   "metadata": {},
   "outputs": [],
   "source": [
    "pd.set_option('display.max_rows', 500)\n",
    "pd.set_option('display.max_columns', 500)\n",
    "pd.set_option('display.width', 1000)"
   ]
  },
  {
   "cell_type": "code",
   "execution_count": 3,
   "id": "f4fc6e7f",
   "metadata": {},
   "outputs": [],
   "source": [
    "\"\"\"\n",
    "Function that loads and prepares the dataframe. \n",
    "\n",
    "Converts the data into time-series readable.\n",
    "\"\"\"\n",
    "def initialFormat (filepath, indicatorcode):\n",
    "    #Reds the file and creates a dataframe from it\n",
    "    df = pd.read_excel(filepath)\n",
    "    \n",
    "    #Choose what to forecast using indicator code\n",
    "    df_icode = df.loc[df['Indicator Code'] == indicatorcode]\n",
    "    \n",
    "    #Dropping these columns as they are not needed for the forecast\n",
    "    df_icode = df_icode.drop(columns=['Country Name', 'Country Code', 'Indicator Name', 'Indicator Code'])\n",
    "    \n",
    "    #Swap axis so it is in the proper format\n",
    "    df_formatted = df_icode.swapaxes(\"index\", \"columns\")\n",
    "    \n",
    "    #Renaming column name to 'values' to make reference easier\n",
    "    for col_names in df_formatted.columns:\n",
    "        name = df_formatted.rename(columns={col_names : \"Val\"})\n",
    "        return name\n",
    "    \n",
    "    return df_formatted"
   ]
  },
  {
   "cell_type": "code",
   "execution_count": 4,
   "id": "35838972",
   "metadata": {},
   "outputs": [],
   "source": [
    "def performance_metrics(y_test, y_pred):\n",
    "    rmse = np.sqrt(metrics.mean_squared_error(y_test, y_pred))\n",
    "    mape = np.mean(np.abs((y_test - y_pred) / y_test )) *100\n",
    "    mae = metrics.mean_absolute_error(y_test, y_pred)\n",
    "    r2 = metrics.r2_score(y_test, y_pred)\n",
    "    mean = np.mean(y_test)\n",
    "    \n",
    "    print(\"RMSE: \", rmse)\n",
    "    print(\"MAPE: \", mape)\n",
    "    print(\"MAE: \", mae)\n",
    "    print(\"R2 Score: \", r2)\n",
    "    print(\"Mean of actual: \", mean)"
   ]
  },
  {
   "cell_type": "code",
   "execution_count": 5,
   "id": "37e72934",
   "metadata": {},
   "outputs": [],
   "source": [
    "data = initialFormat('/Users/farhanhabibie/Desktop/Farhan Thesis Code /UG-Project-Farhan/Indonesia Macro Dataset.xlsx',\n",
    "             'NY.GDP.DEFL.KD.ZG')"
   ]
  },
  {
   "cell_type": "code",
   "execution_count": 8,
   "id": "e61b68bf",
   "metadata": {},
   "outputs": [],
   "source": [
    "#Restructure data with shift\n",
    "data[\"Target\"] = data.Val.shift(-1)"
   ]
  },
  {
   "cell_type": "code",
   "execution_count": 9,
   "id": "dde5ebdb",
   "metadata": {},
   "outputs": [],
   "source": [
    "data.dropna(inplace=True)"
   ]
  },
  {
   "cell_type": "code",
   "execution_count": 11,
   "id": "b72f5b17",
   "metadata": {},
   "outputs": [],
   "source": [
    "#Extract feature & label\n",
    "X = data.iloc[:,0:1].values"
   ]
  },
  {
   "cell_type": "code",
   "execution_count": 12,
   "id": "556be8bf",
   "metadata": {},
   "outputs": [
    {
     "data": {
      "text/plain": [
       "array([[ 13.93601551],\n",
       "       [178.86674035],\n",
       "       [145.84108627],\n",
       "       [114.73115931],\n",
       "       [228.81894076],\n",
       "       [-98.70383134],\n",
       "       [164.72184066],\n",
       "       [122.97280649],\n",
       "       [ 21.35320193],\n",
       "       [ 14.25307188],\n",
       "       [  2.72473711],\n",
       "       [ 16.11983903],\n",
       "       [ 36.87847951],\n",
       "       [ 47.31049663],\n",
       "       [ 12.46805837],\n",
       "       [ 14.4567946 ],\n",
       "       [ 13.01236266],\n",
       "       [ 12.06489856],\n",
       "       [ 31.18718861],\n",
       "       [ 29.14549977],\n",
       "       [ 10.15071465],\n",
       "       [  7.9505039 ],\n",
       "       [ 18.61270035],\n",
       "       [ 10.42182968],\n",
       "       [  6.19136369],\n",
       "       [  2.25377148],\n",
       "       [ 16.00381571],\n",
       "       [  7.62910933],\n",
       "       [  9.48502964],\n",
       "       [  9.0939497 ],\n",
       "       [  8.76703889],\n",
       "       [  7.28885626],\n",
       "       [ 19.15257826],\n",
       "       [  7.7765728 ],\n",
       "       [  9.88204513],\n",
       "       [  8.67650976],\n",
       "       [ 12.5713763 ],\n",
       "       [ 75.27116877],\n",
       "       [ 14.16119599],\n",
       "       [ 20.44745685],\n",
       "       [ 14.29571544],\n",
       "       [  5.89605169],\n",
       "       [  5.48742914],\n",
       "       [  8.55072703],\n",
       "       [ 14.33178708],\n",
       "       [ 14.08742442],\n",
       "       [ 11.25857853],\n",
       "       [ 18.14975125],\n",
       "       [  8.27475243],\n",
       "       [ 15.26429366],\n",
       "       [  7.46594303],\n",
       "       [  3.75387875],\n",
       "       [  4.96599029],\n",
       "       [  5.44317455],\n",
       "       [  3.98024266],\n",
       "       [  2.43892409],\n",
       "       [  4.29267812],\n",
       "       [  3.81974052]])"
      ]
     },
     "execution_count": 12,
     "metadata": {},
     "output_type": "execute_result"
    }
   ],
   "source": [
    "X"
   ]
  },
  {
   "cell_type": "code",
   "execution_count": 14,
   "id": "fa966b96",
   "metadata": {},
   "outputs": [],
   "source": [
    "y = data.iloc[:, -1].values"
   ]
  },
  {
   "cell_type": "code",
   "execution_count": 15,
   "id": "797df638",
   "metadata": {},
   "outputs": [],
   "source": [
    "X_train, X_test, y_train, y_test = train_test_split(X, y, test_size = 0.2, random_state = 0, shuffle=False)"
   ]
  },
  {
   "cell_type": "code",
   "execution_count": 22,
   "id": "b8cb9130",
   "metadata": {},
   "outputs": [],
   "source": [
    "model = XGBRegressor(objective = 'reg:squarederror', n_estimators=1000)"
   ]
  },
  {
   "cell_type": "code",
   "execution_count": 23,
   "id": "58754119",
   "metadata": {},
   "outputs": [
    {
     "data": {
      "text/plain": [
       "XGBRegressor(base_score=0.5, booster='gbtree', colsample_bylevel=1,\n",
       "             colsample_bynode=1, colsample_bytree=1, enable_categorical=False,\n",
       "             gamma=0, gpu_id=-1, importance_type=None,\n",
       "             interaction_constraints='', learning_rate=0.300000012,\n",
       "             max_delta_step=0, max_depth=6, min_child_weight=1, missing=nan,\n",
       "             monotone_constraints='()', n_estimators=1000, n_jobs=8,\n",
       "             num_parallel_tree=1, predictor='auto', random_state=0, reg_alpha=0,\n",
       "             reg_lambda=1, scale_pos_weight=1, subsample=1, tree_method='exact',\n",
       "             validate_parameters=1, verbosity=None)"
      ]
     },
     "execution_count": 23,
     "metadata": {},
     "output_type": "execute_result"
    }
   ],
   "source": [
    "model.fit(X_train, y_train)"
   ]
  },
  {
   "cell_type": "code",
   "execution_count": 24,
   "id": "f2e0b35b",
   "metadata": {},
   "outputs": [],
   "source": [
    "y_pred = model.predict(X_test)"
   ]
  },
  {
   "cell_type": "code",
   "execution_count": 25,
   "id": "d02456f7",
   "metadata": {},
   "outputs": [],
   "source": [
    "df_pred = pd.DataFrame({'Predicted' : y_pred})"
   ]
  },
  {
   "cell_type": "code",
   "execution_count": 26,
   "id": "561a2bbe",
   "metadata": {},
   "outputs": [],
   "source": [
    "result = pd.concat([dataFormatted.tail(len(X_test)).reset_index(drop=True), df_pred], axis = 1)"
   ]
  },
  {
   "cell_type": "code",
   "execution_count": 27,
   "id": "ce6ced8e",
   "metadata": {},
   "outputs": [
    {
     "data": {
      "text/html": [
       "<div>\n",
       "<style scoped>\n",
       "    .dataframe tbody tr th:only-of-type {\n",
       "        vertical-align: middle;\n",
       "    }\n",
       "\n",
       "    .dataframe tbody tr th {\n",
       "        vertical-align: top;\n",
       "    }\n",
       "\n",
       "    .dataframe thead th {\n",
       "        text-align: right;\n",
       "    }\n",
       "</style>\n",
       "<table border=\"1\" class=\"dataframe\">\n",
       "  <thead>\n",
       "    <tr style=\"text-align: right;\">\n",
       "      <th></th>\n",
       "      <th>year</th>\n",
       "      <th>Val</th>\n",
       "      <th>Target</th>\n",
       "      <th>Predicted</th>\n",
       "    </tr>\n",
       "  </thead>\n",
       "  <tbody>\n",
       "    <tr>\n",
       "      <th>0</th>\n",
       "      <td>2007</td>\n",
       "      <td>11.258579</td>\n",
       "      <td>18.149751</td>\n",
       "      <td>11.259875</td>\n",
       "    </tr>\n",
       "    <tr>\n",
       "      <th>1</th>\n",
       "      <td>2008</td>\n",
       "      <td>18.149751</td>\n",
       "      <td>8.274752</td>\n",
       "      <td>11.259875</td>\n",
       "    </tr>\n",
       "    <tr>\n",
       "      <th>2</th>\n",
       "      <td>2009</td>\n",
       "      <td>8.274752</td>\n",
       "      <td>15.264294</td>\n",
       "      <td>11.259875</td>\n",
       "    </tr>\n",
       "    <tr>\n",
       "      <th>3</th>\n",
       "      <td>2010</td>\n",
       "      <td>15.264294</td>\n",
       "      <td>7.465943</td>\n",
       "      <td>11.259875</td>\n",
       "    </tr>\n",
       "    <tr>\n",
       "      <th>4</th>\n",
       "      <td>2011</td>\n",
       "      <td>7.465943</td>\n",
       "      <td>3.753879</td>\n",
       "      <td>11.259875</td>\n",
       "    </tr>\n",
       "    <tr>\n",
       "      <th>5</th>\n",
       "      <td>2012</td>\n",
       "      <td>3.753879</td>\n",
       "      <td>4.965990</td>\n",
       "      <td>11.259875</td>\n",
       "    </tr>\n",
       "    <tr>\n",
       "      <th>6</th>\n",
       "      <td>2013</td>\n",
       "      <td>4.965990</td>\n",
       "      <td>5.443175</td>\n",
       "      <td>11.259875</td>\n",
       "    </tr>\n",
       "    <tr>\n",
       "      <th>7</th>\n",
       "      <td>2014</td>\n",
       "      <td>5.443175</td>\n",
       "      <td>3.980243</td>\n",
       "      <td>11.259875</td>\n",
       "    </tr>\n",
       "    <tr>\n",
       "      <th>8</th>\n",
       "      <td>2015</td>\n",
       "      <td>3.980243</td>\n",
       "      <td>2.438924</td>\n",
       "      <td>11.259875</td>\n",
       "    </tr>\n",
       "    <tr>\n",
       "      <th>9</th>\n",
       "      <td>2016</td>\n",
       "      <td>2.438924</td>\n",
       "      <td>4.292678</td>\n",
       "      <td>11.259875</td>\n",
       "    </tr>\n",
       "    <tr>\n",
       "      <th>10</th>\n",
       "      <td>2017</td>\n",
       "      <td>4.292678</td>\n",
       "      <td>3.819741</td>\n",
       "      <td>11.259875</td>\n",
       "    </tr>\n",
       "    <tr>\n",
       "      <th>11</th>\n",
       "      <td>2018</td>\n",
       "      <td>3.819741</td>\n",
       "      <td>1.604536</td>\n",
       "      <td>11.259875</td>\n",
       "    </tr>\n",
       "  </tbody>\n",
       "</table>\n",
       "</div>"
      ],
      "text/plain": [
       "    year        Val     Target  Predicted\n",
       "0   2007  11.258579  18.149751  11.259875\n",
       "1   2008  18.149751   8.274752  11.259875\n",
       "2   2009   8.274752  15.264294  11.259875\n",
       "3   2010  15.264294   7.465943  11.259875\n",
       "4   2011   7.465943   3.753879  11.259875\n",
       "5   2012   3.753879   4.965990  11.259875\n",
       "6   2013   4.965990   5.443175  11.259875\n",
       "7   2014   5.443175   3.980243  11.259875\n",
       "8   2015   3.980243   2.438924  11.259875\n",
       "9   2016   2.438924   4.292678  11.259875\n",
       "10  2017   4.292678   3.819741  11.259875\n",
       "11  2018   3.819741   1.604536  11.259875"
      ]
     },
     "execution_count": 27,
     "metadata": {},
     "output_type": "execute_result"
    }
   ],
   "source": [
    "result"
   ]
  },
  {
   "cell_type": "code",
   "execution_count": 28,
   "id": "35cc8977",
   "metadata": {},
   "outputs": [
    {
     "name": "stdout",
     "output_type": "stream",
     "text": [
      "RMSE:  6.736238253402367\n",
      "MAPE:  174.00400840094443\n",
      "MAE:  6.454432242430241\n",
      "R2 Score:  -0.9018608177690968\n",
      "Mean of actual:  6.6211587737860995\n"
     ]
    },
    {
     "data": {
      "image/png": "[encoded data removed]",
      "text/plain": [
       "<Figure size 432x288 with 1 Axes>"
      ]
     },
     "metadata": {
      "needs_background": "light"
     },
     "output_type": "display_data"
    }
   ],
   "source": [
    "df_compare = pd.DataFrame({'Actual' : y_test, 'Predicted' : y_pred})\n",
    "df_compare.plot(title='GDP Actual vs Predicted')\n",
    "performance_metrics(y_test, y_pred)"
   ]
  }
 ],
 "metadata": {
  "kernelspec": {
   "display_name": "Python 3 (ipykernel)",
   "language": "python",
   "name": "python3"
  },
  "language_info": {
   "codemirror_mode": {
    "name": "ipython",
    "version": 3
   },
   "file_extension": ".py",
   "mimetype": "text/x-python",
   "name": "python",
   "nbconvert_exporter": "python",
   "pygments_lexer": "ipython3",
   "version": "3.9.7"
  }
 },
 "nbformat": 4,
 "nbformat_minor": 5
}
