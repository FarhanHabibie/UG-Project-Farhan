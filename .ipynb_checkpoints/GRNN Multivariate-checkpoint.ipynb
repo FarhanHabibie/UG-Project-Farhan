{
 "cells": [
  {
   "cell_type": "code",
   "execution_count": 1,
   "id": "167b7faa",
   "metadata": {},
   "outputs": [],
   "source": [
    "import numpy as np \n",
    "import pandas as pd\n",
    "from pyGRNN import GRNN\n",
    "from sklearn.model_selection import train_test_split\n",
    "from sklearn import preprocessing\n",
    "from sklearn.model_selection import GridSearchCV\n",
    "from sklearn.feature_selection import SelectFromModel\n",
    "from sklearn import metrics\n",
    "from sklearn import datasets\n",
    "from matplotlib import pyplot"
   ]
  },
  {
   "cell_type": "code",
   "execution_count": 2,
   "id": "007e9e7f",
   "metadata": {},
   "outputs": [],
   "source": [
    "pd.set_option('display.max_rows', 500)\n",
    "pd.set_option('display.max_columns', 500)\n",
    "pd.set_option('display.width', 1000)"
   ]
  },
  {
   "cell_type": "code",
   "execution_count": 3,
   "id": "bbbc3f5e",
   "metadata": {},
   "outputs": [],
   "source": [
    "def dataformat(pathname):\n",
    "    df = pd.read_excel(pathname)\n",
    "    df2 = df.drop(columns=['Country Name', 'Country Code'])\n",
    "    df2 = df2.dropna(axis=1, how='all')\n",
    "    \n",
    "    df3 = df2[[column for column in df2 if column not in ['GDP growth (annual %)']] + ['GDP growth (annual %)']]\n",
    "    \n",
    "    return df3"
   ]
  },
  {
   "cell_type": "code",
   "execution_count": 4,
   "id": "e76d22bd",
   "metadata": {},
   "outputs": [],
   "source": [
    "def performance_metrics(y_test, y_pred):\n",
    "    \n",
    "    sign1 = np.sign(np.array(y_test[1:]) - np.array(y_test[:-1]))\n",
    "    sign2 = np.sign(np.array(y_pred[1:]) - np.array(y_pred[:-1]))\n",
    "    rmse = np.sqrt(metrics.mean_squared_error(y_test, y_pred))\n",
    "    mape = np.mean(np.abs((y_test - y_pred) / y_test )) *100\n",
    "    mae = metrics.mean_absolute_error(y_test, y_pred)\n",
    "    r2 = metrics.r2_score(y_test, y_pred)\n",
    "    mda = np.mean((sign1 == sign2).astype(int))\n",
    "    mean = np.mean(y_test)\n",
    "    si = (rmse/mean)*100\n",
    "    \n",
    "    print(\"RMSE: \", rmse)\n",
    "    print(\"MAPE: \", mape)\n",
    "    print(\"MAE: \", mae)\n",
    "    print(\"Scatter Index: \", si)\n",
    "    print(\"MDA: \", mda)\n",
    "    print(\"Mean of actual: \", mean)"
   ]
  },
  {
   "cell_type": "code",
   "execution_count": 5,
   "id": "8d937244",
   "metadata": {},
   "outputs": [],
   "source": [
    "data = dataformat('/Users/farhanhabibie/Desktop/Farhan Thesis Code /UG-Project-Farhan/Multivariate More.xlsx')"
   ]
  },
  {
   "cell_type": "code",
   "execution_count": 6,
   "id": "9cf83714",
   "metadata": {},
   "outputs": [],
   "source": [
    "data2 = data.set_index('Year')"
   ]
  },
  {
   "cell_type": "code",
   "execution_count": 7,
   "id": "e7b9ebe9",
   "metadata": {},
   "outputs": [],
   "source": [
    "data3 = data2.fillna(data2.mean())"
   ]
  },
  {
   "cell_type": "code",
   "execution_count": 8,
   "id": "d814fe59",
   "metadata": {},
   "outputs": [],
   "source": [
    "X = data3[['Unemployment, female (% of female labor force) (modeled ILO estimate)', 'Foreign direct investment, net outflows (BoP, current US$).1', 'Portfolio investment, net (BoP, current US$).1', 'Foreign direct investment, net inflows (BoP, current US$).1', 'Portfolio equity, net inflows (BoP, current US$).1', 'S&P Global Equity Indices (annual % change)', 'Market capitalization of listed domestic companies (current US$)', 'Market capitalization of listed domestic companies (% of GDP)', 'Listed domestic companies, total', 'Stocks traded, turnover ratio of domestic shares (%)', 'Portfolio investment, bonds (PPG + PNG) (NFL, current US$)', 'Domestic credit to private sector by banks (% of GDP)', 'Bank liquid reserves to bank assets ratio (%)', 'Total reserves in months of imports', 'Claims on other sectors of the domestic economy (annual growth as % of broad money)', 'Net domestic credit (current LCU)', 'Net foreign assets (current LCU)', 'Broad money (current LCU)', 'Interest rate spread (lending rate minus deposit rate, %)', 'Claims on central government, etc. (% GDP)', 'Claims on other sectors of the domestic economy (% of GDP)', 'Domestic credit provided by financial sector (% of GDP)', 'Domestic credit to private sector (% of GDP)', 'Depth of credit information index (0=low to 8=high)', 'Private credit bureau coverage (% of adults)', 'Public credit registry coverage (% of adults)', 'Strength of legal rights index (0=weak to 12=strong)', 'Trade in services (% of GDP)', 'Imports of goods and services (BoP, current US$)', 'Foreign direct investment, net outflows (BoP, current US$)', 'Current account balance (% of GDP)', 'Net errors and omissions (BoP, current US$)', 'Exports of goods and services (BoP, current US$)', 'Goods exports (BoP, current US$)', 'Exports of goods, services and primary income (BoP, current US$)', 'Foreign direct investment, net inflows (BoP, current US$)', 'Portfolio equity, net inflows (BoP, current US$)', 'External debt stocks, total (DOD, current US$)', 'External debt stocks (% of GNI)', 'General government final consumption expenditure (annual % growth)', 'Exports of goods and services (annual % growth)', 'Changes in inventories (current US$)', 'External balance on goods and services (constant LCU)', 'Agriculture, forestry, and fishing, value added (annual % growth)', 'Adjusted savings: education expenditure (current US$)', 'Adjusted savings: carbon dioxide damage (current US$)', 'Adjusted savings: carbon dioxide damage (% of GNI)', 'Adjusted savings: consumption of fixed capital (current US$)', 'Adjusted savings: consumption of fixed capital (% of GNI)', 'Adjusted savings: mineral depletion (current US$)', 'Adjusted net national income (current US$)', 'Adjusted net national income per capita (annual % growth)', 'Discrepancy in expenditure estimate of GDP (constant LCU)', 'GDP, PPP (current international $)', 'GDP per capita growth (annual %)', 'GNI, Atlas method (current US$)', 'GNI growth (annual %)', 'GNI per capita, Atlas method (current US$)', 'GNI per capita growth (annual %)', 'Net primary income (Net income from abroad) (current US$)', 'Taxes less subsidies on products (current US$)', 'Taxes less subsidies on products (current LCU)', 'Net secondary income (Net current transfers from abroad) (current US$)', 'Net secondary income (Net current transfers from abroad) (current LCU)', 'PPP conversion factor, GDP (LCU per international $)']]\n",
    "#X = data3.iloc[:,:-1]\n",
    "y = data3.iloc[:, -1]"
   ]
  },
  {
   "cell_type": "code",
   "execution_count": 9,
   "id": "931e5149",
   "metadata": {},
   "outputs": [],
   "source": [
    "X_train, X_test, y_train, y_test = train_test_split(X, y, test_size=0.2, random_state=0, shuffle=False)"
   ]
  },
  {
   "cell_type": "code",
   "execution_count": 10,
   "id": "d553ebeb",
   "metadata": {},
   "outputs": [],
   "source": [
    "#StandardScaler as data follows normal dist\n",
    "\n",
    "scaler = preprocessing.StandardScaler()\n",
    "X_train_s = scaler.fit_transform(X_train)\n",
    "X_test_s = scaler.fit_transform(X_test)"
   ]
  },
  {
   "cell_type": "code",
   "execution_count": 15,
   "id": "5af2585b",
   "metadata": {},
   "outputs": [
    {
     "data": {
      "text/plain": [
       "GRNN(calibration='none', sigma=1.0)"
      ]
     },
     "execution_count": 15,
     "metadata": {},
     "output_type": "execute_result"
    }
   ],
   "source": [
    "model = GRNN(kernel='RBF',calibration='none', sigma=1.0)\n",
    "model.fit(X_train_s, y_train)"
   ]
  },
  {
   "cell_type": "code",
   "execution_count": 20,
   "id": "cc46b0fc",
   "metadata": {},
   "outputs": [],
   "source": [
    "y_pred = model.predict(X_test_s)"
   ]
  },
  {
   "cell_type": "code",
   "execution_count": 21,
   "id": "3cac2ab5",
   "metadata": {},
   "outputs": [
    {
     "name": "stdout",
     "output_type": "stream",
     "text": [
      "RMSE:  1.1474731617916811\n",
      "MAPE:  14.15275412881174\n",
      "MAE:  0.8098019262414898\n",
      "Scatter Index:  21.292734025008897\n",
      "MDA:  0.75\n",
      "Mean of actual:  5.389036280845581\n"
     ]
    },
    {
     "data": {
      "image/png": "[encoded data removed]",
      "text/plain": [
       "<Figure size 432x288 with 1 Axes>"
      ]
     },
     "metadata": {
      "needs_background": "light"
     },
     "output_type": "display_data"
    }
   ],
   "source": [
    "#Outputs\n",
    "df_compare = pd.DataFrame({'Actual' : y_test, 'Predicted' : y_pred})\n",
    "df_compare.plot(title='GDP growth Actual vs Predicted')\n",
    "performance_metrics(y_test, y_pred)"
   ]
  },
  {
   "cell_type": "code",
   "execution_count": 13,
   "id": "7b195942",
   "metadata": {},
   "outputs": [],
   "source": [
    "def tune_n(X, y):\n",
    "    hyperparam = {'kernel' : [\"RBF\"],\n",
    "                  'sigma' : list(np.arange(1, 5, 0.01)),\n",
    "                  'calibration' : ['None']\n",
    "                  }\n",
    "    \n",
    "    model = GRNN()\n",
    "    \n",
    "    gscv = GridSearchCV(estimator=model, param_grid=hyperparam,\n",
    "                       scoring='neg_mean_squared_error',\n",
    "                       verbose=1, cv=5)\n",
    "    \n",
    "    gscv.fit(X, y)\n",
    "    \n",
    "    print(\"best hyperparam:\", gscv.best_params_)"
   ]
  },
  {
   "cell_type": "code",
   "execution_count": 14,
   "id": "51629149",
   "metadata": {},
   "outputs": [
    {
     "name": "stdout",
     "output_type": "stream",
     "text": [
      "Fitting 5 folds for each of 400 candidates, totalling 2000 fits\n",
      "best hyperparam: {'calibration': 'None', 'kernel': 'RBF', 'sigma': 1.0}\n"
     ]
    }
   ],
   "source": [
    "tune_n(X_train, y_train) "
   ]
  },
  {
   "cell_type": "code",
   "execution_count": 16,
   "id": "6e63bdcb",
   "metadata": {},
   "outputs": [],
   "source": [
    "\"\"\"\n",
    "Feature Selection Solve\n",
    "\"\"\"\n",
    "\n",
    "from pyGRNN import feature_selection as FS\n",
    "\n",
    "featurenames = X.columns.values.tolist()\n",
    "\n",
    "#selector = FS.Isotropic_selector(bandwidth = 'rule-of-thumb')\n",
    "#selector.feat_selection(X.to_numpy(), y.ravel(), feature_names=featurenames, strategy='bfs', stop_criterion='first_min')"
   ]
  },
  {
   "cell_type": "code",
   "execution_count": 17,
   "id": "40a5e348",
   "metadata": {},
   "outputs": [],
   "source": [
    "from pyGRNN import feature_selection as FS\n",
    "\n",
    "#selector2 = FS.Isotropic_selector(bandwidth='rule-of-thumb')\n",
    "#selector2.feat_selection(X.to_numpy(), y.ravel(), feature_names=featurenames, strategy='ffs', stop_criterion='first_min')"
   ]
  },
  {
   "cell_type": "code",
   "execution_count": 18,
   "id": "616ad46f",
   "metadata": {},
   "outputs": [
    {
     "data": {
      "text/plain": [
       "'\\nDistribution plot\\n'"
      ]
     },
     "execution_count": 18,
     "metadata": {},
     "output_type": "execute_result"
    }
   ],
   "source": [
    "\"\"\"\n",
    "Distribution plot\n",
    "\"\"\"\n",
    "\n",
    "#data2.plot.hist(legend=False, figsize=(50,50))"
   ]
  }
 ],
 "metadata": {
  "kernelspec": {
   "display_name": "Python 3 (ipykernel)",
   "language": "python",
   "name": "python3"
  },
  "language_info": {
   "codemirror_mode": {
    "name": "ipython",
    "version": 3
   },
   "file_extension": ".py",
   "mimetype": "text/x-python",
   "name": "python",
   "nbconvert_exporter": "python",
   "pygments_lexer": "ipython3",
   "version": "3.9.7"
  }
 },
 "nbformat": 4,
 "nbformat_minor": 5
}
