{
 "cells": [
  {
   "cell_type": "code",
   "execution_count": 1,
   "id": "6e737e8b",
   "metadata": {},
   "outputs": [
    {
     "data": {
      "text/plain": [
       "'\\nThe method for this comes from \\n\\nxhttps://cprosenjit.medium.com/multivariate-time-series-forecasting-using-xgboost-1728762a9eeb\\n'"
      ]
     },
     "execution_count": 1,
     "metadata": {},
     "output_type": "execute_result"
    }
   ],
   "source": [
    "\"\"\"\n",
    "The method for this comes from \n",
    "\n",
    "xhttps://cprosenjit.medium.com/multivariate-time-series-forecasting-using-xgboost-1728762a9eeb\n",
    "\"\"\""
   ]
  },
  {
   "cell_type": "code",
   "execution_count": 32,
   "id": "5f95523b",
   "metadata": {},
   "outputs": [],
   "source": [
    "import numpy as np\n",
    "import xgboost\n",
    "import pandas as pd\n",
    "from xgboost import XGBRegressor\n",
    "from xgboost import plot_importance\n",
    "import sklearn\n",
    "from sklearn import metrics\n",
    "from sklearn.model_selection import train_test_split\n",
    "from sklearn.model_selection import GridSearchCV\n",
    "from sklearn.preprocessing import StandardScaler\n",
    "import matplotlib.pyplot as plt\n",
    "from statsmodels.graphics.tsaplots import plot_acf\n",
    "from sklearn.inspection import permutation_importance\n",
    "from sklearn.feature_selection import SelectFromModel"
   ]
  },
  {
   "cell_type": "code",
   "execution_count": 33,
   "id": "b94f1871",
   "metadata": {},
   "outputs": [
    {
     "name": "stdout",
     "output_type": "stream",
     "text": [
      "The scikit-learn version is 1.0.2.\n",
      "The scikit-learn version is 1.5.1.\n"
     ]
    }
   ],
   "source": [
    "print('The scikit-learn version is {}.'.format(sklearn.__version__))\n",
    "print('The scikit-learn version is {}.'.format(xgboost.__version__))"
   ]
  },
  {
   "cell_type": "code",
   "execution_count": 4,
   "id": "72cb7738",
   "metadata": {},
   "outputs": [],
   "source": [
    "pd.set_option('display.max_rows', 500)\n",
    "pd.set_option('display.max_columns', 500)\n",
    "pd.set_option('display.width', 1000)"
   ]
  },
  {
   "cell_type": "code",
   "execution_count": 5,
   "id": "bb3f666a",
   "metadata": {},
   "outputs": [],
   "source": [
    "def format_data(path):\n",
    "    df = pd.read_excel(path)\n",
    "    df2 = df.drop(columns=['Country Name', 'Country Code'])\n",
    "    df2 = df2.dropna(axis=1, how='all')\n",
    "    \n",
    "    #Have to shift GDP Growth to last column because that will be the target\n",
    "    #Refactored from stackoverflow\n",
    "    df3 = df2[[column for column in df2 if column not in ['GDP growth (annual %)']] + ['GDP growth (annual %)']]\n",
    "    \n",
    "    return df3"
   ]
  },
  {
   "cell_type": "code",
   "execution_count": 6,
   "id": "c62d684d",
   "metadata": {},
   "outputs": [],
   "source": [
    "def fill_na(data):\n",
    "    df4 = data.fillna(data.mean())\n",
    "    return df4"
   ]
  },
  {
   "cell_type": "code",
   "execution_count": 7,
   "id": "77de3a20",
   "metadata": {},
   "outputs": [],
   "source": [
    "def x_and_y(data):\n",
    "    X = data.iloc[:,:-1]\n",
    "    y = data.iloc[: ,-1]\n",
    "    \n",
    "    return X, y"
   ]
  },
  {
   "cell_type": "code",
   "execution_count": 8,
   "id": "981b6b44",
   "metadata": {},
   "outputs": [],
   "source": [
    "def train_test_split_func(X, y):\n",
    "    X_train, X_test, y_train, y_test = train_test_split(X, y, test_size=0.2, random_state=0, shuffle=False)\n",
    "    \n",
    "    return X_train, X_test, y_train, y_test"
   ]
  },
  {
   "cell_type": "code",
   "execution_count": 9,
   "id": "c0e15008",
   "metadata": {},
   "outputs": [],
   "source": [
    "def xgb(X_train, y_train, X_test):\n",
    "    \n",
    "    model = XGBRegressor(objective='reg:squarederror', n_estimators=1000, max_depth=6, learning_rate=0.3)\n",
    "    model.fit(X_train, y_train)\n",
    "    \n",
    "    #plot_importance(model)\n",
    "        \n",
    "    y_pred = model.predict(X_test)\n",
    "    \n",
    "    return model, y_pred"
   ]
  },
  {
   "cell_type": "code",
   "execution_count": 10,
   "id": "06ef06c7",
   "metadata": {},
   "outputs": [],
   "source": [
    "def scale(X_train, X_test):\n",
    "    scaler = StandardScaler().fit(X_train)\n",
    "    \n",
    "    X_train = scaler.transform(X_train)\n",
    "    X_test = scaler.transform(X_test)\n",
    "    \n",
    "    return X_train, X_test"
   ]
  },
  {
   "cell_type": "code",
   "execution_count": 29,
   "id": "24e1a996",
   "metadata": {},
   "outputs": [],
   "source": [
    "def feature_selected(model, featurelist):\n",
    "    \n",
    "    selection = SelectFromModel(model, threshold=0.003, prefit=True)\n",
    "    select_X_train = selection.transform(X_train)\n",
    "        \n",
    "    selection_model = XGBRegressor(objective='reg:squarederror', n_estimators=1000, max_depth=6, learning_rate=0.3)\n",
    "    selection_model.fit(select_X_train, y_train)\n",
    "        \n",
    "    select_X_test = selection.transform(X_test)\n",
    "    y_pred = selection_model.predict(select_X_test)\n",
    "    \n",
    "    #print(selection.get_feature_names_out())\n",
    "    \n",
    "    selection_model.get_booster().feature_names = featurelist\n",
    "    plot_importance(selection_model.get_booster())\n",
    "            \n",
    "    return y_pred"
   ]
  },
  {
   "cell_type": "code",
   "execution_count": 12,
   "id": "5c35d031",
   "metadata": {},
   "outputs": [],
   "source": [
    "def performance_metrics(y_test, y_pred):\n",
    "    \n",
    "    sign1 = np.sign(np.array(y_test[1:]) - np.array(y_test[:-1]))\n",
    "    sign2 = np.sign(np.array(y_pred[1:]) - np.array(y_pred[:-1]))\n",
    "    rmse = np.sqrt(metrics.mean_squared_error(y_test, y_pred))\n",
    "    mape = np.mean(np.abs((y_test - y_pred) / y_test )) *100\n",
    "    mae = metrics.mean_absolute_error(y_test, y_pred)\n",
    "    r2 = metrics.r2_score(y_test, y_pred)\n",
    "    mda = np.mean((sign1 == sign2).astype(int))\n",
    "    mean = np.mean(y_test)\n",
    "    si = (rmse/mean)*100\n",
    "    \n",
    "    print(\"RMSE: \", rmse)\n",
    "    print(\"MAPE: \", mape)\n",
    "    print(\"MAE: \", mae)\n",
    "    print(\"Scatter Index: \", si)\n",
    "    print(\"MDA: \", mda)\n",
    "    print(\"Mean of actual: \", mean)"
   ]
  },
  {
   "cell_type": "code",
   "execution_count": 13,
   "id": "1032b058",
   "metadata": {},
   "outputs": [],
   "source": [
    "#Get the data\n",
    "data = format_data('/Users/farhanhabibie/Desktop/Farhan Thesis Code /UG-Project-Farhan/Multivariate More.xlsx')"
   ]
  },
  {
   "cell_type": "code",
   "execution_count": 14,
   "id": "a77fc058",
   "metadata": {},
   "outputs": [],
   "source": [
    "#Fill all NA with mean imputation\n",
    "filled = fill_na(data)"
   ]
  },
  {
   "cell_type": "code",
   "execution_count": 15,
   "id": "6dbb72d7",
   "metadata": {},
   "outputs": [],
   "source": [
    "filled = filled.set_index('Year')"
   ]
  },
  {
   "cell_type": "code",
   "execution_count": 16,
   "id": "2c4554c9",
   "metadata": {},
   "outputs": [],
   "source": [
    "#Getting the features\n",
    "X, y = x_and_y(filled)"
   ]
  },
  {
   "cell_type": "code",
   "execution_count": 17,
   "id": "43fec2fc",
   "metadata": {},
   "outputs": [],
   "source": [
    "#Split into train test\n",
    "X_train, X_test, y_train, y_test = train_test_split_func(X, y)"
   ]
  },
  {
   "cell_type": "code",
   "execution_count": 18,
   "id": "c94d2fb6",
   "metadata": {},
   "outputs": [],
   "source": [
    "#Scale\n",
    "X_train_s, X_test_s = scale(X_train, X_test)"
   ]
  },
  {
   "cell_type": "code",
   "execution_count": 19,
   "id": "2264b60d",
   "metadata": {},
   "outputs": [],
   "source": [
    "#Make prediction before feature selection\n",
    "model, y_pred = xgb(X_train, y_train, X_test)"
   ]
  },
  {
   "cell_type": "code",
   "execution_count": 30,
   "id": "d13ff360",
   "metadata": {},
   "outputs": [
    {
     "name": "stderr",
     "output_type": "stream",
     "text": [
      "/Users/farhanhabibie/opt/anaconda3/lib/python3.9/site-packages/sklearn/base.py:443: UserWarning: X has feature names, but SelectFromModel was fitted without feature names\n",
      "  warnings.warn(\n",
      "/Users/farhanhabibie/opt/anaconda3/lib/python3.9/site-packages/sklearn/base.py:443: UserWarning: X has feature names, but SelectFromModel was fitted without feature names\n",
      "  warnings.warn(\n"
     ]
    },
    {
     "ename": "XGBoostError",
     "evalue": "[01:22:58] /Users/runner/miniforge3/conda-bld/xgboost-split_1645117948562/work/src/c_api/c_api_utils.h:224: Check failed: feature_names.size() == n_features (301 vs. 12) : Incorrect number of feature names.\nStack trace:\n  [bt] (0) 1   libxgboost.dylib                    0x000000016390f364 dmlc::LogMessageFatal::~LogMessageFatal() + 116\n  [bt] (1) 2   libxgboost.dylib                    0x000000016391c2c6 xgboost::GenerateFeatureMap(xgboost::Learner const*, std::__1::vector<xgboost::Json, std::__1::allocator<xgboost::Json> > const&, unsigned long, xgboost::FeatureMap*) + 902\n  [bt] (2) 3   libxgboost.dylib                    0x000000016391eb09 XGBoosterFeatureScore + 1689\n  [bt] (3) 4   libffi.7.dylib                      0x000000010db2eead ffi_call_unix64 + 85\n\n",
     "output_type": "error",
     "traceback": [
      "\u001b[0;31m---------------------------------------------------------------------------\u001b[0m",
      "\u001b[0;31mXGBoostError\u001b[0m                              Traceback (most recent call last)",
      "\u001b[0;32m/var/folders/v0/1429v7750zg8ldkmjbj1w8gw0000gn/T/ipykernel_63840/2192223839.py\u001b[0m in \u001b[0;36m<module>\u001b[0;34m\u001b[0m\n\u001b[0;32m----> 1\u001b[0;31m \u001b[0my_pred_select\u001b[0m \u001b[0;34m=\u001b[0m \u001b[0mfeature_selected\u001b[0m\u001b[0;34m(\u001b[0m\u001b[0mmodel\u001b[0m\u001b[0;34m,\u001b[0m \u001b[0mX_train\u001b[0m\u001b[0;34m.\u001b[0m\u001b[0mcolumns\u001b[0m\u001b[0;34m.\u001b[0m\u001b[0mvalues\u001b[0m\u001b[0;34m.\u001b[0m\u001b[0mtolist\u001b[0m\u001b[0;34m(\u001b[0m\u001b[0;34m)\u001b[0m\u001b[0;34m)\u001b[0m\u001b[0;34m\u001b[0m\u001b[0;34m\u001b[0m\u001b[0m\n\u001b[0m",
      "\u001b[0;32m/var/folders/v0/1429v7750zg8ldkmjbj1w8gw0000gn/T/ipykernel_63840/603956771.py\u001b[0m in \u001b[0;36mfeature_selected\u001b[0;34m(model, featurelist)\u001b[0m\n\u001b[1;32m     13\u001b[0m \u001b[0;34m\u001b[0m\u001b[0m\n\u001b[1;32m     14\u001b[0m     \u001b[0mselection_model\u001b[0m\u001b[0;34m.\u001b[0m\u001b[0mget_booster\u001b[0m\u001b[0;34m(\u001b[0m\u001b[0;34m)\u001b[0m\u001b[0;34m.\u001b[0m\u001b[0mfeature_names\u001b[0m \u001b[0;34m=\u001b[0m \u001b[0mfeaturelist\u001b[0m\u001b[0;34m\u001b[0m\u001b[0;34m\u001b[0m\u001b[0m\n\u001b[0;32m---> 15\u001b[0;31m     \u001b[0mplot_importance\u001b[0m\u001b[0;34m(\u001b[0m\u001b[0mselection_model\u001b[0m\u001b[0;34m.\u001b[0m\u001b[0mget_booster\u001b[0m\u001b[0;34m(\u001b[0m\u001b[0;34m)\u001b[0m\u001b[0;34m)\u001b[0m\u001b[0;34m\u001b[0m\u001b[0;34m\u001b[0m\u001b[0m\n\u001b[0m\u001b[1;32m     16\u001b[0m \u001b[0;34m\u001b[0m\u001b[0m\n\u001b[1;32m     17\u001b[0m     \u001b[0;32mreturn\u001b[0m \u001b[0my_pred\u001b[0m\u001b[0;34m\u001b[0m\u001b[0;34m\u001b[0m\u001b[0m\n",
      "\u001b[0;32m~/opt/anaconda3/lib/python3.9/site-packages/xgboost/plotting.py\u001b[0m in \u001b[0;36mplot_importance\u001b[0;34m(booster, ax, height, xlim, ylim, title, xlabel, ylabel, fmap, importance_type, max_num_features, grid, show_values, **kwargs)\u001b[0m\n\u001b[1;32m     65\u001b[0m             importance_type=importance_type, fmap=fmap)\n\u001b[1;32m     66\u001b[0m     \u001b[0;32melif\u001b[0m \u001b[0misinstance\u001b[0m\u001b[0;34m(\u001b[0m\u001b[0mbooster\u001b[0m\u001b[0;34m,\u001b[0m \u001b[0mBooster\u001b[0m\u001b[0;34m)\u001b[0m\u001b[0;34m:\u001b[0m\u001b[0;34m\u001b[0m\u001b[0;34m\u001b[0m\u001b[0m\n\u001b[0;32m---> 67\u001b[0;31m         \u001b[0mimportance\u001b[0m \u001b[0;34m=\u001b[0m \u001b[0mbooster\u001b[0m\u001b[0;34m.\u001b[0m\u001b[0mget_score\u001b[0m\u001b[0;34m(\u001b[0m\u001b[0mimportance_type\u001b[0m\u001b[0;34m=\u001b[0m\u001b[0mimportance_type\u001b[0m\u001b[0;34m,\u001b[0m \u001b[0mfmap\u001b[0m\u001b[0;34m=\u001b[0m\u001b[0mfmap\u001b[0m\u001b[0;34m)\u001b[0m\u001b[0;34m\u001b[0m\u001b[0;34m\u001b[0m\u001b[0m\n\u001b[0m\u001b[1;32m     68\u001b[0m     \u001b[0;32melif\u001b[0m \u001b[0misinstance\u001b[0m\u001b[0;34m(\u001b[0m\u001b[0mbooster\u001b[0m\u001b[0;34m,\u001b[0m \u001b[0mdict\u001b[0m\u001b[0;34m)\u001b[0m\u001b[0;34m:\u001b[0m\u001b[0;34m\u001b[0m\u001b[0;34m\u001b[0m\u001b[0m\n\u001b[1;32m     69\u001b[0m         \u001b[0mimportance\u001b[0m \u001b[0;34m=\u001b[0m \u001b[0mbooster\u001b[0m\u001b[0;34m\u001b[0m\u001b[0;34m\u001b[0m\u001b[0m\n",
      "\u001b[0;32m~/opt/anaconda3/lib/python3.9/site-packages/xgboost/core.py\u001b[0m in \u001b[0;36mget_score\u001b[0;34m(self, fmap, importance_type)\u001b[0m\n\u001b[1;32m   2328\u001b[0m         \u001b[0mshape\u001b[0m \u001b[0;34m=\u001b[0m \u001b[0mctypes\u001b[0m\u001b[0;34m.\u001b[0m\u001b[0mPOINTER\u001b[0m\u001b[0;34m(\u001b[0m\u001b[0mc_bst_ulong\u001b[0m\u001b[0;34m)\u001b[0m\u001b[0;34m(\u001b[0m\u001b[0;34m)\u001b[0m\u001b[0;34m\u001b[0m\u001b[0;34m\u001b[0m\u001b[0m\n\u001b[1;32m   2329\u001b[0m \u001b[0;34m\u001b[0m\u001b[0m\n\u001b[0;32m-> 2330\u001b[0;31m         _check_call(\n\u001b[0m\u001b[1;32m   2331\u001b[0m             _LIB.XGBoosterFeatureScore(\n\u001b[1;32m   2332\u001b[0m                 \u001b[0mself\u001b[0m\u001b[0;34m.\u001b[0m\u001b[0mhandle\u001b[0m\u001b[0;34m,\u001b[0m\u001b[0;34m\u001b[0m\u001b[0;34m\u001b[0m\u001b[0m\n",
      "\u001b[0;32m~/opt/anaconda3/lib/python3.9/site-packages/xgboost/core.py\u001b[0m in \u001b[0;36m_check_call\u001b[0;34m(ret)\u001b[0m\n\u001b[1;32m    216\u001b[0m     \"\"\"\n\u001b[1;32m    217\u001b[0m     \u001b[0;32mif\u001b[0m \u001b[0mret\u001b[0m \u001b[0;34m!=\u001b[0m \u001b[0;36m0\u001b[0m\u001b[0;34m:\u001b[0m\u001b[0;34m\u001b[0m\u001b[0;34m\u001b[0m\u001b[0m\n\u001b[0;32m--> 218\u001b[0;31m         \u001b[0;32mraise\u001b[0m \u001b[0mXGBoostError\u001b[0m\u001b[0;34m(\u001b[0m\u001b[0mpy_str\u001b[0m\u001b[0;34m(\u001b[0m\u001b[0m_LIB\u001b[0m\u001b[0;34m.\u001b[0m\u001b[0mXGBGetLastError\u001b[0m\u001b[0;34m(\u001b[0m\u001b[0;34m)\u001b[0m\u001b[0;34m)\u001b[0m\u001b[0;34m)\u001b[0m\u001b[0;34m\u001b[0m\u001b[0;34m\u001b[0m\u001b[0m\n\u001b[0m\u001b[1;32m    219\u001b[0m \u001b[0;34m\u001b[0m\u001b[0m\n\u001b[1;32m    220\u001b[0m \u001b[0;34m\u001b[0m\u001b[0m\n",
      "\u001b[0;31mXGBoostError\u001b[0m: [01:22:58] /Users/runner/miniforge3/conda-bld/xgboost-split_1645117948562/work/src/c_api/c_api_utils.h:224: Check failed: feature_names.size() == n_features (301 vs. 12) : Incorrect number of feature names.\nStack trace:\n  [bt] (0) 1   libxgboost.dylib                    0x000000016390f364 dmlc::LogMessageFatal::~LogMessageFatal() + 116\n  [bt] (1) 2   libxgboost.dylib                    0x000000016391c2c6 xgboost::GenerateFeatureMap(xgboost::Learner const*, std::__1::vector<xgboost::Json, std::__1::allocator<xgboost::Json> > const&, unsigned long, xgboost::FeatureMap*) + 902\n  [bt] (2) 3   libxgboost.dylib                    0x000000016391eb09 XGBoosterFeatureScore + 1689\n  [bt] (3) 4   libffi.7.dylib                      0x000000010db2eead ffi_call_unix64 + 85\n\n"
     ]
    }
   ],
   "source": [
    "y_pred_select = feature_selected(model, X_train.columns.values.tolist())"
   ]
  },
  {
   "cell_type": "code",
   "execution_count": 21,
   "id": "3dccf3aa",
   "metadata": {},
   "outputs": [
    {
     "name": "stdout",
     "output_type": "stream",
     "text": [
      "RMSE:  0.3103662444992456\n",
      "MAPE:  4.710847116842862\n",
      "MAE:  0.2469304641813189\n",
      "Scatter Index:  5.759216088457039\n",
      "MDA:  0.75\n",
      "Mean of actual:  5.389036280845581\n"
     ]
    },
    {
     "data": {
      "image/png": "[encoded data removed]",
      "text/plain": [
       "<Figure size 432x288 with 1 Axes>"
      ]
     },
     "metadata": {
      "needs_background": "light"
     },
     "output_type": "display_data"
    }
   ],
   "source": [
    "#Outputs\n",
    "df_compare = pd.DataFrame({'Actual' : y_test, 'Predicted' : y_pred_select})\n",
    "df_compare.plot(title='GDP growth Actual vs Predicted')\n",
    "performance_metrics(y_test, y_pred_select)"
   ]
  },
  {
   "cell_type": "code",
   "execution_count": 22,
   "id": "3f950c54",
   "metadata": {},
   "outputs": [],
   "source": [
    "def tune_n_estimator(X, y):\n",
    "    hyperparam = {'max_depth': [1,2,3,4,5,10],\n",
    "                 'learning_rate': [0.01, 0.05, 0.1, 0.15, 0.2, 0.25, 0.3],\n",
    "                 'n_estimators': [5,10,20,50,100,1000]}\n",
    "    \n",
    "    model = XGBRegressor()\n",
    "    \n",
    "    gscv = GridSearchCV(estimator=model, param_grid=hyperparam,\n",
    "                       scoring='neg_mean_squared_error',\n",
    "                       verbose=1)\n",
    "    \n",
    "    gscv.fit(X, y)\n",
    "    \n",
    "    print(\"best hyperparam:\", gscv.best_params_)"
   ]
  },
  {
   "cell_type": "code",
   "execution_count": 23,
   "id": "325bc476",
   "metadata": {},
   "outputs": [],
   "source": [
    "#tune_n_estimator(X,y)"
   ]
  }
 ],
 "metadata": {
  "kernelspec": {
   "display_name": "Python 3 (ipykernel)",
   "language": "python",
   "name": "python3"
  },
  "language_info": {
   "codemirror_mode": {
    "name": "ipython",
    "version": 3
   },
   "file_extension": ".py",
   "mimetype": "text/x-python",
   "name": "python",
   "nbconvert_exporter": "python",
   "pygments_lexer": "ipython3",
   "version": "3.9.7"
  }
 },
 "nbformat": 4,
 "nbformat_minor": 5
}
