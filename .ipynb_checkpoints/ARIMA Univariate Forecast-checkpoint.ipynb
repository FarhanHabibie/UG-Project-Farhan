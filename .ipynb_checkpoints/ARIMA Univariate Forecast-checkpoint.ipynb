{
 "cells": [
  {
   "cell_type": "code",
   "execution_count": 1,
   "id": "01c61c4c",
   "metadata": {},
   "outputs": [],
   "source": [
    "import pandas as pd\n",
    "import numpy as np\n",
    "from statsmodels.tsa.stattools import adfuller\n",
    "from statsmodels.tsa.arima_model import ARIMA\n",
    "from statsmodels.graphics.tsaplots import plot_acf, plot_pacf\n",
    "import matplotlib.pyplot as plt "
   ]
  },
  {
   "cell_type": "code",
   "execution_count": 2,
   "id": "531f050d",
   "metadata": {},
   "outputs": [],
   "source": [
    "pd.set_option('display.max_rows', 500)\n",
    "pd.set_option('display.max_columns', 500)\n",
    "pd.set_option('display.width', 1000)"
   ]
  },
  {
   "cell_type": "code",
   "execution_count": 3,
   "id": "b12d51fa",
   "metadata": {},
   "outputs": [],
   "source": [
    "def read_data(pathname, indicatorcode):\n",
    "    df = pd.read_excel(pathname)\n",
    "    \n",
    "    df2 = df.loc[df['Indicator Code'] == indicatorcode]\n",
    "    \n",
    "    #Dropping these columns as they are not needed for the forecast\n",
    "    df2 = df2.drop(columns=['Country Name', 'Country Code', 'Indicator Name', 'Indicator Code'])\n",
    "    \n",
    "    df3 = df2.swapaxes('index', 'columns')\n",
    "    \n",
    "    return df3"
   ]
  },
  {
   "cell_type": "code",
   "execution_count": 4,
   "id": "7a0ceb81",
   "metadata": {},
   "outputs": [],
   "source": [
    "def shift_dataframe(data):\n",
    "    #The value in \"shift(-x)\" is the lookback period in this case 1.\n",
    "    data[\"Target\"] = data.Val.shift(-1)\n",
    "    data.dropna(inplace=True)\n",
    "    \n",
    "    return data"
   ]
  },
  {
   "cell_type": "code",
   "execution_count": 56,
   "id": "3c33570d",
   "metadata": {},
   "outputs": [],
   "source": [
    "data = read_data('/Users/farhanhabibie/Desktop/Farhan Thesis Code /UG-Project-Farhan/Indonesia Macro Dataset.xlsx', \n",
    "                     'FR.INR.RINR')"
   ]
  },
  {
   "cell_type": "code",
   "execution_count": 59,
   "id": "05853a8e",
   "metadata": {},
   "outputs": [
    {
     "data": {
      "image/png": "[encoded data removed]",
      "text/plain": [
       "<Figure size 432x288 with 1 Axes>"
      ]
     },
     "metadata": {
      "needs_background": "light"
     },
     "output_type": "display_data"
    },
    {
     "name": "stdout",
     "output_type": "stream",
     "text": [
      "ADF Statistic: -5.858947199917669\n",
      "p-value: 0.000000\n",
      "Critical Values:\n",
      "\t1%: -3.6461350877925254\n",
      "\t5%: -2.954126991123355\n",
      "\t10%: -2.6159676124885216\n"
     ]
    },
    {
     "data": {
      "text/plain": [
       "'\\nSince the p-value is much lower than the significance level (0.05) and the ADF Statistic is lower\\nthan the critical values shown, we can infer that the time series is stationary\\n\\nHowever, unemployment Male and Female are both non-stationary\\n'"
      ]
     },
     "execution_count": 59,
     "metadata": {},
     "output_type": "execute_result"
    }
   ],
   "source": [
    "\"\"\"\n",
    "Method for this block of code comes both:\n",
    "\n",
    "https://towardsdatascience.com/machine-learning-part-19-time-series-and-autoregressive-integrated-moving-average-model-arima-c1005347b0d7\n",
    "https://www.machinelearningplus.com/time-series/arima-model-time-series-forecasting-python/\n",
    "\"\"\"\n",
    "    \n",
    "#Find out if the data is stationary or not\n",
    "#Using Rolling Statistics (Rolling Mean and Rolling Std)\n",
    "rolling_mean = data.rolling(window=12).mean()\n",
    "rolling_std = data.rolling(window=12).std()\n",
    "\n",
    "plt.plot(data, color='blue', label='Original')\n",
    "plt.plot(rolling_mean, color='red', label='Rolling Mean')\n",
    "plt.plot(rolling_std, color='green', label='Rolling Std')\n",
    "plt.legend(loc='best')\n",
    "plt.title('Rolling Mean and Rolling Std against Original')\n",
    "plt.show()\n",
    "\n",
    "\"\"\"\n",
    "From what can be seen with the naked eye, the rolling mean and rolling std does not see to\n",
    "increase obviously with time, therefore we can conclude that the time series is stationary\n",
    "\"\"\"\n",
    "\n",
    "#Augmented Dickey-Fuller Test:\n",
    "result = adfuller(data.dropna())\n",
    "print('ADF Statistic: {}'.format(result[0]))\n",
    "#print(f'p-value: {result[1]}')\n",
    "print('p-value: %f' % result[1])\n",
    "print('Critical Values:')\n",
    "for key, value in result[4].items():\n",
    "    print('\\t{}: {}'.format(key, value))\n",
    "    \n",
    "\"\"\"\n",
    "Since the p-value is much lower than the significance level (0.05) and the ADF Statistic is lower\n",
    "than the critical values shown, we can infer that the time series is stationary\n",
    "\n",
    "However, unemployment Male and Female are both non-stationary\n",
    "\"\"\"\n"
   ]
  },
  {
   "cell_type": "code",
   "execution_count": 61,
   "id": "95c3bc0c",
   "metadata": {},
   "outputs": [],
   "source": [
    "def stationarityTest(data):\n",
    "    \n",
    "    #Find out if the data is stationary or not\n",
    "    #Using Rolling Statistics (Rolling Mean and Rolling Std)\n",
    "    rolling_mean = data.rolling(window=10).mean()\n",
    "    rolling_std = data.rolling(window=10).std()\n",
    "    \n",
    "    plt.plot(data, color='blue', label='original')\n",
    "    plt.plot(rolling_mean, color='red', label='Rolling Mean')\n",
    "    plt.plot(rolling_std, color='green', label='Rolling Std')\n",
    "    plt.legend(loc='best')\n",
    "    plt.title('RM vs RSTD vs ORI')\n",
    "    \n",
    "    #Augmented Dickey-Fuller Test\n",
    "    result = adfuller(data.dropna())\n",
    "    print('ADF Statistic: {}'.format(result[0]))\n",
    "    #print(f'p-value: {result[1]}')\n",
    "    print('p-value: %f' % result[1])\n",
    "    print('Critical Values:')\n",
    "    for key, value in result[4].items():\n",
    "        print('\\t{}: {}'.format(key, value))"
   ]
  },
  {
   "cell_type": "code",
   "execution_count": null,
   "id": "0be778a4",
   "metadata": {},
   "outputs": [],
   "source": []
  },
  {
   "cell_type": "code",
   "execution_count": null,
   "id": "3bdebc9c",
   "metadata": {},
   "outputs": [],
   "source": [
    "def make_stationary(data):\n",
    "    "
   ]
  },
  {
   "cell_type": "code",
   "execution_count": null,
   "id": "1c9d77f1",
   "metadata": {},
   "outputs": [],
   "source": [
    "#Find AR (p), differencing order(d), MA(q)\n"
   ]
  }
 ],
 "metadata": {
  "kernelspec": {
   "display_name": "Python 3 (ipykernel)",
   "language": "python",
   "name": "python3"
  },
  "language_info": {
   "codemirror_mode": {
    "name": "ipython",
    "version": 3
   },
   "file_extension": ".py",
   "mimetype": "text/x-python",
   "name": "python",
   "nbconvert_exporter": "python",
   "pygments_lexer": "ipython3",
   "version": "3.9.7"
  }
 },
 "nbformat": 4,
 "nbformat_minor": 5
}
